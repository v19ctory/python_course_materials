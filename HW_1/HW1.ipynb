{
  "cells": [
    {
      "cell_type": "markdown",
      "id": "ef43214b",
      "metadata": {
        "id": "ef43214b"
      },
      "source": [
        "# 0. Наибольший общий делитель - 1 балл\n",
        "Напишите функцию, которая на вход принимает два целых числа, а на выходе отдает их наибольших общий делитель. \n",
        "\n",
        "Пример\n",
        "\n",
        "Ввод \n",
        "\n",
        "`lcd(10,2)`\n",
        "\n",
        "Вывод\n",
        "\n",
        "`2`\n",
        "\n",
        "Пример\n",
        "\n",
        "Ввод \n",
        "\n",
        "`lcd(10,25)`\n",
        "\n",
        "Вывод\n",
        "\n",
        "`5`"
      ]
    },
    {
      "cell_type": "code",
      "execution_count": 15,
      "id": "d227561c",
      "metadata": {
        "id": "d227561c"
      },
      "outputs": [],
      "source": [
        "def lcd(a,b):\n",
        "    a1 = [x for x in range (1,a+1) if a%x == 0]\n",
        "    b1 = [x for x in range (1,b+1) if b%x == 0]\n",
        "    result=list(set(a1) & set(b1))\n",
        "    return max(result)"
      ]
    },
    {
      "cell_type": "code",
      "source": [
        "print(lcd(10,2))\n",
        "print(lcd(10,25))"
      ],
      "metadata": {
        "id": "DSYI8plfe61B",
        "outputId": "49ce6a88-a06a-4903-ec2a-a4d2337b0886",
        "colab": {
          "base_uri": "https://localhost:8080/"
        }
      },
      "id": "DSYI8plfe61B",
      "execution_count": 17,
      "outputs": [
        {
          "output_type": "stream",
          "name": "stdout",
          "text": [
            "2\n",
            "5\n"
          ]
        }
      ]
    },
    {
      "cell_type": "markdown",
      "id": "777171f3",
      "metadata": {
        "id": "777171f3"
      },
      "source": [
        "# 1. Задачка про перевод из `camel_case`'a в `snake_case` - 1.5 балла\n",
        " Напишите функцию, которая на вход принимает строку, записанную в `CamelCase`, а переводит ее в `snake_case`.\n",
        " Подсказка: идите по строке циклом, обрабатывайте каждый символ, если символ заглавный, к обработанным ранее добавляйте нижнее подчеркивание и нынешний переводите в `lower case` \n",
        " \n",
        " Пример:\n",
        "\n",
        "**Вход**: `'camelCaseVar'`\n",
        "\n",
        "**Выход**: `'camel_сase_var'`"
      ]
    },
    {
      "cell_type": "code",
      "execution_count": 42,
      "id": "5e4c1ced",
      "metadata": {
        "id": "5e4c1ced"
      },
      "outputs": [],
      "source": [
        "def lower_case(a):\n",
        "    for i in range(len(a)-1,-1,-1):\n",
        "        if a[i].islower() == False:\n",
        "            a = a[:i]+'_'+a[i:]\n",
        "    a = a.lower()\n",
        "    return a"
      ]
    },
    {
      "cell_type": "code",
      "source": [
        "lower_case('camelCaseVar')"
      ],
      "metadata": {
        "id": "Fr9OuvSXjM_7",
        "outputId": "6fb60af0-4110-41ea-b750-47ce10336ca9",
        "colab": {
          "base_uri": "https://localhost:8080/",
          "height": 36
        }
      },
      "id": "Fr9OuvSXjM_7",
      "execution_count": 44,
      "outputs": [
        {
          "output_type": "execute_result",
          "data": {
            "text/plain": [
              "'camel_case_var'"
            ],
            "application/vnd.google.colaboratory.intrinsic+json": {
              "type": "string"
            }
          },
          "metadata": {},
          "execution_count": 44
        }
      ]
    },
    {
      "cell_type": "markdown",
      "id": "929847a2",
      "metadata": {
        "id": "929847a2"
      },
      "source": [
        "# 2. Про Поросёнка Петра - 2 балла\n",
        "На плоскости в точке `(0,0)` стоит Поросёнок Пётр. Он умеет ходить налево, направо, вверх и вниз. Расстояние его прохода в какую-либо сторону измеряется в шагах. Когда он идет вправо, его первая координата увеличивается, когда влево - уменьшается. Когда он идет вверх, его вторая координата увеличивается, а когда вниз - уменьшается.\n",
        "С клавиатуры считывается число `N` - число ходов, которые сделает Пётр. После чего на каждом шаге спрашивается, сколько шагов и в какую сторону за этот ход Пётр сделает. Так происходит, пока Пётр не осуществит все N ходов.\n",
        "Программа должна вывести, сколько шагов Пётр должен был бы сделать, чтобы кратчайшим путем прибыть из свое начальной точки `(0,0)` в свою конечную точку. \n",
        "\n",
        "Напоминание: Пётр умеет ходить только вверх-вниз, и влево-вправо, но не по диагонали.\n",
        "\n",
        "Пример ввода:\n",
        "\n",
        "Введите N: `3`\n",
        "\n",
        "Ход 1: `Вверх 1`\n",
        "\n",
        "Ход 2: `Вниз 1`\n",
        "\n",
        "Ход 3: `Вверх 1`\n",
        "\n",
        "Пример вывода:\n",
        "`Пётр находится на расстоянии 1 от (0,0)`"
      ]
    },
    {
      "cell_type": "code",
      "execution_count": 59,
      "id": "b3231431",
      "metadata": {
        "id": "b3231431",
        "outputId": "f45e4624-5d36-4304-d3d4-dc9db51ddebd",
        "colab": {
          "base_uri": "https://localhost:8080/"
        }
      },
      "outputs": [
        {
          "output_type": "stream",
          "name": "stdout",
          "text": [
            "Введите N: 2\n",
            "Ход 0 :\n",
            "Вверх 1\n",
            "Ход 1 :\n",
            "Вправо 1\n",
            "Пётр находится на расстоянии 1.4142135623730951 от (0,0)\n"
          ]
        }
      ],
      "source": [
        "N = int(input(\"Введите N: \"))\n",
        "a = [0,0]\n",
        "for i in range (N):\n",
        "    print(\"Ход\", i, \":\")\n",
        "    s = input()\n",
        "    h,k = s.split(' ')\n",
        "    if h == 'Вверх':\n",
        "        a[1] += int(k)\n",
        "    elif h == 'Вниз':\n",
        "        a[1] -= int(k)        \n",
        "    elif h == 'Влево':\n",
        "        a[0] -= int(k)        \n",
        "    elif h == 'Вправо':\n",
        "        a[0] += int(k)   \n",
        "res = ((a[0])**2+(a[1])**2)**0.5\n",
        "print('Пётр находится на расстоянии', res, 'от (0,0)')     \n"
      ]
    },
    {
      "cell_type": "markdown",
      "id": "818909ca",
      "metadata": {
        "id": "818909ca"
      },
      "source": [
        "# 3. Sort the keys of the dictionary from a to z.  - 0.5 балла"
      ]
    },
    {
      "cell_type": "code",
      "execution_count": 64,
      "id": "b81d45f3",
      "metadata": {
        "id": "b81d45f3",
        "outputId": "3b045782-fc5d-4534-fa63-1c8004908100",
        "colab": {
          "base_uri": "https://localhost:8080/"
        }
      },
      "outputs": [
        {
          "output_type": "stream",
          "name": "stdout",
          "text": [
            "[('cheesecake', 4), ('chocolate', 2), ('pudding', 3), ('tiramisu', 5)]\n"
          ]
        }
      ],
      "source": [
        "d = {\"tiramisu\":5, \"chocolate\":2, \"pudding\":3, \"cheesecake\":4}\n",
        "print(sorted(d.items()))"
      ]
    },
    {
      "cell_type": "markdown",
      "id": "77275ebf",
      "metadata": {
        "id": "77275ebf"
      },
      "source": [
        "# 4. Compare three values, return true only if 2 or more values are equal - 0.5 балла"
      ]
    },
    {
      "cell_type": "code",
      "execution_count": 68,
      "id": "d0893272",
      "metadata": {
        "id": "d0893272"
      },
      "outputs": [],
      "source": [
        "def sravn (a,b,c):\n",
        "    i = 0\n",
        "    if a == b:\n",
        "        i += 1\n",
        "    if a == c:\n",
        "        i += 1\n",
        "    if c == b:\n",
        "        i += 1   \n",
        "    if i >= 1:\n",
        "        return True   "
      ]
    },
    {
      "cell_type": "code",
      "source": [
        "print(sravn (2,3,2))"
      ],
      "metadata": {
        "id": "MVTkzCSh4Y9u",
        "outputId": "5613d49e-2ad6-4098-edf1-4e5c53bc820e",
        "colab": {
          "base_uri": "https://localhost:8080/"
        }
      },
      "id": "MVTkzCSh4Y9u",
      "execution_count": 69,
      "outputs": [
        {
          "output_type": "stream",
          "name": "stdout",
          "text": [
            "True\n"
          ]
        }
      ]
    },
    {
      "cell_type": "markdown",
      "id": "895340c0",
      "metadata": {
        "id": "895340c0"
      },
      "source": [
        "# 5. Given a list with pairs, sort on the sum of pairs - 0.5 балла"
      ]
    },
    {
      "cell_type": "code",
      "execution_count": 73,
      "id": "7a8971e2",
      "metadata": {
        "id": "7a8971e2"
      },
      "outputs": [],
      "source": [
        "x = [(3,6),(4,7),(5,9),(8,4),(3,1)]\n"
      ]
    },
    {
      "cell_type": "markdown",
      "id": "be5b7018",
      "metadata": {
        "id": "be5b7018"
      },
      "source": [
        "# 6. Create a function that takes a list of numbers. Return the largest number in the list. - 0.5 балла"
      ]
    },
    {
      "cell_type": "code",
      "source": [
        "def findLargestNum(a):\n",
        "    return(max(a))"
      ],
      "metadata": {
        "id": "pZPy7Zti53he"
      },
      "id": "pZPy7Zti53he",
      "execution_count": 75,
      "outputs": []
    },
    {
      "cell_type": "code",
      "source": [
        "findLargestNum([300, 200, 600, 150])"
      ],
      "metadata": {
        "id": "UdZME5Lu6Beh",
        "outputId": "fba8e4eb-8c87-43e2-8efb-803b48da4295",
        "colab": {
          "base_uri": "https://localhost:8080/"
        }
      },
      "id": "UdZME5Lu6Beh",
      "execution_count": 77,
      "outputs": [
        {
          "output_type": "execute_result",
          "data": {
            "text/plain": [
              "600"
            ]
          },
          "metadata": {},
          "execution_count": 77
        }
      ]
    },
    {
      "cell_type": "code",
      "execution_count": 79,
      "id": "2ddbc7bf",
      "metadata": {
        "id": "2ddbc7bf",
        "outputId": "7fe10da4-ee03-476e-db19-63f03f36c786",
        "colab": {
          "base_uri": "https://localhost:8080/"
        }
      },
      "outputs": [
        {
          "output_type": "execute_result",
          "data": {
            "text/plain": [
              "True"
            ]
          },
          "metadata": {},
          "execution_count": 79
        }
      ],
      "source": [
        "findLargestNum([4, 5, 1, 3]) == 5\n",
        "\n",
        "findLargestNum([300, 200, 600, 150]) == 600\n",
        "\n",
        "findLargestNum([1000, 1001, 857, 1]) == 1001"
      ]
    },
    {
      "cell_type": "markdown",
      "id": "17918763",
      "metadata": {
        "id": "17918763"
      },
      "source": [
        "# 7. Create a function that takes a string and returns the concatenated first and last character. - 0.5 балла"
      ]
    },
    {
      "cell_type": "code",
      "source": [
        "def repetition(a, b):\n",
        "    return a*b"
      ],
      "metadata": {
        "id": "DW0iiRJA6WUb"
      },
      "id": "DW0iiRJA6WUb",
      "execution_count": 78,
      "outputs": []
    },
    {
      "cell_type": "code",
      "source": [
        "repetition(\"ab\", 3)"
      ],
      "metadata": {
        "id": "bX_kvQ676kbl",
        "outputId": "1637abee-eb6d-4f2c-f9fa-69f6c5161e91",
        "colab": {
          "base_uri": "https://localhost:8080/",
          "height": 36
        }
      },
      "id": "bX_kvQ676kbl",
      "execution_count": 80,
      "outputs": [
        {
          "output_type": "execute_result",
          "data": {
            "text/plain": [
              "'ababab'"
            ],
            "application/vnd.google.colaboratory.intrinsic+json": {
              "type": "string"
            }
          },
          "metadata": {},
          "execution_count": 80
        }
      ]
    },
    {
      "cell_type": "code",
      "execution_count": 81,
      "id": "7062bfdb",
      "metadata": {
        "id": "7062bfdb",
        "outputId": "c7c7fbbe-a520-451e-8dc6-daa42b4b467c",
        "colab": {
          "base_uri": "https://localhost:8080/"
        }
      },
      "outputs": [
        {
          "output_type": "execute_result",
          "data": {
            "text/plain": [
              "True"
            ]
          },
          "metadata": {},
          "execution_count": 81
        }
      ],
      "source": [
        "repetition(\"ab\", 3) == \"ababab\"\n",
        "\n",
        "repetition(\"kiwi\", 1) == \"kiwi\"\n",
        "\n",
        "repetition(\"cherry\", 2) == \"cherrycherry\""
      ]
    },
    {
      "cell_type": "markdown",
      "id": "5c2fe48a",
      "metadata": {
        "id": "5c2fe48a"
      },
      "source": [
        "# 8. Create a function that takes a 2D list lst returns the sum of the minimum value in each row. - 0.5 балла"
      ]
    },
    {
      "cell_type": "code",
      "source": [
        "def sum_minimums(a):\n",
        "  res = 0\n",
        "  for i in range(len(a)):\n",
        "      res += min(a[i])\n",
        "  return res"
      ],
      "metadata": {
        "id": "q9q0z69F7JXE"
      },
      "id": "q9q0z69F7JXE",
      "execution_count": 90,
      "outputs": []
    },
    {
      "cell_type": "code",
      "source": [
        "sum_minimums([\n",
        "  [1, 2, 3, 4, 5],\n",
        "  [5, 6, 7, 8, 9],\n",
        "  [20, 21, 34, 56, 100]\n",
        "])"
      ],
      "metadata": {
        "id": "JYmOofiY7WPR",
        "outputId": "b0309ccd-a76e-413e-fafd-6fd619dd12b1",
        "colab": {
          "base_uri": "https://localhost:8080/"
        }
      },
      "id": "JYmOofiY7WPR",
      "execution_count": 91,
      "outputs": [
        {
          "output_type": "execute_result",
          "data": {
            "text/plain": [
              "26"
            ]
          },
          "metadata": {},
          "execution_count": 91
        }
      ]
    },
    {
      "cell_type": "code",
      "execution_count": null,
      "id": "c3232abb",
      "metadata": {
        "id": "c3232abb"
      },
      "outputs": [],
      "source": [
        "sum_minimums([\n",
        "  [1, 2, 3, 4, 5],\n",
        "  [5, 6, 7, 8, 9],\n",
        "  [20, 21, 34, 56, 100]\n",
        "] ➞ 26\n",
        "\n",
        "# minimum value of the first row is 1\n",
        "# minimum value of the second row is 5\n",
        "# minimum value of the third row is 20"
      ]
    },
    {
      "cell_type": "markdown",
      "id": "88c6709f",
      "metadata": {
        "id": "88c6709f"
      },
      "source": [
        "# 9. Create a function to return the amount of potatoes there are in a string. - 0.5 балла"
      ]
    },
    {
      "cell_type": "code",
      "source": [
        "def potatoes(a):\n",
        "    return int((len(a) - len(a.replace('potato','')))/(len('potato')))"
      ],
      "metadata": {
        "id": "VE6ZV0JS7yEw"
      },
      "id": "VE6ZV0JS7yEw",
      "execution_count": 112,
      "outputs": []
    },
    {
      "cell_type": "code",
      "source": [
        "potatoes(\"potatoapple\")"
      ],
      "metadata": {
        "id": "O_3KbLDi-KqI",
        "outputId": "83c58b2e-1f55-4aaa-963e-33a9971a253d",
        "colab": {
          "base_uri": "https://localhost:8080/"
        }
      },
      "id": "O_3KbLDi-KqI",
      "execution_count": 113,
      "outputs": [
        {
          "output_type": "execute_result",
          "data": {
            "text/plain": [
              "1"
            ]
          },
          "metadata": {},
          "execution_count": 113
        }
      ]
    },
    {
      "cell_type": "code",
      "execution_count": 115,
      "id": "e2610cbd",
      "metadata": {
        "id": "e2610cbd",
        "outputId": "e66a24b7-8af8-4178-f193-d502a7945d64",
        "colab": {
          "base_uri": "https://localhost:8080/"
        }
      },
      "outputs": [
        {
          "output_type": "execute_result",
          "data": {
            "text/plain": [
              "True"
            ]
          },
          "metadata": {},
          "execution_count": 115
        }
      ],
      "source": [
        "potatoes(\"potato\") == 1 and potatoes(\"potatopotato\") == 2 and potatoes(\"potatoapple\") == 1"
      ]
    },
    {
      "cell_type": "markdown",
      "id": "7fb5aa44",
      "metadata": {
        "id": "7fb5aa44"
      },
      "source": [
        "# 10. Create a function that takes a list of integers as an argument and returns a unique number from that list. All numbers except unique ones have the same number of occurrences in the list. - 0.5 балла"
      ]
    },
    {
      "cell_type": "code",
      "source": [
        "def find_single_number(data):\n",
        "    return [i for i in data if data.count(i) == 1][0]"
      ],
      "metadata": {
        "id": "i-66pG4EApjE"
      },
      "id": "i-66pG4EApjE",
      "execution_count": 131,
      "outputs": []
    },
    {
      "cell_type": "code",
      "source": [
        "find_single_number([7, 13, 3, 6, 5, 4, 4, 13, 5, 3, 6, 7, 6, 5, 3, 13, 4, 7, 13, 5, 7, 4, 3, 6, 8, 4, 3, 7, 5, 6, 13])"
      ],
      "metadata": {
        "id": "azAOOxmrAsmF",
        "outputId": "ebfc4c30-923d-44ca-9ab7-8562c3cc7f85",
        "colab": {
          "base_uri": "https://localhost:8080/"
        }
      },
      "id": "azAOOxmrAsmF",
      "execution_count": 133,
      "outputs": [
        {
          "output_type": "execute_result",
          "data": {
            "text/plain": [
              "8"
            ]
          },
          "metadata": {},
          "execution_count": 133
        }
      ]
    },
    {
      "cell_type": "code",
      "execution_count": null,
      "id": "a43f80e0",
      "metadata": {
        "id": "a43f80e0"
      },
      "outputs": [],
      "source": [
        "find_single_number([2, 2, 2, 3, 4, 4, 4]) ➞ 3\n",
        "\n",
        "find_single_number([2]) ➞ 2\n",
        "\n",
        "find_single_number([]) ➞ None\n",
        "\n",
        "find_single_number([7, 13, 3, 6, 5, 4, 4, 13, 5, 3, 6, 7, 6, 5, 3, 13, 4, 7, 13, 5, 7, 4, 3, 6, 8, 4, 3, 7, 5, 6, 13]) ➞ 8\n",
        "\n",
        "find_single_number([1, 2, 3, 6, 5, 4, 4, 2, 5, 3, 6, 1, 6, 5, 3, 2, 4, 1, 2, 5, 1, 4, 3, 6, 101, 4, 3, 1, 5, 6, 2]) ➞ 101\n"
      ]
    },
    {
      "cell_type": "markdown",
      "id": "0313ea52",
      "metadata": {
        "id": "0313ea52"
      },
      "source": [
        "# 11. Given a letter and a list of words, return whether the letter does not appear in any of the words. - 0.5 балла"
      ]
    },
    {
      "cell_type": "code",
      "source": [
        "def forbidden_letter(a, b):\n",
        "    res = True\n",
        "    for i in range (len(b)):\n",
        "        if a in b[0]:\n",
        "            res = False\n",
        "    return res"
      ],
      "metadata": {
        "id": "-rCx9nt_A8WS"
      },
      "id": "-rCx9nt_A8WS",
      "execution_count": 183,
      "outputs": []
    },
    {
      "cell_type": "code",
      "source": [
        "forbidden_letter(\"a\", [\"spoon\", \"fork\", \"knife\"])"
      ],
      "metadata": {
        "id": "YFS3fd26BRd9",
        "outputId": "5b0fe1e5-85c4-4b8a-dd73-9910ca6a4344",
        "colab": {
          "base_uri": "https://localhost:8080/"
        }
      },
      "id": "YFS3fd26BRd9",
      "execution_count": 185,
      "outputs": [
        {
          "output_type": "execute_result",
          "data": {
            "text/plain": [
              "True"
            ]
          },
          "metadata": {},
          "execution_count": 185
        }
      ]
    },
    {
      "cell_type": "code",
      "execution_count": null,
      "id": "0cb649a5",
      "metadata": {
        "id": "0cb649a5"
      },
      "outputs": [],
      "source": [
        "forbidden_letter(\"r\", [\"rock\", \"paper\", \"scissors\"]) ➞ False\n",
        "\n",
        "forbidden_letter(\"a\", [\"spoon\", \"fork\", \"knife\"]) ➞ True\n",
        "\n",
        "forbidden_letter(\"m\", []) ➞ True"
      ]
    },
    {
      "cell_type": "markdown",
      "id": "0a7ef5b5",
      "metadata": {
        "id": "0a7ef5b5"
      },
      "source": [
        "# 12.  Define a function which create a Pattern like this one.  - 2 балла"
      ]
    },
    {
      "cell_type": "code",
      "execution_count": null,
      "id": "7617ebb7",
      "metadata": {
        "id": "7617ebb7"
      },
      "outputs": [],
      "source": [
        "Input: 4\n",
        "Pattern:\n",
        "\n",
        " 01234\n",
        "  | |     0\n",
        " -----    1\n",
        "  | |     2\n",
        " -----    3\n",
        "  | |     4"
      ]
    },
    {
      "cell_type": "code",
      "execution_count": 201,
      "id": "5d3b0cdd",
      "metadata": {
        "id": "5d3b0cdd",
        "outputId": "a7b1714b-b206-4de9-f838-6e8374f592e6",
        "colab": {
          "base_uri": "https://localhost:8080/"
        }
      },
      "outputs": [
        {
          "output_type": "stream",
          "name": "stdout",
          "text": [
            "Input: 4\n",
            "Pattern: \n",
            "\n",
            "01234\n",
            " | |      0\n",
            "-----     1\n",
            " | |      2\n",
            "-----     3\n",
            " | |      4\n"
          ]
        }
      ],
      "source": [
        "a = int(input('Input: '))\n",
        "print('Pattern: \\n')\n",
        "for k in range(a + 1):\n",
        "    print(k, end='')\n",
        "print()\n",
        "for j  in range(a + 1):\n",
        "    if j % 2 == 0:\n",
        "        for i in range(a + 1):\n",
        "            if i % 2 == 0:\n",
        "                print(' ', end='')\n",
        "            else: print('|', end='')\n",
        "    else: print('-'*(a + 1), end='')\n",
        "    print(\"    \", j)"
      ]
    },
    {
      "cell_type": "markdown",
      "id": "0d5edcd1",
      "metadata": {
        "id": "0d5edcd1"
      },
      "source": [
        "# 13. Create a function that takes three numbers as arguments and returns True if it's a triangle and False if not.  - 0.5 балла"
      ]
    },
    {
      "cell_type": "code",
      "source": [
        "def is_triangle(a, b, c):\n",
        "    return a+b+c-max(a,b,c)-min(a,b,c) > max(a,b,c)-min(a,b,c)"
      ],
      "metadata": {
        "id": "FMvNFLeNH4r3"
      },
      "id": "FMvNFLeNH4r3",
      "execution_count": 209,
      "outputs": []
    },
    {
      "cell_type": "code",
      "source": [
        "is_triangle(4, 3, 8)"
      ],
      "metadata": {
        "id": "WcfWnNXRIsHh",
        "outputId": "f7e5340f-5ce8-4f59-e02e-8c0db65fb8fa",
        "colab": {
          "base_uri": "https://localhost:8080/"
        }
      },
      "id": "WcfWnNXRIsHh",
      "execution_count": 212,
      "outputs": [
        {
          "output_type": "execute_result",
          "data": {
            "text/plain": [
              "False"
            ]
          },
          "metadata": {},
          "execution_count": 212
        }
      ]
    },
    {
      "cell_type": "code",
      "execution_count": null,
      "id": "d867302c",
      "metadata": {
        "id": "d867302c"
      },
      "outputs": [],
      "source": [
        "is_triangle(2, 3, 4) ➞ True\n",
        "\n",
        "is_triangle(3, 4, 5) ➞ True\n",
        "\n",
        "is_triangle(4, 3, 8) ➞ False"
      ]
    },
    {
      "cell_type": "markdown",
      "id": "2bdfb66e",
      "metadata": {
        "id": "2bdfb66e"
      },
      "source": [
        "# 14. Create a \"Code\" Generator that takes text as input and replaces some letter with another letter, and outputs the \"encoded\" message. Create funcs to encode and decode messages"
      ]
    },
    {
      "cell_type": "code",
      "execution_count": 213,
      "id": "0caf2b35",
      "metadata": {
        "id": "0caf2b35",
        "outputId": "58733cf3-a749-493f-b7ea-fb026497ecbb",
        "colab": {
          "base_uri": "https://localhost:8080/",
          "height": 134
        }
      },
      "outputs": [
        {
          "output_type": "error",
          "ename": "SyntaxError",
          "evalue": "ignored",
          "traceback": [
            "\u001b[0;36m  File \u001b[0;32m\"<ipython-input-213-a3997d115de4>\"\u001b[0;36m, line \u001b[0;32m1\u001b[0m\n\u001b[0;31m    replacement = {\"a\": \"b\", \"d\": \"1\" ......}\u001b[0m\n\u001b[0m                                        ^\u001b[0m\n\u001b[0;31mSyntaxError\u001b[0m\u001b[0;31m:\u001b[0m invalid syntax\n"
          ]
        }
      ],
      "source": [
        "replacement = {\"a\": \"b\", \"d\": \"1\" ......}"
      ]
    }
  ],
  "metadata": {
    "kernelspec": {
      "display_name": "Python 3",
      "language": "python",
      "name": "python3"
    },
    "language_info": {
      "codemirror_mode": {
        "name": "ipython",
        "version": 3
      },
      "file_extension": ".py",
      "mimetype": "text/x-python",
      "name": "python",
      "nbconvert_exporter": "python",
      "pygments_lexer": "ipython3",
      "version": "3.8.8"
    },
    "colab": {
      "provenance": []
    }
  },
  "nbformat": 4,
  "nbformat_minor": 5
}
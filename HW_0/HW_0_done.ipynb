{
  "cells": [
    {
      "cell_type": "markdown",
      "id": "4aae3dfe",
      "metadata": {
        "id": "4aae3dfe"
      },
      "source": [
        "## Вывод (std out)"
      ]
    },
    {
      "cell_type": "code",
      "execution_count": null,
      "id": "19d51336",
      "metadata": {
        "id": "19d51336"
      },
      "outputs": [],
      "source": [
        "## Напишите программу, которая вводит строки без newline или space (не забудьте что print принимает сколько угодно аргументов)\n",
        "\n",
        "# Тестовые данные\n",
        "\n",
        "# 1, 5, 8, 3 -> 1583\n",
        "# 1, \"new\", 8, \"old\" -> 1new8old\n"
      ]
    },
    {
      "cell_type": "code",
      "source": [
        "print(\"Введите данные через пробел\")\n",
        "f=input().split()\n",
        "print(\"\".join(f))\n",
        "\n",
        "print(\"Введите данные через пробел\")\n",
        "s=input().split()\n",
        "print(\"\".join(s))"
      ],
      "metadata": {
        "id": "aIoUchynCHLs",
        "outputId": "7f5d6843-1f1b-44be-db43-51f860a8ed0c",
        "colab": {
          "base_uri": "https://localhost:8080/"
        }
      },
      "id": "aIoUchynCHLs",
      "execution_count": 33,
      "outputs": [
        {
          "output_type": "stream",
          "name": "stdout",
          "text": [
            "Введите данные через пробел\n",
            "1 5 8 3\n",
            "1583\n",
            "Введите данные через пробел\n",
            "1 new 8 old\n",
            "1new8old\n"
          ]
        }
      ]
    },
    {
      "cell_type": "markdown",
      "id": "c6a2735e",
      "metadata": {
        "id": "c6a2735e"
      },
      "source": [
        "## Арифметика "
      ]
    },
    {
      "cell_type": "code",
      "execution_count": null,
      "id": "bc23a479",
      "metadata": {
        "id": "bc23a479"
      },
      "outputs": [],
      "source": [
        "## Расчитайте расстояние между двумя заданными точками (math.sqrt) заданными в двумерном пространстве\n",
        "\n",
        "# Тестовые данные\n",
        "\n",
        "# [0, 0], [1, 1] -> 1.4142135623730951\n",
        "# [0, 1], [1, 5] -> 4.123105625617661\n",
        "# [4, 1], [12, 5] -> 8.94427190999916\n"
      ]
    },
    {
      "cell_type": "code",
      "source": [
        "import math \n",
        "x = [0, 0]\n",
        "y = [1, 1]\n",
        "print(math.sqrt((y[0]-x[0])**2 + (y[1]-x[1])**2))\n",
        "\n",
        "x = [0, 1]\n",
        "y = [1, 5]\n",
        "print(math.sqrt((y[0]-x[0])**2 + (y[1]-x[1])**2))\n",
        "\n",
        "x = [4, 1]\n",
        "y = [12, 5]\n",
        "print(math.sqrt((y[0]-x[0])**2 + (y[1]-x[1])**2))"
      ],
      "metadata": {
        "id": "xNsqWMaBCfIp",
        "outputId": "c78922dd-c585-43a2-cc86-2c6761bde4e2",
        "colab": {
          "base_uri": "https://localhost:8080/"
        }
      },
      "id": "xNsqWMaBCfIp",
      "execution_count": 8,
      "outputs": [
        {
          "output_type": "stream",
          "name": "stdout",
          "text": [
            "1.4142135623730951\n",
            "4.123105625617661\n",
            "8.94427190999916\n"
          ]
        }
      ]
    },
    {
      "cell_type": "markdown",
      "id": "6c5d4192",
      "metadata": {
        "id": "6c5d4192"
      },
      "source": [
        "## Списки"
      ]
    },
    {
      "cell_type": "code",
      "execution_count": null,
      "id": "ace65e2e",
      "metadata": {
        "id": "ace65e2e"
      },
      "outputs": [],
      "source": [
        "## Посчитайте сумму элементов в списке (только тех, что чей тип float)\n",
        "\n",
        "# Тестовые данные\n",
        "\n",
        "color_list = [0.1,\"зеленый\", 1.6, \"белый\", 0.3, \"черный\", 7, \"2.0\"]\n",
        "\n",
        "# ответ: 2"
      ]
    },
    {
      "cell_type": "code",
      "source": [
        "color_list = [0.1,\"зеленый\", 1.6, \"белый\", 0.3, \"черный\", 7, \"2.0\"]\n",
        "count = len(color_list)\n",
        "sum=0\n",
        "for i in range(0,count):\n",
        "  if type(color_list[i])==float:\n",
        "    sum+=color_list[i]\n",
        "print(sum)"
      ],
      "metadata": {
        "id": "h8z0EEQZDeSt",
        "outputId": "ba9a7149-1361-468f-8881-e57c4bb15b0b",
        "colab": {
          "base_uri": "https://localhost:8080/"
        }
      },
      "id": "h8z0EEQZDeSt",
      "execution_count": 13,
      "outputs": [
        {
          "output_type": "stream",
          "name": "stdout",
          "text": [
            "2.0\n"
          ]
        }
      ]
    },
    {
      "cell_type": "code",
      "execution_count": 17,
      "id": "f5efd6f8",
      "metadata": {
        "id": "f5efd6f8",
        "outputId": "8464dc7f-9366-4446-8a83-500e9d2b32d4",
        "colab": {
          "base_uri": "https://localhost:8080/"
        }
      },
      "outputs": [
        {
          "output_type": "stream",
          "name": "stdout",
          "text": [
            "красный\n",
            "черный\n"
          ]
        }
      ],
      "source": [
        "## Отобразите с помощью print только первый и последний элемент списка (цикл while)\n",
        "\n",
        "# Тестовые данные\n",
        "\n",
        "color_list = [\"красный\",\"зеленый\",\"белый\" ,\"черный\"]\n",
        "count = len(color_list)\n",
        "i=0\n",
        "print(color_list[i])\n",
        "while i < count:\n",
        "  i+=1\n",
        "print(color_list[i-1])\n",
        "\n"
      ]
    },
    {
      "cell_type": "code",
      "execution_count": null,
      "id": "0120e466",
      "metadata": {
        "id": "0120e466"
      },
      "outputs": [],
      "source": [
        "## Проверьте есть ли в данный элемент в списке, если есть выведите с помощью print \"Element такой то was found\", если элемента не нашлось выведите \"Clear\" (цикл while) \n",
        "\n",
        "# Тестовые данные\n",
        "\n",
        "# 3 -> [1, 5, 8, 3] -> \"Element 3 was found\"\n",
        "# -1 -> [1, 5, 8, 3] -> \"Clear\"\n",
        "# \"color\" -> [1, \"color\", 1.3, 3] ->  \"Element color was found\"\n"
      ]
    },
    {
      "cell_type": "code",
      "source": [
        "print(\"Введите искомый элемент\")\n",
        "x=input()\n",
        "print(\"Введите данные через пробел\")\n",
        "f=input().split()\n",
        "count = len(f)\n",
        "i=0\n",
        "while i < count:\n",
        "    if x == f[i]:\n",
        "      print(\"Element\",x,\"was found\")\n",
        "      break\n",
        "    elif i == count - 1: \n",
        "      print(\"Clear\")\n",
        "    i+=1"
      ],
      "metadata": {
        "id": "6tkPtPOSPUVi",
        "outputId": "31c31e3e-f176-4a54-862e-7ff89c1917e5",
        "colab": {
          "base_uri": "https://localhost:8080/"
        }
      },
      "id": "6tkPtPOSPUVi",
      "execution_count": 29,
      "outputs": [
        {
          "output_type": "stream",
          "name": "stdout",
          "text": [
            "Введите искомый элемент\n",
            "3\n",
            "Введите данные через пробел\n",
            "1 5 8 3\n",
            "Element 3 was found\n"
          ]
        }
      ]
    },
    {
      "cell_type": "code",
      "execution_count": null,
      "id": "824424aa",
      "metadata": {
        "id": "824424aa"
      },
      "outputs": [],
      "source": [
        "## Пройдите по списку и объедините все элементы из списка в одну строку через пробел (цикл while)\n",
        "\n",
        "# Тестовые данные\n",
        "\n",
        "# [\"9\", \"caMii\", \" /\\y4LLIii\", \"proger\", \"v\", \"2022\", \"roDy\"] -> 9 caMii  /\\y4LLIii proger v 2022 roDy"
      ]
    },
    {
      "cell_type": "code",
      "source": [
        "mylist = [\"9\", \"caMii\", \" /\\y4LLIii\", \"proger\", \"v\", \"2022\", \"roDy\"]\n",
        "count = len(mylist)\n",
        "i = 0\n",
        "while i < count:\n",
        "  print(mylist[i], end=\" \")\n",
        "  i+=1"
      ],
      "metadata": {
        "id": "V3Oec1hhW2s4",
        "outputId": "40e18835-9f69-4fcb-bdc4-313c31477520",
        "colab": {
          "base_uri": "https://localhost:8080/"
        }
      },
      "id": "V3Oec1hhW2s4",
      "execution_count": 37,
      "outputs": [
        {
          "output_type": "stream",
          "name": "stdout",
          "text": [
            "9 caMii  /\\y4LLIii proger v 2022 roDy "
          ]
        }
      ]
    },
    {
      "cell_type": "code",
      "execution_count": 38,
      "id": "1c52c4b8",
      "metadata": {
        "id": "1c52c4b8",
        "outputId": "52f697fa-ff8f-4fff-8868-5ede4babbf2e",
        "colab": {
          "base_uri": "https://localhost:8080/"
        }
      },
      "outputs": [
        {
          "output_type": "stream",
          "name": "stdout",
          "text": [
            "White Red\n",
            "Black Green\n",
            "Red White\n"
          ]
        }
      ],
      "source": [
        "## Пройдите по двум списка сразу и выведите сразу по два элемента - один из одного списка, другой из другого \n",
        "## (подсказка - обращайтесь по индексу к элементам обоих списков)\n",
        "\n",
        "# Тестовые данные\n",
        "\n",
        "color_list_1 = [\"White\", \"Black\", \"Red\"]\n",
        "color_list_2 = [\"Red\", \"Green\", \"White\"]\n",
        "\n",
        "count = len(color_list_1)\n",
        "i = 0\n",
        "while i < count:\n",
        "  print(color_list_1[i], color_list_2[i]) \n",
        "  i+=1\n",
        "  \n",
        "# White Red\n",
        "# Black Green\n",
        "# Red White"
      ]
    },
    {
      "cell_type": "code",
      "execution_count": 41,
      "id": "9d59ec07",
      "metadata": {
        "id": "9d59ec07",
        "outputId": "c0caaf6a-8911-47ed-93d0-69f17e3ceabd",
        "colab": {
          "base_uri": "https://localhost:8080/"
        }
      },
      "outputs": [
        {
          "output_type": "stream",
          "name": "stdout",
          "text": [
            "aaabbbbbbcccccccccdddddddddddd"
          ]
        }
      ],
      "source": [
        "## Пройдите по списку и выводите каждый следующий элемент столько раз какой у него ((индекс + 1) * 3) в списке (цикл while) \n",
        "\n",
        "# Тестовые данные\n",
        "\n",
        "a = [\"a\", \"b\", \"c\", \"d\"] \n",
        "count = len(a)\n",
        "i = 0\n",
        "while i < count:\n",
        "  print(a[i]*(i+1)*3, sep = \"\", end = \"\")\n",
        "  i+=1\n",
        "# ответ -> \"aaabbbbbbcccccccccdddddddddddd\""
      ]
    },
    {
      "cell_type": "code",
      "execution_count": 44,
      "id": "bfd569fd",
      "metadata": {
        "id": "bfd569fd",
        "outputId": "2abf7db0-ab89-45fb-f693-a3cabc48fa48",
        "colab": {
          "base_uri": "https://localhost:8080/"
        }
      },
      "outputs": [
        {
          "output_type": "stream",
          "name": "stdout",
          "text": [
            "integers =  [1, 11111] \n",
            "floats =  [2.4, 1000.0] \n",
            "string =  ['a', 'b', 'string', 'new', 'old']\n"
          ]
        }
      ],
      "source": [
        "## Зайдите в каждый масив внутри (если это списко) и рассортируйте мне элементы по соответствующим спискам (не забудьте про append)\n",
        "\n",
        "sample = [[\"a\", \"b\", 1, 2.4], \"string\", [\"new\", 11111, 1000.0, \"old\"]]\n",
        "\n",
        "\n",
        "integers = []\n",
        "floats = []\n",
        "strings = []\n",
        "i = 0\n",
        "count = len(sample)\n",
        "\n",
        "while i < count:\n",
        "    if type(sample[i]) is list:\n",
        "        inneri = 0\n",
        "        while inneri < len(sample[i]):\n",
        "            if type(sample[i][inneri]) == int: integers.append(sample[i][inneri])\n",
        "            if type(sample[i][inneri]) == float: floats.append(sample[i][inneri])\n",
        "            if type(sample[i][inneri]) == str: strings.append(sample[i][inneri])\n",
        "            inneri += 1\n",
        "    if type(sample[i]) == int: integers.append(sample[i])\n",
        "    if type(sample[i]) == float: floats.append(sample[i])\n",
        "    if type(sample[i]) == str: strings.append(sample[i]) \n",
        "    i += 1\n",
        "\n",
        "print(\"integers = \",integers, \"\\nfloats = \", floats, \"\\nstring = \", strings)\n",
        "# ответ\n",
        "# integers -> [1, 11111]\n",
        "# floats -> [2.4, 1000.0]\n",
        "# strings -> [\"a\", \"b\", \"string\", \"new\", \"old\"]"
      ]
    },
    {
      "cell_type": "markdown",
      "id": "4d785ec2",
      "metadata": {
        "id": "4d785ec2"
      },
      "source": [
        "## Библиотеки "
      ]
    },
    {
      "cell_type": "code",
      "execution_count": 46,
      "id": "0937e5e0",
      "metadata": {
        "id": "0937e5e0",
        "outputId": "1811808a-d700-4c2d-d8a8-1940d9051b52",
        "colab": {
          "base_uri": "https://localhost:8080/"
        }
      },
      "outputs": [
        {
          "output_type": "stream",
          "name": "stdout",
          "text": [
            "Sat Oct 15 16:12:33 2022\n"
          ]
        }
      ],
      "source": [
        "## Напишите программу, которая выводит настоящее время ( то есть в ремя в которую программа запущена, используйте либу - time) \n",
        "\n",
        "# Тестовые данные (например)\n",
        "\n",
        "# 'Sat Oct  1 00:34:36 2022'\n",
        "\n",
        "import time\n",
        "print(time.ctime())\n"
      ]
    }
  ],
  "metadata": {
    "kernelspec": {
      "display_name": "Python 3 (ipykernel)",
      "language": "python",
      "name": "python3"
    },
    "language_info": {
      "codemirror_mode": {
        "name": "ipython",
        "version": 3
      },
      "file_extension": ".py",
      "mimetype": "text/x-python",
      "name": "python",
      "nbconvert_exporter": "python",
      "pygments_lexer": "ipython3",
      "version": "3.8.9"
    },
    "colab": {
      "provenance": []
    }
  },
  "nbformat": 4,
  "nbformat_minor": 5
}
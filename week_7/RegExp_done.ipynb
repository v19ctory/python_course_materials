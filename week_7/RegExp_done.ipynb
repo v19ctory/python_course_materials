{
  "cells": [
    {
      "cell_type": "markdown",
      "metadata": {
        "id": "p8H8zVpyby_L"
      },
      "source": [
        "## Регулярные выражения (Regular Expressions)\n"
      ]
    },
    {
      "cell_type": "markdown",
      "metadata": {
        "id": "mtsP2k0Kby_O"
      },
      "source": [
        "### Введение в регулярные выражения"
      ]
    },
    {
      "cell_type": "markdown",
      "metadata": {
        "id": "WPzVBME7by_P"
      },
      "source": [
        "Регулярные выражения ‒ выражения, последовательности символов, которые позволяют искать совпадения в тексте. Выражаясь более формально, они помогают найти подстроки определенного вида в строке. Еще о регулярных выражениях можно думать как о шаблонах, в которые мы можем подставлять текст, и этот текст либо соответствует шаблону, либо нет. В самом простом случае в качестве регулярного выражения может использоваться обычная строка. "
      ]
    },
    {
      "cell_type": "code",
      "execution_count": 6,
      "metadata": {
        "id": "tDLgIC_6by_P"
      },
      "outputs": [],
      "source": [
        "# библиотека регулярных выражений в Python\n",
        "import re"
      ]
    },
    {
      "cell_type": "markdown",
      "metadata": {
        "id": "g2sFO44gby_Q"
      },
      "source": [
        "Возьмем две первых строки из известной считалки Агаты Кристи и попытаемся найти в них слово \"обедать\". \n",
        "Для этого можно воспользоваться оператором in. Он проверяет точное вхождение одной строки в другую и возвращает логическое значение: True, если вхождение есть, и False в противном случае."
      ]
    },
    {
      "cell_type": "code",
      "execution_count": 7,
      "metadata": {
        "id": "AF2xlj_mby_Q",
        "outputId": "591749c6-7a85-4e7b-ad80-320391c9dba1",
        "colab": {
          "base_uri": "https://localhost:8080/"
        }
      },
      "outputs": [
        {
          "output_type": "execute_result",
          "data": {
            "text/plain": [
              "True"
            ]
          },
          "metadata": {},
          "execution_count": 7
        }
      ],
      "source": [
        "string = 'Десять негритят отправились обедать, \\\n",
        "          Один поперхнулся, их осталось девять.'\n",
        "# слово \"обедать\" маленькими буквами есть в строке\n",
        "'обедать' in string"
      ]
    },
    {
      "cell_type": "code",
      "execution_count": 8,
      "metadata": {
        "id": "eUqNSM6Eby_R",
        "outputId": "2f92ddda-b895-4c0a-a4d6-0b4fe0efd22b",
        "colab": {
          "base_uri": "https://localhost:8080/"
        }
      },
      "outputs": [
        {
          "output_type": "execute_result",
          "data": {
            "text/plain": [
              "False"
            ]
          },
          "metadata": {},
          "execution_count": 8
        }
      ],
      "source": [
        "# а если мы попытаемся поискать слово \"Обедать\" с большой буквы, то оператор вернет False\n",
        "'Обедать' in string"
      ]
    },
    {
      "cell_type": "markdown",
      "metadata": {
        "id": "urTzMBXiby_S"
      },
      "source": [
        "Видно, что слово *Обедать* начинается с большой буквы. Что, если мы хотим найти в некоторой строке слово *Обедать* вне зависимости от регистра, то есть все слова типа *Обедать, обедать, ОБЕДАТЬ* и т.д.? Эту задачу все еще можно решить без регулярных выражений: привести всю строку к нижнему регистру и искать слово *один*.\n",
        "А что, если у нас будет текст подлиннее (например, полный текст считалки), и в нем необходимо найти все числительные от одного до десяти во всех падежах (один/одного/двое/двоим и т.д.)? В такой ситуации удобнее написать некоторый шаблон, чтобы не создавать длинный список слов с разными формами слов. Тут на помощь придут регулярные выражения. "
      ]
    },
    {
      "cell_type": "markdown",
      "metadata": {
        "id": "4IxlCDZEby_S"
      },
      "source": [
        "* Промежутки, заключенные в квадратные скобки, позволяют найти цифры или буквы разных алфавитов и разных регистров \n",
        "\n",
        "\n",
        "    [0-9] соответствует любой цифре\n",
        "    \n",
        "    [A-Z] соответствует любой заглавной букве английского алфавита\n",
        "    \n",
        "    [a-z] соответствует любой строчной букве английского алфавита\n",
        "    \n",
        "    [А-Я] и [а-я] ‒ аналогично для букв русского алфавита (кроме буквы ё/Ё - ее нужно включать отдельно!)"
      ]
    },
    {
      "cell_type": "markdown",
      "metadata": {
        "id": "Qx8dP755by_T"
      },
      "source": [
        "* Для обозначения произвольного символа (кроме новой. строки) используется  точка ‒ `.`.\n",
        "\n",
        "* Для цифр есть специальный символ `\\d` (от *digit*) ≈`[0-9]` . Добавление обратного слэша называется экранированием: так мы отмечаем, что ищем именно цифру, а не просто букву d. \n",
        "\n",
        "* Для любого символа, кроме цифры тоже есть специальный символ `\\D` (от *digit*)≈`[^0-9]` (заглавная буква здесь отвечает за отрицание). Добавление обратного слэша называется экранированием: так мы отмечаем, что ищем именно цифру, а не просто букву d. \n",
        "\n",
        "* Для пробела тоже существует свой символ ‒ `\\s` (от *space*) ≈`[ \\f\\n\\r\\t\\v]`. Этот символ соответствует ровно одному пробельному символу в тексте (пробел, табуляция, перенос строки и т.д.).\n",
        "\n",
        "* Любой непробельный символ, обозначается как `\\S` (заглавная буква здесь отвечает за отрицание).\n",
        "\n",
        "* Для букв тоже существует свой символ ‒ `\\w` (от *word*) ≈ `[0-9a-zA-Zа-яА-ЯёЁ]`. Любая буква (то, что может быть частью слова), а также цифры и _ .\n",
        "\n",
        "* Любая не-буква, не-цифра и не подчёркивание, обозначается как `\\W` (заглавная буква здесь отвечает за отрицание).\n"
      ]
    },
    {
      "cell_type": "markdown",
      "metadata": {
        "id": "8lHO-BSTby_U"
      },
      "source": [
        "### Комментарий\n",
        "Мы сейчас будем использовать конструкцию re.search(pattern,string).group(0) \\\n",
        "Она ищет первое вхождение паттерна в строку. (чуть позже систематически в этом разберемся)"
      ]
    },
    {
      "cell_type": "code",
      "execution_count": 12,
      "metadata": {
        "id": "G7TblZ2Dby_U",
        "outputId": "d79ba142-a85d-4b39-dcd2-7b9a0ee673e9",
        "colab": {
          "base_uri": "https://localhost:8080/",
          "height": 36
        }
      },
      "outputs": [
        {
          "output_type": "execute_result",
          "data": {
            "text/plain": [
              "'абв'"
            ],
            "application/vnd.google.colaboratory.intrinsic+json": {
              "type": "string"
            }
          },
          "metadata": {},
          "execution_count": 12
        }
      ],
      "source": [
        "# Найти в строке string первую строчку, подходящую под шаблон pattern == re.search(pattern, string)\n",
        "st = 'ёёёёёёёёабв'\n",
        "match = re.search('абв',st)\n",
        "match.group(0)"
      ]
    },
    {
      "cell_type": "markdown",
      "metadata": {
        "id": "wFz3tnCyby_U"
      },
      "source": [
        "Здесь нашлось абв, потому что в диапазон а-я буква ё не входит!"
      ]
    },
    {
      "cell_type": "code",
      "execution_count": 16,
      "metadata": {
        "id": "MqTDXDtMby_U",
        "outputId": "a4ccc608-b79a-4b64-b008-97eefeadc8b7",
        "colab": {
          "base_uri": "https://localhost:8080/",
          "height": 36
        }
      },
      "outputs": [
        {
          "output_type": "execute_result",
          "data": {
            "text/plain": [
              "'ёё'"
            ],
            "application/vnd.google.colaboratory.intrinsic+json": {
              "type": "string"
            }
          },
          "metadata": {},
          "execution_count": 16
        }
      ],
      "source": [
        "# Найти в строке string первую строчку, подходящую под шаблон pattern == re.search(pattern, string)\n",
        "st = 'ёёёёёёёёабв'\n",
        "re.search('ёё', st).group(0)"
      ]
    },
    {
      "cell_type": "code",
      "execution_count": 17,
      "metadata": {
        "id": "xjXpwdVoby_V",
        "outputId": "530f7e4c-af4f-4272-918d-62c67d9d6cf5",
        "colab": {
          "base_uri": "https://localhost:8080/",
          "height": 36
        }
      },
      "outputs": [
        {
          "output_type": "execute_result",
          "data": {
            "text/plain": [
              "'1917'"
            ],
            "application/vnd.google.colaboratory.intrinsic+json": {
              "type": "string"
            }
          },
          "metadata": {},
          "execution_count": 17
        }
      ],
      "source": [
        "# Найти в строке string первую строчку, подходящую под шаблон pattern == re.search(pattern, string)\n",
        "st = 'Революция произошла в 1917 году'\n",
        "re.search(\"\\d917\",st).group(0)"
      ]
    },
    {
      "cell_type": "code",
      "execution_count": 24,
      "metadata": {
        "id": "aJVqcsE2by_V",
        "outputId": "0d83bb05-4b80-4a02-b51b-69cca8359c48",
        "colab": {
          "base_uri": "https://localhost:8080/",
          "height": 36
        }
      },
      "outputs": [
        {
          "output_type": "execute_result",
          "data": {
            "text/plain": [
              "'1917'"
            ],
            "application/vnd.google.colaboratory.intrinsic+json": {
              "type": "string"
            }
          },
          "metadata": {},
          "execution_count": 24
        }
      ],
      "source": [
        "# Найти в строке string первую строчку, подходящую под шаблон pattern == re.search(pattern, string)\n",
        "st = 'Революция произошла в 1917 году'\n",
        "re.search(\"\\d{4}\", st).group(0)"
      ]
    },
    {
      "cell_type": "code",
      "execution_count": 25,
      "metadata": {
        "id": "psAPYmkyby_V",
        "outputId": "736a04f0-457d-4042-8dca-4ce3074d6c0a",
        "colab": {
          "base_uri": "https://localhost:8080/"
        }
      },
      "outputs": [
        {
          "output_type": "execute_result",
          "data": {
            "text/plain": [
              "['1917 год']"
            ]
          },
          "metadata": {},
          "execution_count": 25
        }
      ],
      "source": [
        "# Найти в строке string первую строчку, подходящую под шаблон pattern == re.search(pattern, string)\n",
        "# Мы добежали до первого пробельного символа\n",
        "st = 'Революция произошла в 1917 году 34'\n",
        "re.findall(\"\\d{4}\\sгод\",st)"
      ]
    },
    {
      "cell_type": "markdown",
      "metadata": {
        "id": "haoOSKIPby_V"
      },
      "source": [
        "Для разбора дальнейших символов в регулярных выражениях, создадим небольшой набор слов (не очень осмысленный, но удобный):\n",
        "\n",
        "     хах, хех, хаааа, xaxa"
      ]
    },
    {
      "cell_type": "markdown",
      "metadata": {
        "id": "-DIUMoZnby_W"
      },
      "source": [
        "* Знак `.` соответствует одному любому символу в строке. Так, регулярное выражение `x.x` \"поймает\" слова *хах* и *хех*.\n",
        "* Знак `+` соответствует одному или более вхождению символа(ов), который стоит слева от `+`. Выражение `xa+` \"поймает\" слова *xa* и *хаааа*.\n",
        "* Знак `*` соответствует нулю или более вхождениям символа, который стоит слева от `*`.  Выражение `xaх*`  \"поймает\" слова *xa* и *хах*.\n",
        "* Знак `?` соответствует нулю или одному вхождению символа, который стоит слева от `?`.  Выражение `xa?`  \"поймает\" все последовательности *xa* и буквы *x*.\n",
        "До сих пор мы рассматривали поиск определенной последовательности символов. Но что, если у нас нет определенного шаблона, и нам надо вернуть набор символов из строки, отвечающий определенным правилам? Такая задача часто стоит при извлечении информации из строк. Это можно сделать, написав выражение с использованием специальных символов. Вот наиболее часто используемые из них:\n",
        "\n",
        "- **\\b**\tГраница слова\n",
        "- **[..]**\tОдин из символов в скобках ([^..] — любой символ, кроме тех, что в скобках)\n",
        "- **\\**\tЭкранирование специальных символов (\\. означает точку или \\+ — знак «плюс»)\n",
        "- **^ и $**\tНачало и конец строки соответственно\n",
        "- **{n,m}**\tОт n до m вхождений ({,m} — от 0 до m)\n",
        "- **a|b**\tСоответствует a или b\n",
        "- **()**\tГруппирует выражение и возвращает найденный текст\n",
        "- **\\t, \\n, \\r**\tСимвол табуляции, новой строки и возврата каретки соответственно"
      ]
    },
    {
      "cell_type": "code",
      "execution_count": 26,
      "metadata": {
        "id": "UuDqlSjXby_W",
        "outputId": "7fe6ed16-de6f-4713-fe2a-d3b5b07e7eb8",
        "colab": {
          "base_uri": "https://localhost:8080/"
        }
      },
      "outputs": [
        {
          "output_type": "execute_result",
          "data": {
            "text/plain": [
              "['хах', 'ха', 'хаххххххх']"
            ]
          },
          "metadata": {},
          "execution_count": 26
        }
      ],
      "source": [
        "st = \"хах, хех, хаааа, хаххххххха\"\n",
        "re.findall(r'хах*',st)"
      ]
    },
    {
      "cell_type": "code",
      "execution_count": 27,
      "metadata": {
        "id": "A6JJKZ2jby_W",
        "outputId": "3ec0d4a9-82cd-4c8e-8844-d9746beecb6f",
        "colab": {
          "base_uri": "https://localhost:8080/"
        }
      },
      "outputs": [
        {
          "output_type": "execute_result",
          "data": {
            "text/plain": [
              "['ха', 'хаааа', 'ха', 'ха']"
            ]
          },
          "metadata": {},
          "execution_count": 27
        }
      ],
      "source": [
        "re.findall(r'ха+',st)"
      ]
    },
    {
      "cell_type": "code",
      "execution_count": 28,
      "metadata": {
        "id": "Whb4rO5Lby_W",
        "outputId": "d0c94078-d9c0-4f30-b9bb-a8967f607e9c",
        "colab": {
          "base_uri": "https://localhost:8080/"
        }
      },
      "outputs": [
        {
          "output_type": "execute_result",
          "data": {
            "text/plain": [
              "['хах', 'ха', 'хах']"
            ]
          },
          "metadata": {},
          "execution_count": 28
        }
      ],
      "source": [
        "st = \"хах, хех, хаааа, хаха\"\n",
        "re.findall(r'хах*',st) #ха из хаааа, т.к * говорит нам что слева должно быть ха и справа 0 или бесконечно число х"
      ]
    },
    {
      "cell_type": "code",
      "execution_count": 29,
      "metadata": {
        "id": "gdLIk1OVby_X",
        "outputId": "d67aa3ba-49f6-4461-f8b4-59a47d0fa8a6",
        "colab": {
          "base_uri": "https://localhost:8080/"
        }
      },
      "outputs": [
        {
          "output_type": "execute_result",
          "data": {
            "text/plain": [
              "['345', '456', '564', '367']"
            ]
          },
          "metadata": {},
          "execution_count": 29
        }
      ],
      "source": [
        "st = \"хах, хех, ?хаа..аа, хаха 3456 456 56436743\"\n",
        "re.findall(r'\\d{3}',st) #? говорит нам, что слева должен быть один х, а справа 0 или 1 а. \n",
        "# Соответственно ха и х из хах; х и х из хех; и ха из хааа; ха ха из хаха"
      ]
    },
    {
      "cell_type": "markdown",
      "metadata": {
        "id": "JMS8z0PBby_X"
      },
      "source": [
        "Как быть, если с помощью регулярного выражения нужно найти подстроку, содержащую знаки препинания? Те же точки, вопросительные знаки, скобки? Нужно их экранировать ‒ ставить перед ними `\\`, например, `\\.`, `\\,`, `\\?`. Это символ будет сообщать Python, что нам нужен именно конкретный символ (точка, запятая, знак вопроса и др.). "
      ]
    },
    {
      "cell_type": "markdown",
      "metadata": {
        "id": "T5kXKcsAby_X"
      },
      "source": [
        "В регулярных выражениях можно явно задавать число повторений символов. Если мы знаем точное число символов, то его можно указать в фигурных скобках. Так, выражение `а{4}` будет соответствовать четырем буквам `a` подряд. Если точное число повторений нам неизвестно, можно задать диапазон, указав начало и конец отрезка через запятую. Например, такое выражение позволит найти от двух до четырех букв `a` подряд: `a{2,4}`. Если известен только левый или правый конец отрезка, то второй конец можно опустить: `a{2,}` (не менее двух) или `a{,4}` (не более 4)."
      ]
    },
    {
      "cell_type": "markdown",
      "metadata": {
        "id": "enTf5Olpby_X"
      },
      "source": [
        "В регулярных выражениях также можно использовать условие *или*. Например, возвращаясь к нашей \"смеющейся\" строке, если мы напишем выражение `x[а|е]х`,  оно поймает слова *хах* и *хех*, а вот вдруг появившийся *хох* не поймает.\n",
        "\n"
      ]
    },
    {
      "cell_type": "code",
      "execution_count": 30,
      "metadata": {
        "id": "BuLVj5Q0by_X",
        "outputId": "ad5163ff-9a1f-4f46-9cba-079561356a74",
        "colab": {
          "base_uri": "https://localhost:8080/"
        }
      },
      "outputs": [
        {
          "output_type": "execute_result",
          "data": {
            "text/plain": [
              "['хах', 'хех', 'хах']"
            ]
          },
          "metadata": {},
          "execution_count": 30
        }
      ],
      "source": [
        "st = \"хах, хех, ?хаа..аа, хаха\"\n",
        "re.findall(r'х[а|е]х',st)"
      ]
    },
    {
      "cell_type": "markdown",
      "metadata": {
        "id": "BCbe1kcVby_X"
      },
      "source": [
        "Создадим какой-нибудь незамысловатый текст с разными датами:"
      ]
    },
    {
      "cell_type": "code",
      "execution_count": 31,
      "metadata": {
        "id": "R5ABSpQ5by_Y",
        "outputId": "b5dcd190-795c-4f82-a14a-8bcf9449a190",
        "colab": {
          "base_uri": "https://localhost:8080/",
          "height": 36
        }
      },
      "outputs": [
        {
          "output_type": "execute_result",
          "data": {
            "text/plain": [
              "'12 ноября 2011 года произошло удивительное событие. А 13 ноября 2012 - еще удивительнее. Даже не будем говорить, что произошло 2 декабря 2011 года и 25 декабря 3012 года.'"
            ],
            "application/vnd.google.colaboratory.intrinsic+json": {
              "type": "string"
            }
          },
          "metadata": {},
          "execution_count": 31
        }
      ],
      "source": [
        "text = \"12 ноября 2011 года произошло удивительное событие. А 13 ноября 2012 - еще удивительнее. Даже не будем \\\n",
        "говорить, что произошло 2 декабря 2011 года и 25 декабря 3012 года.\"\n",
        "text"
      ]
    },
    {
      "cell_type": "markdown",
      "metadata": {
        "id": "107rY84Xby_Y"
      },
      "source": [
        "Напишем регулярное выражение, которое будет соответствовать всем цифрам в тексте (не числам), и найдем их все в `text` с помощью функции `findall()`:"
      ]
    },
    {
      "cell_type": "code",
      "execution_count": 32,
      "metadata": {
        "id": "CRg1bgsmby_Y",
        "outputId": "a152e60b-d4c0-4a61-e33b-ae7ec6515907",
        "colab": {
          "base_uri": "https://localhost:8080/"
        }
      },
      "outputs": [
        {
          "output_type": "execute_result",
          "data": {
            "text/plain": [
              "['12 ноября 2011', '2 декабря 2011']"
            ]
          },
          "metadata": {},
          "execution_count": 32
        }
      ],
      "source": [
        "re.findall(r\"\\d{1,2}\\s[а-яё]+\\s\\d{2}11\", text) # отдельно цифры"
      ]
    },
    {
      "cell_type": "markdown",
      "metadata": {
        "id": "X7wFgvD0by_Y"
      },
      "source": [
        "Если забыли, что числа можно искать с помощью `\\d`, можно задействовать промежуток (только не забудьте квадратные скобки):"
      ]
    },
    {
      "cell_type": "code",
      "execution_count": 33,
      "metadata": {
        "id": "2IcvpgQRby_Y",
        "outputId": "926b1d91-f7e1-487c-d840-a909cf6f1314",
        "colab": {
          "base_uri": "https://localhost:8080/"
        }
      },
      "outputs": [
        {
          "output_type": "execute_result",
          "data": {
            "text/plain": [
              "['1',\n",
              " '2',\n",
              " '2',\n",
              " '0',\n",
              " '1',\n",
              " '1',\n",
              " '1',\n",
              " '3',\n",
              " '2',\n",
              " '0',\n",
              " '1',\n",
              " '2',\n",
              " '2',\n",
              " '2',\n",
              " '0',\n",
              " '1',\n",
              " '1',\n",
              " '2',\n",
              " '5',\n",
              " '3',\n",
              " '0',\n",
              " '1',\n",
              " '2']"
            ]
          },
          "metadata": {},
          "execution_count": 33
        }
      ],
      "source": [
        "re.findall(\"[0-9]\", text)"
      ]
    },
    {
      "cell_type": "markdown",
      "metadata": {
        "id": "ZhvGUX5Aby_Y"
      },
      "source": [
        "А что, если мы хотим \"ловить\" не цифры, а числа, то есть последовательности из одной или более цифры. Условию \"один и более\" соответствует символ `+`. Попробуем."
      ]
    },
    {
      "cell_type": "code",
      "execution_count": 34,
      "metadata": {
        "id": "EtlVIkJUby_Y",
        "outputId": "5905bbef-9833-428b-99f8-5468bcd22d31",
        "colab": {
          "base_uri": "https://localhost:8080/"
        }
      },
      "outputs": [
        {
          "output_type": "execute_result",
          "data": {
            "text/plain": [
              "['12', '2011', '13', '2012', '2', '2011', '25', '3012']"
            ]
          },
          "metadata": {},
          "execution_count": 34
        }
      ],
      "source": [
        "re.findall(\"\\d+\", text) # отдельно числа"
      ]
    },
    {
      "cell_type": "markdown",
      "metadata": {
        "id": "CZUJ5t8Bby_Z"
      },
      "source": [
        "Получилось! А если сочетания по 1-2 цифры (иногда с пробелом после)? Тут нужен знак `.`, который отвечает ровно за один символ. "
      ]
    },
    {
      "cell_type": "code",
      "execution_count": 35,
      "metadata": {
        "id": "O3hgSWC6by_Z",
        "outputId": "f7791ee3-42a9-4860-cc84-6b592cf64717",
        "colab": {
          "base_uri": "https://localhost:8080/"
        }
      },
      "outputs": [
        {
          "output_type": "execute_result",
          "data": {
            "text/plain": [
              "['12', '20', '11', '13', '20', '12', '2 ', '20', '11', '25', '30', '12']"
            ]
          },
          "metadata": {},
          "execution_count": 35
        }
      ],
      "source": [
        "re.findall(\"\\d.\", text) # отдельно числа по 1-2 цифры"
      ]
    },
    {
      "cell_type": "markdown",
      "metadata": {
        "id": "TWoRUN4jby_Z"
      },
      "source": [
        "Что будет, если мы воспользуемся знаком `?`? Он отвечает за наличие 0 или 1 символа, стоящего слева от регулярного выражения."
      ]
    },
    {
      "cell_type": "code",
      "execution_count": 36,
      "metadata": {
        "id": "WH3kkJZQby_Z",
        "outputId": "697df006-183f-4272-ac37-b06926ac4e65",
        "colab": {
          "base_uri": "https://localhost:8080/"
        }
      },
      "outputs": [
        {
          "output_type": "execute_result",
          "data": {
            "text/plain": [
              "['1',\n",
              " '2',\n",
              " '',\n",
              " '',\n",
              " '',\n",
              " '',\n",
              " '',\n",
              " '',\n",
              " '',\n",
              " '',\n",
              " '2',\n",
              " '0',\n",
              " '1',\n",
              " '1',\n",
              " '',\n",
              " '',\n",
              " '',\n",
              " '',\n",
              " '',\n",
              " '',\n",
              " '',\n",
              " '',\n",
              " '',\n",
              " '',\n",
              " '',\n",
              " '',\n",
              " '',\n",
              " '',\n",
              " '',\n",
              " '',\n",
              " '',\n",
              " '',\n",
              " '',\n",
              " '',\n",
              " '',\n",
              " '',\n",
              " '',\n",
              " '',\n",
              " '',\n",
              " '',\n",
              " '',\n",
              " '',\n",
              " '',\n",
              " '',\n",
              " '',\n",
              " '',\n",
              " '',\n",
              " '',\n",
              " '',\n",
              " '',\n",
              " '',\n",
              " '',\n",
              " '',\n",
              " '',\n",
              " '1',\n",
              " '3',\n",
              " '',\n",
              " '',\n",
              " '',\n",
              " '',\n",
              " '',\n",
              " '',\n",
              " '',\n",
              " '',\n",
              " '2',\n",
              " '0',\n",
              " '1',\n",
              " '2',\n",
              " '',\n",
              " '',\n",
              " '',\n",
              " '',\n",
              " '',\n",
              " '',\n",
              " '',\n",
              " '',\n",
              " '',\n",
              " '',\n",
              " '',\n",
              " '',\n",
              " '',\n",
              " '',\n",
              " '',\n",
              " '',\n",
              " '',\n",
              " '',\n",
              " '',\n",
              " '',\n",
              " '',\n",
              " '',\n",
              " '',\n",
              " '',\n",
              " '',\n",
              " '',\n",
              " '',\n",
              " '',\n",
              " '',\n",
              " '',\n",
              " '',\n",
              " '',\n",
              " '',\n",
              " '',\n",
              " '',\n",
              " '',\n",
              " '',\n",
              " '',\n",
              " '',\n",
              " '',\n",
              " '',\n",
              " '',\n",
              " '',\n",
              " '',\n",
              " '',\n",
              " '',\n",
              " '',\n",
              " '',\n",
              " '',\n",
              " '',\n",
              " '',\n",
              " '',\n",
              " '',\n",
              " '',\n",
              " '',\n",
              " '',\n",
              " '',\n",
              " '',\n",
              " '',\n",
              " '2',\n",
              " '',\n",
              " '',\n",
              " '',\n",
              " '',\n",
              " '',\n",
              " '',\n",
              " '',\n",
              " '',\n",
              " '',\n",
              " '2',\n",
              " '0',\n",
              " '1',\n",
              " '1',\n",
              " '',\n",
              " '',\n",
              " '',\n",
              " '',\n",
              " '',\n",
              " '',\n",
              " '',\n",
              " '',\n",
              " '2',\n",
              " '5',\n",
              " '',\n",
              " '',\n",
              " '',\n",
              " '',\n",
              " '',\n",
              " '',\n",
              " '',\n",
              " '',\n",
              " '',\n",
              " '3',\n",
              " '0',\n",
              " '1',\n",
              " '2',\n",
              " '',\n",
              " '',\n",
              " '',\n",
              " '',\n",
              " '',\n",
              " '',\n",
              " '']"
            ]
          },
          "metadata": {},
          "execution_count": 36
        }
      ],
      "source": [
        "re.findall(\"\\d?\", text) # по 1 символу"
      ]
    },
    {
      "cell_type": "markdown",
      "metadata": {
        "id": "dTvl5jfOby_Z"
      },
      "source": [
        "Получили какое-то безобразие. Но это безобразие оправдано: добавив `?` мы поставили условие, что в подстроке либо есть ровно одна цифра, либо ее нет. Поэтому мы и получили такой странный список. "
      ]
    },
    {
      "cell_type": "markdown",
      "metadata": {
        "id": "d67ixmcbby_Z"
      },
      "source": [
        "**Задание 1:** написать регулярное выражение, которое будет \"ловить\" все годы в тексте.\n",
        "\n",
        "*Решение:*"
      ]
    },
    {
      "cell_type": "code",
      "execution_count": 38,
      "metadata": {
        "id": "JgtoaUwiby_Z",
        "outputId": "282c4acd-449e-4b68-af21-6cf924e0b26e",
        "colab": {
          "base_uri": "https://localhost:8080/"
        }
      },
      "outputs": [
        {
          "output_type": "execute_result",
          "data": {
            "text/plain": [
              "['2011', '2012', '2011', '3012']"
            ]
          },
          "metadata": {},
          "execution_count": 38
        }
      ],
      "source": [
        "re.findall(\"\\d{4}\", text) # 4 цифры подряд"
      ]
    },
    {
      "cell_type": "markdown",
      "metadata": {
        "id": "MJVtUXO6by_a"
      },
      "source": [
        "А что, если в тексте будут элементы из 4 цифр, которые не будут годами?"
      ]
    },
    {
      "cell_type": "code",
      "execution_count": 39,
      "metadata": {
        "id": "21YpTo-hby_a",
        "outputId": "e92c3383-ac66-47f9-9400-6fbbc421b115",
        "colab": {
          "base_uri": "https://localhost:8080/",
          "height": 54
        }
      },
      "outputs": [
        {
          "output_type": "execute_result",
          "data": {
            "text/plain": [
              "'По имеющимся данным, в Екатеринбургской губернии на май 1916 года было занято 50611 военнопленных,из них 34194 на фабричных и заводских работах, 5731 на «казённых», 5060 на сельскохозяйственных,4145 на железнодорожных, 913 на городских и земских, 568 на прочих.'"
            ],
            "application/vnd.google.colaboratory.intrinsic+json": {
              "type": "string"
            }
          },
          "metadata": {},
          "execution_count": 39
        }
      ],
      "source": [
        "text = \"По имеющимся данным, в Екатеринбургской губернии на май 1916 года было занято 50611 военнопленных,\\\n",
        "из них 34194 на фабричных и заводских работах, 5731 на «казённых», 5060 на сельскохозяйственных,\\\n",
        "4145 на железнодорожных, 913 на городских и земских, 568 на прочих.\"\n",
        "text"
      ]
    },
    {
      "cell_type": "code",
      "execution_count": 41,
      "metadata": {
        "id": "TeuM5hIbby_a",
        "outputId": "895ef754-2c0b-4c78-8edd-2f57ead8142f",
        "colab": {
          "base_uri": "https://localhost:8080/"
        }
      },
      "outputs": [
        {
          "output_type": "execute_result",
          "data": {
            "text/plain": [
              "['1916']"
            ]
          },
          "metadata": {},
          "execution_count": 41
        }
      ],
      "source": [
        "re.findall(\"1\\d{3}\", text) # 4 цифры подряд"
      ]
    },
    {
      "cell_type": "markdown",
      "metadata": {
        "id": "RoXJfeTyby_a"
      },
      "source": [
        "**Задание 2:** написать регулярное выражение, которое будет \"ловить\" все слова с основой *удивительн* в тексте.\n",
        "\n",
        "*Решение:*"
      ]
    },
    {
      "cell_type": "code",
      "execution_count": 48,
      "metadata": {
        "id": "J4pStNb1by_a",
        "outputId": "bbdb6203-c9c3-46ec-93e1-8698294e8928",
        "colab": {
          "base_uri": "https://localhost:8080/"
        }
      },
      "outputs": [
        {
          "output_type": "execute_result",
          "data": {
            "text/plain": [
              "['удивительное', 'удивительнее']"
            ]
          },
          "metadata": {},
          "execution_count": 48
        }
      ],
      "source": [
        "text = \"12 ноября 2011 года произошло удивительное событие. А 13 ноября 2012 - еще удивительнее. Даже не будем \\\n",
        "говорить, что произошло 2 декабря 2011 года и 25 декабря 2012 года.\"\n",
        "re.findall(\"удивительн\\w\\w\", text) # из текста знаем, что больше двух букв после не будет"
      ]
    },
    {
      "cell_type": "markdown",
      "metadata": {
        "id": "FD4JzhMQby_a"
      },
      "source": [
        "Теперь давайте вместе напишем регулярное выражение, которое будет соответствовать датам с годами. Как выглядят даты в нашем тексте? Сначала идет одна цифра или более, затем пробел, далее буквенное название месяца, пробел и снова цифры, но теперь уже ровно 4, так как они складываются в год. Как обозначаются цифры мы знаем, русские буквы тоже. пробелу соответствует символ `\\s` (обратный слэш обязателен, так как без него это будет обычная буква *s*)."
      ]
    },
    {
      "cell_type": "code",
      "execution_count": 49,
      "metadata": {
        "id": "2Joon3Lpby_a",
        "outputId": "1cf65df3-fd02-447e-a2fb-223a6e3f2c3e",
        "colab": {
          "base_uri": "https://localhost:8080/"
        }
      },
      "outputs": [
        {
          "output_type": "execute_result",
          "data": {
            "text/plain": [
              "['12 ноября 2011', '13 ноября 2012', '2 декабря 2011', '25 декабря 2012']"
            ]
          },
          "metadata": {},
          "execution_count": 49
        }
      ],
      "source": [
        "#Число, пробел, набор букв, пробел, четыре цифры\n",
        "re.findall(\"\\d+\\s[а-я]+\\s\\d{4}\", text) # осталось прочитать регулярку по слогам :)"
      ]
    },
    {
      "cell_type": "markdown",
      "metadata": {
        "id": "CEcU7Wqyby_a"
      },
      "source": [
        "Теперь давайте рассмотрим еще один пример. Пусть у нас есть список твитов, только список учебный, вместо полного текста одни хэштеги. "
      ]
    },
    {
      "cell_type": "code",
      "execution_count": 50,
      "metadata": {
        "id": "e7u4URSaby_b"
      },
      "outputs": [],
      "source": [
        "tweets = [\"#я не могу молчать\", \"#я не могу кричать\", \"#я не могу\", \"#я справлюсь\", \"я не могу молчать\",\n",
        "        \"#я не могу жить\", \"#я все могу\", \"#с кем не бывает\"]"
      ]
    },
    {
      "cell_type": "markdown",
      "metadata": {
        "id": "AodLYp1gby_b"
      },
      "source": [
        "Задача: создать новый список, содержащий только твиты, начинающиеся с `#я не могу`. Сначала напишем регулярное выражение и посмотрим, как оно работает."
      ]
    },
    {
      "cell_type": "code",
      "execution_count": 51,
      "metadata": {
        "id": "7-9U1AlGby_b"
      },
      "outputs": [],
      "source": [
        "tweets = \"#я не могу молчать #я не могу кричать #я не могу #я справлюсь я не могу молчать #я не могу жить #я все могу #с кем не бывает\""
      ]
    },
    {
      "cell_type": "code",
      "execution_count": 53,
      "metadata": {
        "id": "YQIw6DN8by_b",
        "outputId": "85b567c5-cd29-4b4a-f445-572e410436d5",
        "colab": {
          "base_uri": "https://localhost:8080/"
        }
      },
      "outputs": [
        {
          "output_type": "execute_result",
          "data": {
            "text/plain": [
              "['#я не могу молчать ',\n",
              " '#я не могу кричать ',\n",
              " '#я не могу ',\n",
              " '#я не могу жить ']"
            ]
          },
          "metadata": {},
          "execution_count": 53
        }
      ],
      "source": [
        "re.findall(\"#я не могу[^#]+\", tweets)"
      ]
    },
    {
      "cell_type": "markdown",
      "metadata": {
        "id": "YOuIvdKkby_b"
      },
      "source": [
        "Рассмотрим какую-нибудь задачу, где необходимо применить экранирование. Пусть у нас есть некоторая строка с данными:"
      ]
    },
    {
      "cell_type": "code",
      "execution_count": 55,
      "metadata": {
        "id": "32-BqtYBby_b"
      },
      "outputs": [],
      "source": [
        "data = '20.05.1963, 55, 12.12.2000, 17, 15/15/1111'\n"
      ]
    },
    {
      "cell_type": "markdown",
      "metadata": {
        "id": "oiq_rnRxby_b"
      },
      "source": [
        "И нам нужно выбрать из нее даты, записанные через точку. Напишем регулярное выражение, которое позволит это сделать, но перед этим вспомним, что точку нужно экранировать ‒ ставить перед ней `\\`, чтобы Python понимал, что мы ищем не один любой символ (`.`), а именно точку как знак препинания. "
      ]
    },
    {
      "cell_type": "code",
      "execution_count": 56,
      "metadata": {
        "id": "FKGFh7vOby_b",
        "outputId": "5a44d04c-6227-4c3c-8421-997dc9621500",
        "colab": {
          "base_uri": "https://localhost:8080/"
        }
      },
      "outputs": [
        {
          "output_type": "execute_result",
          "data": {
            "text/plain": [
              "['20.05.1963', '12.12.2000']"
            ]
          },
          "metadata": {},
          "execution_count": 56
        }
      ],
      "source": [
        "re.findall(\"\\d+\\.\\d+.\\d{4}\", data) # готово"
      ]
    },
    {
      "cell_type": "markdown",
      "metadata": {
        "id": "H4EGttlDby_b"
      },
      "source": [
        "До этого мы работали только с функциями `findall` и `search`(не особенно в них разбираясь), но в модуле `re` есть и другие полезные функции. Вот наиболее часто используемые из них:\n",
        "\n",
        "- `re.match()`\n",
        "- `re.search()`\n",
        "- `re.findall()`\n",
        "- `re.split()`\n",
        "- `re.sub()`\n",
        "- `re.compile()`\n",
        "\n",
        "Рассмотрим их подробнее."
      ]
    },
    {
      "cell_type": "markdown",
      "metadata": {
        "id": "o2RHvwnhby_c"
      },
      "source": [
        "### re.match(pattern, string):\n",
        "Этот метод ищет по заданному шаблону в начале строки. Например, если мы вызовем метод `match()` на строке «Сидоров Иван Иванович» с шаблоном «Сидоров», то он завершится успешно. Однако если мы будем искать «Иван», то результат будет отрицательный. Давайте посмотрим на его работу:"
      ]
    },
    {
      "cell_type": "code",
      "execution_count": 57,
      "metadata": {
        "id": "dcYgSpPSby_c",
        "outputId": "0102698d-736b-435f-8bb3-fcfdb8c7ee89",
        "colab": {
          "base_uri": "https://localhost:8080/"
        }
      },
      "outputs": [
        {
          "output_type": "stream",
          "name": "stdout",
          "text": [
            "<re.Match object; span=(0, 20), match='1223ghjhgtyuiСидоров'>\n"
          ]
        }
      ],
      "source": [
        "result = re.match(r'\\d+\\w+', '1223ghjhgtyuiСидоров Иван Петрович')\n",
        "print(result)"
      ]
    },
    {
      "cell_type": "markdown",
      "metadata": {
        "id": "b9Fk7o1Iby_c"
      },
      "source": [
        "Искомая подстрока найдена. Чтобы вывести ее содержимое, используем метод `group()`. (Мы используем «r» перед строкой шаблона, чтобы показать, что это «сырая» строка в Python)."
      ]
    },
    {
      "cell_type": "code",
      "execution_count": 58,
      "metadata": {
        "id": "GSbji80Hby_c",
        "outputId": "008b5ce6-70bd-486d-db33-7dc895bf1f94",
        "colab": {
          "base_uri": "https://localhost:8080/",
          "height": 36
        }
      },
      "outputs": [
        {
          "output_type": "execute_result",
          "data": {
            "text/plain": [
              "'1223ghjhgtyuiСидоров'"
            ],
            "application/vnd.google.colaboratory.intrinsic+json": {
              "type": "string"
            }
          },
          "metadata": {},
          "execution_count": 58
        }
      ],
      "source": [
        "result.group(0)"
      ]
    },
    {
      "cell_type": "markdown",
      "metadata": {
        "id": "ST36VBGwby_c"
      },
      "source": [
        "Теперь попробуем найти «Иван» в данной строке. Поскольку строка начинается с фамилии, метод вернет `None`:"
      ]
    },
    {
      "cell_type": "code",
      "execution_count": 59,
      "metadata": {
        "id": "hSXq-8ezby_c",
        "outputId": "2e610b64-19f2-4b98-c1be-dfaebd434c14",
        "colab": {
          "base_uri": "https://localhost:8080/"
        }
      },
      "outputs": [
        {
          "output_type": "stream",
          "name": "stdout",
          "text": [
            "None\n"
          ]
        }
      ],
      "source": [
        "result = re.match(r'Иван', 'Сидоров Иван Петрович')\n",
        "print(result)"
      ]
    },
    {
      "cell_type": "markdown",
      "metadata": {
        "id": "3Z5UJI8tby_c"
      },
      "source": [
        "Также есть методы `start()` и `end()` для того, чтобы узнать начальную и конечную позицию найденной строки."
      ]
    },
    {
      "cell_type": "code",
      "execution_count": 60,
      "metadata": {
        "id": "HaY2UEHuby_c",
        "outputId": "92aad113-6997-4aef-fb10-f773b8759c71",
        "colab": {
          "base_uri": "https://localhost:8080/"
        }
      },
      "outputs": [
        {
          "output_type": "stream",
          "name": "stdout",
          "text": [
            "0\n",
            "7\n"
          ]
        }
      ],
      "source": [
        "result = re.match(r'Сидоров', 'Сидоров Иван Петрович')\n",
        "print(result.start())\n",
        "print(result.end())"
      ]
    },
    {
      "cell_type": "markdown",
      "metadata": {
        "id": "AKH4fH2qby_d"
      },
      "source": [
        "Эти методы иногда очень полезны для работы со строками."
      ]
    },
    {
      "cell_type": "markdown",
      "metadata": {
        "id": "tGz5BOCdby_d"
      },
      "source": [
        "### re.search(pattern, string):\n",
        "Этот метод похож на `match()`, но он ищет не только в начале строки. В отличие от предыдущего, `search()` вернет объект, если мы попытаемся найти «Иван»."
      ]
    },
    {
      "cell_type": "code",
      "execution_count": 61,
      "metadata": {
        "id": "l4QQ38Slby_d",
        "outputId": "895d5ebc-9fb1-455e-879a-d312f71f9f4f",
        "colab": {
          "base_uri": "https://localhost:8080/"
        }
      },
      "outputs": [
        {
          "output_type": "execute_result",
          "data": {
            "text/plain": [
              "<re.Match object; span=(8, 12), match='Иван'>"
            ]
          },
          "metadata": {},
          "execution_count": 61
        }
      ],
      "source": [
        "result = re.search(r'Иван', 'Сидоров Иван Петрович')\n",
        "result"
      ]
    },
    {
      "cell_type": "markdown",
      "metadata": {
        "id": "ONZAfS6nby_d"
      },
      "source": [
        "Метод `search()` ищет по всей строке, но возвращает только первое найденное совпадение."
      ]
    },
    {
      "cell_type": "markdown",
      "metadata": {
        "id": "awX5uTbEby_d"
      },
      "source": [
        "### re.split(pattern, string, [maxsplit=0]):\n",
        "Этот метод разделяет строку по заданному шаблону."
      ]
    },
    {
      "cell_type": "code",
      "execution_count": 62,
      "metadata": {
        "id": "B2BtZod0by_d",
        "outputId": "f69dcd5e-60d0-4076-d78d-c7d7efd489b4",
        "colab": {
          "base_uri": "https://localhost:8080/"
        }
      },
      "outputs": [
        {
          "output_type": "execute_result",
          "data": {
            "text/plain": [
              "['Сидоров', 'Иван', 'Петрович']"
            ]
          },
          "metadata": {},
          "execution_count": 62
        }
      ],
      "source": [
        "result = re.split(r' ', 'Сидоров Иван Петрович')\n",
        "result"
      ]
    },
    {
      "cell_type": "markdown",
      "metadata": {
        "id": "zpoVNEulby_d"
      },
      "source": [
        "В примере мы разделили нашу строку по пробелам. Метод `split()` принимает также аргумент `maxsplit` со значением по умолчанию, равным 0. В данном случае он разделит строку столько раз, сколько возможно, но если указать этот аргумент, то разделение будет произведено не более указанного количества раз. Давайте посмотрим на примеры:"
      ]
    },
    {
      "cell_type": "code",
      "execution_count": 63,
      "metadata": {
        "id": "BxdkQJuXby_d",
        "outputId": "a18b2448-2fd0-4df5-c686-cf9181714f48",
        "colab": {
          "base_uri": "https://localhost:8080/"
        }
      },
      "outputs": [
        {
          "output_type": "execute_result",
          "data": {
            "text/plain": [
              "['Сидоров', 'Иван Петрович']"
            ]
          },
          "metadata": {},
          "execution_count": 63
        }
      ],
      "source": [
        "result = re.split(r' ', 'Сидоров Иван Петрович',maxsplit=1)\n",
        "result"
      ]
    },
    {
      "cell_type": "markdown",
      "metadata": {
        "id": "B862UG9oby_e"
      },
      "source": [
        "Мы установили параметр `maxsplit` равным 1, и в результате строка была разделена на две части вместо трех."
      ]
    },
    {
      "cell_type": "markdown",
      "metadata": {
        "id": "ubKSTgwFby_e"
      },
      "source": [
        "Приведем \"боевой\" пример. У нас есть некоторая ссылка и её нужно разобрать на параметры, которые потом нужно обработать. Здесь видны адрес сайта, судя по всему, тип страницы, название товарной позиции и какой-то непонятный id \\\n",
        "https://beru.ru/product/konditsioner-dlia-belia-aroma-rich-fairy-lion-0-43-l-paket/100583881004\n"
      ]
    },
    {
      "cell_type": "code",
      "execution_count": 64,
      "metadata": {
        "id": "kXBjusyeby_e",
        "outputId": "232f17ac-35af-4c3f-c077-d63fdb354192",
        "colab": {
          "base_uri": "https://localhost:8080/"
        }
      },
      "outputs": [
        {
          "output_type": "execute_result",
          "data": {
            "text/plain": [
              "['https://beru.ru',\n",
              " 'product',\n",
              " 'konditsioner-dlia-belia-aroma-rich-fairy-lion-0-43-l-paket',\n",
              " '100583881004']"
            ]
          },
          "metadata": {},
          "execution_count": 64
        }
      ],
      "source": [
        "site = 'https://beru.ru/product/konditsioner-dlia-belia-aroma-rich-fairy-lion-0-43-l-paket/100583881004'\n",
        "result = re.split(r'\\b/', site)\n",
        "result"
      ]
    },
    {
      "cell_type": "markdown",
      "metadata": {
        "id": "n0nxa3Epby_e"
      },
      "source": [
        "### re.compile(pattern, flags=0):\n",
        "Компилирует объект регулярного выражения.для последующего использования."
      ]
    },
    {
      "cell_type": "code",
      "execution_count": 65,
      "metadata": {
        "scrolled": true,
        "id": "bEhocOUOby_e",
        "outputId": "03eb0ba5-f110-485c-a1bc-df787b409780",
        "colab": {
          "base_uri": "https://localhost:8080/"
        }
      },
      "outputs": [
        {
          "output_type": "execute_result",
          "data": {
            "text/plain": [
              "['7', '867589065', '4', '5', '45']"
            ]
          },
          "metadata": {},
          "execution_count": 65
        }
      ],
      "source": [
        "text = 'hfjklhgadsfk_7fjhsdkl867589065,bhjk4\\n \\\n",
        "        5jfnkld45'\n",
        "digitRegex = re.compile(r'[0-9]+') # Не менее 1 цифры\n",
        "\n",
        "''' Сейчас мы их проверим...'''\n",
        "digitRegex.findall(text)"
      ]
    },
    {
      "cell_type": "markdown",
      "metadata": {
        "id": "sXd2_hqYby_e"
      },
      "source": [
        "### re.sub(pattern, repl, string):\n",
        "Этот метод ищет шаблон в строке и заменяет его на указанную подстроку. Если шаблон не найден, строка остается неизменной."
      ]
    },
    {
      "cell_type": "code",
      "execution_count": 66,
      "metadata": {
        "id": "jwOzqxn7by_e",
        "outputId": "e0e454e9-92ca-4105-c58a-71d3c070cd0a",
        "colab": {
          "base_uri": "https://localhost:8080/",
          "height": 36
        }
      },
      "outputs": [
        {
          "output_type": "execute_result",
          "data": {
            "text/plain": [
              "'Сидоров Иван Петрович'"
            ],
            "application/vnd.google.colaboratory.intrinsic+json": {
              "type": "string"
            }
          },
          "metadata": {},
          "execution_count": 66
        }
      ],
      "source": [
        "result = re.sub(r'[;,]', ' ', 'Сидоров;Иван,Петрович')\n",
        "result"
      ]
    },
    {
      "cell_type": "markdown",
      "metadata": {
        "id": "6uUuVcYlby_e"
      },
      "source": [
        "### Примеры задач с решением\n",
        "\n",
        "### Задача 1. Извлечь все слова, начинающиеся на гласную\n",
        "\n",
        "Для начала вернем все слова:"
      ]
    },
    {
      "cell_type": "code",
      "execution_count": 67,
      "metadata": {
        "id": "L_62eJ7_by_f",
        "outputId": "99b22304-702e-4b96-8db9-937bea37b90e",
        "colab": {
          "base_uri": "https://localhost:8080/"
        }
      },
      "outputs": [
        {
          "output_type": "execute_result",
          "data": {
            "text/plain": [
              "['ОГО',\n",
              " 'Десять',\n",
              " 'негритят',\n",
              " 'отправились',\n",
              " 'обедать',\n",
              " 'Один',\n",
              " 'поперхнулся',\n",
              " 'их',\n",
              " 'осталось',\n",
              " 'девять']"
            ]
          },
          "metadata": {},
          "execution_count": 67
        }
      ],
      "source": [
        "string = 'ОГО Десять негритят отправились обедать, \\\n",
        "          Один поперхнулся, их осталось девять.'\n",
        "re.findall(r'\\w+', string)"
      ]
    },
    {
      "cell_type": "markdown",
      "metadata": {
        "id": "z4Up2x4Zby_f"
      },
      "source": [
        "А теперь — только те, которые начинаются на определенные буквы (используя `[]`):"
      ]
    },
    {
      "cell_type": "code",
      "execution_count": 68,
      "metadata": {
        "id": "nGycf8bMby_f",
        "outputId": "496bc3f0-caed-4a6d-9691-b50cb6f54152",
        "colab": {
          "base_uri": "https://localhost:8080/"
        }
      },
      "outputs": [
        {
          "output_type": "execute_result",
          "data": {
            "text/plain": [
              "['ОГО',\n",
              " 'есять',\n",
              " 'егритят',\n",
              " 'отправились',\n",
              " 'обедать',\n",
              " 'Один',\n",
              " 'оперхнулся',\n",
              " 'их',\n",
              " 'осталось',\n",
              " 'евять']"
            ]
          },
          "metadata": {},
          "execution_count": 68
        }
      ],
      "source": [
        "re.findall(r'[аяоеуюыиэеАЯОЕУЮЫИЭ]\\w+', string)"
      ]
    },
    {
      "cell_type": "markdown",
      "metadata": {
        "id": "ROwMaU-6by_f"
      },
      "source": [
        "Что-то тут не так) Если слово не начинается с глаcной, оно было обрезано до первой гласной. Для того, чтобы убрать их, используем `\\b` для обозначения границы слова:"
      ]
    },
    {
      "cell_type": "code",
      "execution_count": 69,
      "metadata": {
        "id": "D5ZICPz4by_f",
        "outputId": "62759c27-c4ab-4fc3-d517-f86fe71347f5",
        "colab": {
          "base_uri": "https://localhost:8080/"
        }
      },
      "outputs": [
        {
          "output_type": "execute_result",
          "data": {
            "text/plain": [
              "['ОГО', 'отправились', 'обедать', 'Один', 'их', 'осталось']"
            ]
          },
          "metadata": {},
          "execution_count": 69
        }
      ],
      "source": [
        "re.findall(r'\\b[аяоеуюыиэеАЯОЕУЮЫИЭ]\\w+', string)"
      ]
    },
    {
      "cell_type": "markdown",
      "metadata": {
        "id": "Y-CTNJKwby_f"
      },
      "source": [
        "Получили искомый результат. Но что если нам нужно получить слова начинающиеся с согласной буквы? Мы, конечно, можем их всех перечислить как гласные, но это не оптимальный способ. Мы можем использовать `^` внутри квадратных скобок для инвертирования группы:"
      ]
    },
    {
      "cell_type": "code",
      "execution_count": 70,
      "metadata": {
        "id": "SPwhaIwjby_f",
        "outputId": "cf37e402-6dee-40f2-b322-21cb87183f64",
        "colab": {
          "base_uri": "https://localhost:8080/"
        }
      },
      "outputs": [
        {
          "output_type": "execute_result",
          "data": {
            "text/plain": [
              "[' Десять',\n",
              " ' негритят',\n",
              " ' отправились',\n",
              " ' обедать',\n",
              " ' поперхнулся',\n",
              " ' осталось',\n",
              " ' девять']"
            ]
          },
          "metadata": {},
          "execution_count": 70
        }
      ],
      "source": [
        "re.findall(r'\\b[^аяоеуюыиэеАЯОЕУЮЫИЭ]\\w+', string)"
      ]
    },
    {
      "cell_type": "markdown",
      "metadata": {
        "id": "CpZ0uNPOby_f"
      },
      "source": [
        "В результат попали слова, «начинающиеся» с пробела. Уберем их, включив пробел в диапазон в квадратных скобках:"
      ]
    },
    {
      "cell_type": "code",
      "execution_count": 71,
      "metadata": {
        "id": "7WlQQKgBby_g",
        "outputId": "4da2d1f4-4fa7-48aa-fa9a-b531b602936f",
        "colab": {
          "base_uri": "https://localhost:8080/"
        }
      },
      "outputs": [
        {
          "output_type": "execute_result",
          "data": {
            "text/plain": [
              "['Десять', 'негритят', 'поперхнулся', 'девять']"
            ]
          },
          "metadata": {},
          "execution_count": 71
        }
      ],
      "source": [
        "# слова, не начинающиеся с гласной или пробела\n",
        "re.findall(r'\\b[^аяоеуюыиэеАЯОЕУЮЫИЭ ]\\w+', string)"
      ]
    },
    {
      "cell_type": "markdown",
      "metadata": {
        "id": "Wg-XTh6wby_g"
      },
      "source": [
        "### Задача 2. Проверить телефонный номер (номер должен быть длиной 10 знаков и начинаться с 7 или 8)\n",
        "\n",
        "У нас есть телефонный номер и нам нужно проверить его, используя регулярные выражения:"
      ]
    },
    {
      "cell_type": "code",
      "execution_count": 74,
      "metadata": {
        "id": "ahtSotvbby_g",
        "outputId": "5f505e72-895f-45a3-b698-75d3ded040df",
        "colab": {
          "base_uri": "https://localhost:8080/"
        }
      },
      "outputs": [
        {
          "output_type": "stream",
          "name": "stdout",
          "text": [
            "Нет\n"
          ]
        }
      ],
      "source": [
        "val = '899999999964'\n",
        "\n",
        "\n",
        "if re.match(r'[7-8]{1}[0-9]{9}', val) and len(val) == 10:\n",
        "    print('Да')\n",
        "else:\n",
        "    print ('Нет')"
      ]
    },
    {
      "cell_type": "markdown",
      "metadata": {
        "id": "_srGQFuIby_g"
      },
      "source": [
        "Для каждого номера мы проверям его по следующему паттерну: сначала стоит либо 7, либо 8 `[7-8]`, строго один раз `{1}`. Далее идет блок из любых цифр `[0-9]` длинной строго в 9 `{9}`. Ну и в конце мы проверяем длину \"числа\". Если все хорошо, помечаем номер как верный.`[0-9]` можно также заменить на `\\d`, а `{1}` можно опустить. Потому что `[]` по умолчанию подразумевают наличие одного элемента из скобок."
      ]
    },
    {
      "cell_type": "code",
      "execution_count": 75,
      "metadata": {
        "id": "NE2XBkRbby_g",
        "outputId": "227b68d6-92b4-482a-d234-22e6aa492777",
        "colab": {
          "base_uri": "https://localhost:8080/"
        }
      },
      "outputs": [
        {
          "output_type": "stream",
          "name": "stdout",
          "text": [
            "Да\n"
          ]
        }
      ],
      "source": [
        "val = '7999999999'\n",
        "\n",
        "if re.match(r'[7-8]\\d{9}', val) and len(val) == 10:\n",
        "    print('Да')\n",
        "else:\n",
        "    print ('Нет')"
      ]
    },
    {
      "cell_type": "markdown",
      "metadata": {
        "id": "kE49d5jiby_g"
      },
      "source": [
        "### Задача 3. Проверить номера автомобилей \n",
        "\n",
        "В России применяются регистрационные знаки нескольких видов. \n",
        "Общего в них то, что они состоят из цифр и букв. Причём используются только 12 букв кириллицы, \\\n",
        "имеющие графические аналоги в латинском алфавите — А, В, Е, К, М, Н, О, Р, С, Т, У и Х.\n",
        "\n",
        "У частных легковых автомобилях номера — это буква, три цифры, две буквы, затем две или три цифры с \\\n",
        "кодом региона. У такси — две буквы, три цифры, затем две или три цифры с кодом региона. \\\n",
        "Есть также и другие виды, но в этой задаче они не понадобятся."
      ]
    },
    {
      "cell_type": "code",
      "execution_count": 76,
      "metadata": {
        "id": "55400ulsby_g"
      },
      "outputs": [],
      "source": [
        "numbers = ['С227НА777','КУ22777','Т22В7477','М227К19У9','С227НА8777']\n",
        "# Теперь правильные ответы\n",
        "Answers = ['Private','Taxi','Fail','Fail','Fail']"
      ]
    },
    {
      "cell_type": "code",
      "execution_count": null,
      "metadata": {
        "id": "p1NUaRosby_h"
      },
      "outputs": [],
      "source": [
        "[Буквы, которые входят в номер]{1}\\d{3}[Буквы, которые входят в номер]{2}\\d{2,3}\n",
        "[Буквы, которые входят в номер]{2}\\d{5,6}"
      ]
    },
    {
      "cell_type": "code",
      "execution_count": null,
      "metadata": {
        "id": "o9uNfPkIby_h"
      },
      "outputs": [],
      "source": [
        "x = input('Введите номер примера для проверки:')\n",
        "num = numbers[x]\n",
        "\n",
        "if re.match(r'[АВЕКМНОРСТУХ]{1}\\d{3}[АВЕКМНОРСТУХ]{2}\\d{2,3}', num) and len(num) in (8,9):\n",
        "    print('Private')\n",
        "elif re.match(r'[АВЕКМНОРСТУХ]{2}\\d{5,6}', num) and len(num) in (7,8):\n",
        "    print('Taxi')\n",
        "else:\n",
        "    print('Fail')\n"
      ]
    },
    {
      "cell_type": "code",
      "execution_count": 80,
      "metadata": {
        "id": "4_Xralgmby_h",
        "outputId": "765a2c95-cf63-47cd-9c86-53d0098733f0",
        "colab": {
          "base_uri": "https://localhost:8080/",
          "height": 36
        }
      },
      "outputs": [
        {
          "output_type": "execute_result",
          "data": {
            "text/plain": [
              "'hjfdksdajhd754895'"
            ],
            "application/vnd.google.colaboratory.intrinsic+json": {
              "type": "string"
            }
          },
          "metadata": {},
          "execution_count": 80
        }
      ],
      "source": [
        "r'hjfdksdajh{}754895'.format('d')"
      ]
    },
    {
      "cell_type": "markdown",
      "metadata": {
        "id": "nFB5EiH3by_h"
      },
      "source": [
        "### Задача 4. Извлечь информацию из html-файла\n",
        "\n",
        "Допустим, нам надо извлечь информацию из html-файла, заключенную между `<td>` и `</td>` (из таблицы), кроме первого столбца с номером. Также будем считать, что html-код содержится в строке.\n",
        "\n",
        "Пример содержимого html-файла:"
      ]
    },
    {
      "cell_type": "code",
      "execution_count": 81,
      "metadata": {
        "id": "BRnHEZpNby_h",
        "outputId": "a71b222b-79d4-47cd-e9b3-3450c3fdffd7",
        "colab": {
          "base_uri": "https://localhost:8080/"
        }
      },
      "outputs": [
        {
          "output_type": "execute_result",
          "data": {
            "text/plain": [
              "[('Noah', 'Emma'),\n",
              " ('Liam', 'Olivia'),\n",
              " ('Mason', 'Sophia'),\n",
              " ('Jacob', 'Isabella'),\n",
              " ('William', 'Ava'),\n",
              " ('Ethan', 'Mia'),\n",
              " ('Michael', 'Emily')]"
            ]
          },
          "metadata": {},
          "execution_count": 81
        }
      ],
      "source": [
        "test_str = \"1NoahEmma2LiamOlivia3MasonSophia4JacobIsabella5WilliamAva6EthanMia7MichaelEmily\"\n",
        "\n",
        "re.findall(r'\\d([A-Z][a-z]+)([A-Z][a-z]+)', test_str)"
      ]
    },
    {
      "cell_type": "markdown",
      "metadata": {
        "id": "PwO-3eE6by_h"
      },
      "source": [
        "Для лучшего понимания строки, распишем ее в другом виде:\n",
        "\n",
        "1. NoahEmma\n",
        "2. LiamOlivia\n",
        "3. MasonSophia\n",
        "4. ...\n",
        "\n",
        "Сначала мы ищем число, которое будет у нас означать начало новой строки в таблице (стартовую позицию поиска в строке) `\\d`. После этого мы указываем, что имя начинается с заглавной буквы `[A-Z]`. Получим число и первую букву имени."
      ]
    },
    {
      "cell_type": "code",
      "execution_count": 82,
      "metadata": {
        "id": "FnPAscGRby_h",
        "outputId": "9d42006f-d480-429a-e4bc-8390bc07e399",
        "colab": {
          "base_uri": "https://localhost:8080/"
        }
      },
      "outputs": [
        {
          "output_type": "execute_result",
          "data": {
            "text/plain": [
              "['1N', '2L', '3M', '4J', '5W', '6E', '7M']"
            ]
          },
          "metadata": {},
          "execution_count": 82
        }
      ],
      "source": [
        "re.findall(r'\\d[A-Z]', test_str)"
      ]
    },
    {
      "cell_type": "markdown",
      "metadata": {
        "id": "O7D-96Z6by_h"
      },
      "source": [
        "Далее забираем основную часть имени `[a-z]`, там уже строчные буквы. Используем модификатор `+`, чтобы взять все буквы."
      ]
    },
    {
      "cell_type": "code",
      "execution_count": 83,
      "metadata": {
        "id": "R38eA68uby_i",
        "outputId": "5b633cf9-e943-4960-ebcc-57c742561b45",
        "colab": {
          "base_uri": "https://localhost:8080/"
        }
      },
      "outputs": [
        {
          "output_type": "execute_result",
          "data": {
            "text/plain": [
              "['1Noah', '2Liam', '3Mason', '4Jacob', '5William', '6Ethan', '7Michael']"
            ]
          },
          "metadata": {},
          "execution_count": 83
        }
      ],
      "source": [
        "re.findall(r'\\d[A-Z][a-z]+', test_str)"
      ]
    },
    {
      "cell_type": "markdown",
      "metadata": {
        "id": "EjHTMeoJby_i"
      },
      "source": [
        "Но у нас в начале есть номер и имя с фамилией слеплены вместе. Сначала разберемся с номером: `()` позволяют нам указать, что мы будем выводить `([A-Z][a-z]+)`, число останется вне вывода и будет использоваться только для определения позиции следующего применения паттерна."
      ]
    },
    {
      "cell_type": "code",
      "execution_count": 84,
      "metadata": {
        "id": "Nqlk0nDNby_i",
        "outputId": "b1f3273d-c842-4f5b-b079-1a7d3efa9673",
        "colab": {
          "base_uri": "https://localhost:8080/"
        }
      },
      "outputs": [
        {
          "output_type": "execute_result",
          "data": {
            "text/plain": [
              "['Noah', 'Liam', 'Mason', 'Jacob', 'William', 'Ethan', 'Michael']"
            ]
          },
          "metadata": {},
          "execution_count": 84
        }
      ],
      "source": [
        "re.findall(r'\\d([A-Z][a-z]+)', test_str)"
      ]
    },
    {
      "cell_type": "markdown",
      "metadata": {
        "id": "0NPFdLNzby_i"
      },
      "source": [
        "Теперь займемся фамилией. По условию задачи мы знаем, что фамилия тоже начинается с заглавной буквы. Поэтому мы укажем второй (аналогичный имени) паттерн и занесем его в `()` для отдельного вывода"
      ]
    },
    {
      "cell_type": "code",
      "execution_count": 85,
      "metadata": {
        "id": "uuICHNTvby_i",
        "outputId": "3f44c25f-5136-4cdc-b805-9581838f191a",
        "colab": {
          "base_uri": "https://localhost:8080/"
        }
      },
      "outputs": [
        {
          "output_type": "execute_result",
          "data": {
            "text/plain": [
              "[('Noah', 'Emma'),\n",
              " ('Liam', 'Olivia'),\n",
              " ('Mason', 'Sophia'),\n",
              " ('Jacob', 'Isabella'),\n",
              " ('William', 'Ava'),\n",
              " ('Ethan', 'Mia'),\n",
              " ('Michael', 'Emily')]"
            ]
          },
          "metadata": {},
          "execution_count": 85
        }
      ],
      "source": [
        "re.findall(r'\\d([A-Z][a-z]+)([A-Z][a-z]+)', test_str)"
      ]
    },
    {
      "cell_type": "markdown",
      "metadata": {
        "id": "6eJ5Kjd1by_i"
      },
      "source": [
        "Как видно по выводу, фамилия теперь отображается как второй элемент первого вывода паттерна."
      ]
    },
    {
      "cell_type": "markdown",
      "metadata": {
        "id": "ZOAXvKVkby_i"
      },
      "source": [
        "### Задача 5. Поиск однокоренных слов\n",
        "\n",
        "Нужно в тексте найти все однокоренные слова. Будем выполнять на данной скороговорке:\n",
        "\n",
        "Рыла свинья белорыла, тупорыла; полдвора рылом изрыла, вырыла, подрыла."
      ]
    },
    {
      "cell_type": "code",
      "execution_count": 86,
      "metadata": {
        "id": "YFtBKjpbby_j",
        "outputId": "ca39ca53-2fe5-4d9e-ebd7-a8c5eefebeaa",
        "colab": {
          "base_uri": "https://localhost:8080/",
          "height": 36
        }
      },
      "outputs": [
        {
          "output_type": "execute_result",
          "data": {
            "text/plain": [
              "'Рыла свинья белорыла, тупорыла; полдвора рылом изрыла, вырыла, подрыла.'"
            ],
            "application/vnd.google.colaboratory.intrinsic+json": {
              "type": "string"
            }
          },
          "metadata": {},
          "execution_count": 86
        }
      ],
      "source": [
        "pig = \"Рыла свинья белорыла, тупорыла; полдвора рылом изрыла, вырыла, подрыла.\"\n",
        "pig"
      ]
    },
    {
      "cell_type": "markdown",
      "metadata": {
        "id": "ANX0V7J_by_j"
      },
      "source": [
        "Корень может быть как в начале слова, так и где-то в середине. Поэтому учтем это. Сначала у нас могут быть буквы `[а-яА-Я]` длиной от 0 до бесконечности `*`"
      ]
    },
    {
      "cell_type": "code",
      "execution_count": 87,
      "metadata": {
        "id": "X_ZGkQvoby_j",
        "outputId": "21e745cb-9e7d-4c1f-9801-f4ea486a26d0",
        "colab": {
          "base_uri": "https://localhost:8080/"
        }
      },
      "outputs": [
        {
          "output_type": "execute_result",
          "data": {
            "text/plain": [
              "['Рыла',\n",
              " '',\n",
              " 'свинья',\n",
              " '',\n",
              " 'белорыла',\n",
              " '',\n",
              " '',\n",
              " 'тупорыла',\n",
              " '',\n",
              " '',\n",
              " 'полдвора',\n",
              " '',\n",
              " 'рылом',\n",
              " '',\n",
              " 'изрыла',\n",
              " '',\n",
              " '',\n",
              " 'вырыла',\n",
              " '',\n",
              " '',\n",
              " 'подрыла',\n",
              " '',\n",
              " '']"
            ]
          },
          "metadata": {},
          "execution_count": 87
        }
      ],
      "source": [
        "re.findall(r'[а-яА-Я]*', \"Рыла свинья белорыла, тупорыла; полдвора рылом изрыла, вырыла, подрыла.\")"
      ]
    },
    {
      "cell_type": "markdown",
      "metadata": {
        "id": "M5oeyP3Dby_j"
      },
      "source": [
        "Нам попались все слова и пробелы, так как `*`. Далее будем искать наш корень. Нам нужно точное совпадение с `рыл` или `Рыл` для случая с началом предложения `(?:рыл|Рыл)`. `|` говорит нам о выборе между `рыл` и `Рыл`, т.е. подойдет любой из них.\n",
        "\n",
        "Что делает `(?:)` ? Этот символ помогает нам вернуть последовательность полностью. Выше мы уже видели, что, то, что последовательность в скобках соответствует формату вывода. В этом случае `(?:)` это меняет: если последовательность символов подходит ВСЕМУ шаблону, то оно и будет возвращено функцией findall.\n",
        "\n",
        "Но если мы уберем ?:, то любая последовательность подходящая под внутренний паттерн скобок будет выведена."
      ]
    },
    {
      "cell_type": "code",
      "execution_count": 88,
      "metadata": {
        "id": "QaQyrhRjby_j",
        "outputId": "192e8c7e-1dfc-457e-a816-205b98945995",
        "colab": {
          "base_uri": "https://localhost:8080/"
        }
      },
      "outputs": [
        {
          "output_type": "execute_result",
          "data": {
            "text/plain": [
              "['Рыл', 'белорыл', 'тупорыл', 'рыл', 'изрыл', 'вырыл', 'подрыл']"
            ]
          },
          "metadata": {},
          "execution_count": 88
        }
      ],
      "source": [
        "re.findall(r'[а-яА-Я]*(?:рыл|Рыл)', \"Рыла свинья белорыла, тупорыла; полдвора рылом изрыла, вырыла, подрыла.\")"
      ]
    },
    {
      "cell_type": "markdown",
      "metadata": {
        "id": "g4jgu1BIby_j"
      },
      "source": [
        "Есть начало слова и его корень. Осталось добавить окончание. Все аналогично началу слова:"
      ]
    },
    {
      "cell_type": "code",
      "execution_count": 89,
      "metadata": {
        "id": "qaiuU2NVby_j",
        "outputId": "ab92eeb4-037a-4dc3-86a2-00b9629ba444",
        "colab": {
          "base_uri": "https://localhost:8080/"
        }
      },
      "outputs": [
        {
          "output_type": "execute_result",
          "data": {
            "text/plain": [
              "['Рыла', 'белорыла', 'тупорыла', 'рылом', 'изрыла', 'вырыла', 'подрыла']"
            ]
          },
          "metadata": {},
          "execution_count": 89
        }
      ],
      "source": [
        "re.findall(r'[а-яА-Я]*(?:рыл|Рыл)[а-яА-Я]*', \"Рыла свинья белорыла, тупорыла; полдвора рылом изрыла, вырыла, подрыла.\")"
      ]
    },
    {
      "cell_type": "markdown",
      "metadata": {
        "id": "7MWCP0RSby_j"
      },
      "source": [
        "### Задача 6. Проверка пароля\n",
        "\n",
        "На сайте нужно вывести сообщение, если пароль не валиден. \\\n",
        "Обычно пароль должен содержать не менее 8 символов, не менее одной заглавной буквы, \\\n",
        "не менее одной строчной буквы и, опционально, символ"
      ]
    },
    {
      "cell_type": "markdown",
      "metadata": {
        "id": "oCpqGsThby_k"
      },
      "source": [
        "\"Your password must have at least 8 characters, at least an upper case letter, an lowercase letter,\\\n",
        "a number and probably a symbol so you make sure you’ll never remember it in the future\""
      ]
    },
    {
      "cell_type": "code",
      "execution_count": 90,
      "metadata": {
        "id": "2sk3tTk5by_k",
        "outputId": "ef6bb187-8f4c-4b44-c65a-88a804d00aac",
        "colab": {
          "base_uri": "https://localhost:8080/"
        }
      },
      "outputs": [
        {
          "output_type": "stream",
          "name": "stdout",
          "text": [
            "Your password is strong. Good job!\n"
          ]
        }
      ],
      "source": [
        "import re\n",
        "\n",
        "passwordText = 'fbbE4gfhdsjk'\n",
        "\n",
        "# Strength Checks\n",
        "charRegex = re.compile(r'(\\w{8,})')  # Не менее 8 символов (тут не считаются знаки препинания)\n",
        "lowerRegex = re.compile(r'[a-z]+') # Не менее 1 маленькой буквы\n",
        "upperRegex = re.compile(r'[A-Z]+')# Не менее 1 большой буквы\n",
        "digitRegex = re.compile(r'[0-9]+') # Не менее 1 цифры\n",
        "\n",
        "''' Сейчас мы их проверим...'''\n",
        "if charRegex.findall(passwordText) == []:  \n",
        "    print('Password must contain at least 8 characters')\n",
        "elif lowerRegex.findall(passwordText)==[]: \n",
        "    print('Password must contain at least one lowercase character')\n",
        "elif upperRegex.findall(passwordText)==[]: \n",
        "    print('Password must contain at least one uppercase character')\n",
        "elif digitRegex.findall(passwordText)==[]: \n",
        "    print('Password must contain at least one digit character')\n",
        "else:  \n",
        "    print('Your password is strong. Good job!')"
      ]
    },
    {
      "cell_type": "markdown",
      "metadata": {
        "id": "aegHtrkJby_k"
      },
      "source": [
        "## Группирующие скобки (...)\n",
        "\n",
        "Если в шаблоне регулярного выражения встречаются скобки (...) без ?:, то они становятся группирующими. В match-объекте, который возвращают re.search, re.fullmatch и re.finditer, по каждой такой группе можно получить ту же информацию, что и по всему шаблону. А именно часть подстроки, которая соответствует (...), а также индексы начала и окончания в исходной строке. Достаточно часто это бывает полезно."
      ]
    },
    {
      "cell_type": "code",
      "execution_count": 91,
      "metadata": {
        "id": "DmVauJOgby_k",
        "outputId": "ad07695f-45c8-4b81-c5cc-a6c0b13ec075",
        "colab": {
          "base_uri": "https://localhost:8080/"
        }
      },
      "outputs": [
        {
          "output_type": "stream",
          "name": "stdout",
          "text": [
            "Найдена подстрока >   Опять45   < с позиции 3 до 16\n",
            "Группа букв >Опять< с позиции 6 до 11\n",
            "Группа цифр >45< с позиции 11 до 13\n"
          ]
        }
      ],
      "source": [
        "import re \n",
        "pattern = r'\\s*([А-Яа-яЁё]+)(\\d+)\\s*' \n",
        "\n",
        "string = r'---   Опять45   ---' \n",
        "\n",
        "match = re.search(pattern, string) \n",
        "\n",
        "print(f'Найдена подстрока >{match[0]}< с позиции {match.start(0)} до {match.end(0)}') \n",
        "\n",
        "print(f'Группа букв >{match[1]}< с позиции {match.start(1)} до {match.end(1)}') \n",
        "print(f'Группа цифр >{match[2]}< с позиции {match.start(2)} до {match.end(2)}') \n",
        "### \n",
        "# -> Найдена подстрока >   Опять45   < с позиции 3 до 16 \n",
        "# -> Группа букв >Опять< с позиции 6 до 11 \n",
        "# -> Группа цифр >45< с позиции 11 до 13 "
      ]
    },
    {
      "cell_type": "code",
      "execution_count": 92,
      "metadata": {
        "id": "3XU3dCJrby_k",
        "outputId": "08502f56-a32c-4e02-ad61-dd058c1affd9",
        "colab": {
          "base_uri": "https://localhost:8080/",
          "height": 36
        }
      },
      "outputs": [
        {
          "output_type": "execute_result",
          "data": {
            "text/plain": [
              "'ee'"
            ],
            "application/vnd.google.colaboratory.intrinsic+json": {
              "type": "string"
            }
          },
          "metadata": {},
          "execution_count": 92
        }
      ],
      "source": [
        "s = 'It\\'s been a long time'\n",
        "match = re.search(r'(\\s\\w)(\\w\\w)', s) \n",
        "match[2]"
      ]
    },
    {
      "cell_type": "markdown",
      "metadata": {
        "id": "YRWtS-WGby_k"
      },
      "source": [
        "## Заглядывание вперед и назад или позиционные шаблоны\n",
        "\n",
        "Следующие шаблоны применяются в основном в тех случаях, когда нужно уточнить, что должно идти непосредственно перед или после шаблона, но при этом \n",
        "не включать найденное в match-объект."
      ]
    },
    {
      "cell_type": "markdown",
      "metadata": {
        "id": "NfyUV0W-by_k"
      },
      "source": [
        "* `(?=...)` lookahead assertion, соответствует каждой позиции, сразу после которой начинается соответствие шаблону \n",
        "\n",
        "* `(?!...)` negative lookahead assertion, соответствует каждой позиции, сразу после которой НЕ может начинаться шаблон\n",
        "* `(?<=...)` positive lookbehind assertion, соответствует каждой позиции, которой может заканчиваться шаблон. Длина шаблона должна быть фиксированной, то есть abc и a|b — это ОК, а a* и a{2,3} — нет.\n",
        "\n",
        "* `(?<!...)` negative lookbehind assertion, соответствует каждой позиции, которой НЕ может заканчиваться шаблон"
      ]
    },
    {
      "cell_type": "code",
      "execution_count": 93,
      "metadata": {
        "id": "8eWouEjEby_k",
        "outputId": "a15c5a81-53c9-4231-a970-3afb3df84ee2",
        "colab": {
          "base_uri": "https://localhost:8080/"
        }
      },
      "outputs": [
        {
          "output_type": "execute_result",
          "data": {
            "text/plain": [
              "['ЛюдовикVI', 'ЛюдовикVII', 'ЛюдовикVIII']"
            ]
          },
          "metadata": {},
          "execution_count": 93
        }
      ],
      "source": [
        "string = 'КарлIV, КарлIX, КарлV, КарлVI, КарлVII, КарлVIII,ЛюдовикIX, \\\n",
        "ЛюдовикVI, ЛюдовикVII, ЛюдовикVIII, ЛюдовикX, ..., ЛюдовикXVIII, ФилиппI, \\\n",
        "ФилиппII, ФилиппIII, ФилиппIV, ФилиппV, ФилиппVI'\n",
        "# Людовик, после которого первые два символа == VI\n",
        "re.findall(r'Людовик(?=VI)\\w{2,4}',string)"
      ]
    },
    {
      "cell_type": "code",
      "execution_count": 94,
      "metadata": {
        "id": "n89z0cVGby_l",
        "outputId": "3f0892cd-dedc-419c-a952-d4b63c2e19e1",
        "colab": {
          "base_uri": "https://localhost:8080/"
        }
      },
      "outputs": [
        {
          "output_type": "execute_result",
          "data": {
            "text/plain": [
              "['ЛюдовикIX', 'ЛюдовикX', 'ЛюдовикXVII']"
            ]
          },
          "metadata": {},
          "execution_count": 94
        }
      ],
      "source": [
        "string = 'КарлIV, КарлIX, КарлV, КарлVI, КарлVII, КарлVIII,ЛюдовикIX, ЛюдовикVI, ЛюдовикVII, ЛюдовикVIII, ЛюдовикX, ..., ЛюдовикXVIII, ФилиппI, ФилиппII, ФилиппIII, ФилиппIV, ФилиппV, ФилиппVI'\n",
        "# Людовик, после которого первые два символа != VI\n",
        "re.findall(r'Людовик(?!VI)\\w{1,4}',string)"
      ]
    },
    {
      "cell_type": "code",
      "execution_count": 95,
      "metadata": {
        "id": "2qb95irZby_l",
        "outputId": "a22357d3-1221-49f8-d206-e71fbaedbc1d",
        "colab": {
          "base_uri": "https://localhost:8080/"
        }
      },
      "outputs": [
        {
          "output_type": "execute_result",
          "data": {
            "text/plain": [
              "['ЛюдовикVI', 'ЛюдовикVII', 'ЛюдовикVIII']"
            ]
          },
          "metadata": {},
          "execution_count": 95
        }
      ],
      "source": [
        "string = 'КарлIV, КарлIX, КарлV, КарлVI, КарлVII, КарлVIII,ЛюдовикIX, ЛюдовикVI, ЛюдовикVII, ЛюдовикVIII, ЛюдовикX, ..., ЛюдовикXVIII, ФилиппI, ФилиппII, ФилиппIII, ФилиппIV, ФилиппV, ФилиппVI'\n",
        "# цифра, начинающаяся на VI, только если перед ней стоит Людовик\n",
        "re.findall(r'\\w*(?<=Людови.)VI\\w{,2}',string)"
      ]
    },
    {
      "cell_type": "code",
      "execution_count": 96,
      "metadata": {
        "id": "btsOpN4Sby_l",
        "outputId": "5ca61a65-288c-4132-ec5e-7ee9600c8481",
        "colab": {
          "base_uri": "https://localhost:8080/"
        }
      },
      "outputs": [
        {
          "output_type": "execute_result",
          "data": {
            "text/plain": [
              "['КарлVI', 'КарлVII', 'КарлVIII', 'ФилиппVI']"
            ]
          },
          "metadata": {},
          "execution_count": 96
        }
      ],
      "source": [
        "import re\n",
        "string = 'КарлIV, КарлIX, КарлV, КарлVI, КарлVII, КарлVIII,ЛюдовигIX, ЛюдовикVI, ЛюдовикVII, ЛюдовикVIII, ЛюдовикX, ..., ЛюдовикXVIII, ФилиппI, ФилиппII, ФилиппIII, ФилиппIV, ФилиппV, ФилиппVI'\n",
        "# цифра, начинающаяся на VI, только если перед ней НЕ стоит Людовик\n",
        "re.findall(r'[а-яА-Я]+(?<!Людови.)VI\\w{,2}',string)"
      ]
    },
    {
      "cell_type": "markdown",
      "metadata": {
        "id": "MvgqcuDYby_l"
      },
      "source": [
        "### Проверка пароля, дубль два\n",
        "У нас уже была задачка про проверку пароля, которую мы реализовали через *if*. \\\n",
        "Давайте попробуем ее прогнать через одно регулярное выражение\n"
      ]
    },
    {
      "cell_type": "markdown",
      "metadata": {
        "id": "hhKOj5Ksby_l"
      },
      "source": [
        "**Должно быть:**\n",
        "* Не менее 8 символов (тут не считаются знаки препинания)\n",
        "* Не менее 1 маленькой буквы\n",
        "* Не менее 1 большой буквы\n",
        "* Не менее 1 цифры\n",
        "* Без пробелов"
      ]
    },
    {
      "cell_type": "code",
      "execution_count": 97,
      "metadata": {
        "id": "XdT_neINby_l",
        "outputId": "9b9c1857-398a-4461-b5b2-a30b2ccf8b83",
        "colab": {
          "base_uri": "https://localhost:8080/"
        }
      },
      "outputs": [
        {
          "output_type": "stream",
          "name": "stdout",
          "text": [
            "Your password is strong. Good job!\n"
          ]
        }
      ],
      "source": [
        "import re\n",
        "\n",
        "passwordText = '4fBt!hgjkfdl'\n",
        "\n",
        "# Не менее 1 цифры, не менее 1 буквы, не менее 1 большой буквы и без пробелов\n",
        "charRegex = re.compile(r'(?=^.{8,}$)(^(?=.*\\d)(?=.*[a-z])(?=.*[^\\w\\s])(?=.*[A-Z])(?!.*\\s).*).*$')  \n",
        "\n",
        "''' Сейчас мы их проверим...'''\n",
        "if charRegex.match(passwordText) == None:  \n",
        "    print('FAIL')\n",
        "else:  \n",
        "    print('Your password is strong. Good job!')"
      ]
    },
    {
      "cell_type": "markdown",
      "metadata": {
        "id": "mgmSa2eFby_l"
      },
      "source": [
        "И еще давайте туда же встроим проверку на наличие спецсимвола (запятая, точка, восклицательный знак, вопросительный знак)"
      ]
    },
    {
      "cell_type": "code",
      "execution_count": 98,
      "metadata": {
        "id": "rcw5YX10by_m",
        "outputId": "762f9a1e-7637-4532-e3ff-d25db7d5fdd9",
        "colab": {
          "base_uri": "https://localhost:8080/"
        }
      },
      "outputs": [
        {
          "output_type": "stream",
          "name": "stdout",
          "text": [
            "Your password is strong. Good job!\n"
          ]
        }
      ],
      "source": [
        "passwordText = 'fbbE4fkT!'\n",
        "\n",
        "# Не менее 1 цифры, не менее 1 буквы, не менее 1 большой буквы и без пробелов\n",
        "d = ''\n",
        "charRegex = re.compile(r'(?=^.{8,}$)((?=.*\\d)(?=.*[a-z])(?=.*[,.!?])(?=.*[A-Z])(?!.*\\s))')  \n",
        "\n",
        "''' Сейчас мы их проверим...'''\n",
        "if charRegex.match(passwordText) == None:  \n",
        "    print('FAIL')\n",
        "else:  \n",
        "    print('Your password is strong. Good job!')"
      ]
    },
    {
      "cell_type": "markdown",
      "metadata": {
        "id": "ZNghEhaWby_m"
      },
      "source": [
        "## Упражения"
      ]
    },
    {
      "cell_type": "markdown",
      "metadata": {
        "id": "V-VqP1Anby_m"
      },
      "source": [
        "### 1. Достать из строки имена-фамилии на русском языке"
      ]
    },
    {
      "cell_type": "code",
      "execution_count": 99,
      "metadata": {
        "id": "mybaMx4aby_m"
      },
      "outputs": [],
      "source": [
        "users = 'Василий Зайцев, Erwin König, Людмила Павличенко, Josef Allerberger, Matthäus Hetzenauer, Александр Башлачёв'"
      ]
    },
    {
      "cell_type": "code",
      "source": [
        "re.findall(r'[а-яА-ЯёЁ]+\\s[а-яА-ЯёЁ]+', users)"
      ],
      "metadata": {
        "id": "pToEnIM_kFzk",
        "outputId": "12684a09-7f9e-4c6d-89bf-d0a6c4a1a33e",
        "colab": {
          "base_uri": "https://localhost:8080/"
        }
      },
      "execution_count": 101,
      "outputs": [
        {
          "output_type": "execute_result",
          "data": {
            "text/plain": [
              "['Василий Зайцев', 'Людмила Павличенко', 'Александр Башлачёв']"
            ]
          },
          "metadata": {},
          "execution_count": 101
        }
      ]
    },
    {
      "cell_type": "markdown",
      "metadata": {
        "id": "ouVTw90mby_m"
      },
      "source": [
        "Ответ: ['Василий Зайцев', 'Людмила Павличенко', 'Александр Башлачёв']"
      ]
    },
    {
      "cell_type": "markdown",
      "metadata": {
        "id": "661VIgPZby_m"
      },
      "source": [
        "### 2. Выделить из строки email'ы "
      ]
    },
    {
      "cell_type": "markdown",
      "metadata": {
        "id": "d90YOno2by_m"
      },
      "source": [
        "'iawpghnube1206@gmail.com\\r\\n+79151489999 (telegram @vasiiesal) test.tewst2@subsubdomain.subdomain.domain.ru.!'"
      ]
    },
    {
      "cell_type": "markdown",
      "metadata": {
        "id": "PePl0Rlqby_n"
      },
      "source": [
        "Для начала разобьем эту строку \"по границам слов\", то бишь по символам.\n",
        "*findall(r'\\b',x)* разобьет строку вот так:\n",
        "* iawpghnube1206\n",
        "* @\n",
        "* gmail\n",
        "* .\n",
        "* com\n",
        "* \\\n",
        "* r\n",
        "* \\\n",
        "* n\n",
        "* +\n",
        "* 79151489999\n",
        "* (\n",
        "* telegram\n",
        "* @\n",
        "* vasiiesal\n",
        "* test\n",
        "* .\n",
        "* tewst2\n",
        "* @\n",
        "* subsubdomain\n",
        "* .\n",
        "* subdomain\n",
        "* .\n",
        "* domain\n",
        "* .\n",
        "* ru\n",
        "* .!"
      ]
    },
    {
      "cell_type": "code",
      "execution_count": 102,
      "metadata": {
        "id": "_POAbFStby_n",
        "outputId": "7e1184f0-61e2-4621-b177-638700aaec5d",
        "colab": {
          "base_uri": "https://localhost:8080/"
        }
      },
      "outputs": [
        {
          "output_type": "execute_result",
          "data": {
            "text/plain": [
              "['',\n",
              " '',\n",
              " '',\n",
              " '',\n",
              " '',\n",
              " '',\n",
              " '',\n",
              " '',\n",
              " '',\n",
              " '',\n",
              " '',\n",
              " '',\n",
              " '',\n",
              " '',\n",
              " '',\n",
              " '',\n",
              " '',\n",
              " '',\n",
              " '',\n",
              " '',\n",
              " '',\n",
              " '',\n",
              " '',\n",
              " '',\n",
              " '',\n",
              " '']"
            ]
          },
          "metadata": {},
          "execution_count": 102
        }
      ],
      "source": [
        "x = 'iawpgh-----nube1206@gmail.com\\r\\n+79151489999 (telegram @vasiiesal) test.tewst2@subsubdomain.subdomain.domain.ru.!'\n",
        "re.findall(r'\\b', x) # строки в выводе пустые, потому что не указали какой паттерн искать"
      ]
    },
    {
      "cell_type": "markdown",
      "metadata": {
        "id": "QEGxfnqGby_n"
      },
      "source": [
        "Далее идет блок в `[ ]`, в котором как раз определяем паттерн, который ищем, в нашем случае это `S`, где `\\S` любой непробельный символ. НО это только один символ, попадающий в эту маску. Для того чтобы получить неограниченную длинной последовательность, мы добави + к квадратным скобкам.\n",
        "\n",
        "Получим такие вот подстроки:\n",
        "- iawpghnube1206@gmail.com\n",
        "- 79151489999\n",
        "- telegram\n",
        "- vasiiesal)\n",
        "- test.tewst2!@subsubdomain.subdomain.domain.ru.!"
      ]
    },
    {
      "cell_type": "code",
      "execution_count": 103,
      "metadata": {
        "id": "1WLQNeQiby_n",
        "outputId": "0250dcf4-0cc0-49d9-f430-7e758854e829",
        "colab": {
          "base_uri": "https://localhost:8080/"
        }
      },
      "outputs": [
        {
          "output_type": "execute_result",
          "data": {
            "text/plain": [
              "['iawpgh-----nube1206@gmail.com',\n",
              " '79151489999',\n",
              " 'telegram',\n",
              " 'vasiiesal)',\n",
              " 'test.tewst2@subsubdomain.subdomain.domain.ru.!']"
            ]
          },
          "metadata": {},
          "execution_count": 103
        }
      ],
      "source": [
        "re.findall(r'\\b[\\S]+', x)"
      ]
    },
    {
      "cell_type": "markdown",
      "metadata": {
        "id": "W72iYge0by_n"
      },
      "source": [
        "`@` показывает нам, что далее нужно найти 1 символ `@`. Что даст следующие подстроки:\n",
        "\n",
        "- iawpghnube1206@\n",
        "- test.tewst2!@"
      ]
    },
    {
      "cell_type": "code",
      "execution_count": 104,
      "metadata": {
        "id": "-CfNbizeby_n",
        "outputId": "d2536673-f86f-4209-8a60-fe7d9045e503",
        "colab": {
          "base_uri": "https://localhost:8080/"
        }
      },
      "outputs": [
        {
          "output_type": "execute_result",
          "data": {
            "text/plain": [
              "['iawpgh-----nube1206@', 'test.tewst2@']"
            ]
          },
          "metadata": {},
          "execution_count": 104
        }
      ],
      "source": [
        "re.findall(r'\\b[\\S]+@', x)"
      ]
    },
    {
      "cell_type": "markdown",
      "metadata": {
        "id": "tjMKUohDby_n"
      },
      "source": [
        "После `@` всегда идет домен. Как говорилось выше он может иметь несколько уровней. Поэтому мы снова ищем последовательность из букв, цифр и спец знаков, причем данная последовательность встречается от 1 и более раз `{1,}`\n",
        "\n",
        "Получим такие строки:\n",
        "- iawpghnube1206@gmail.com'\n",
        "- test.tewst2!@subsubdomain.subdomain.domain.ru.!"
      ]
    },
    {
      "cell_type": "code",
      "execution_count": 105,
      "metadata": {
        "id": "Oe9-iN4pby_o",
        "outputId": "478bc4c2-8679-4db7-e139-57a420b1de0a",
        "colab": {
          "base_uri": "https://localhost:8080/"
        }
      },
      "outputs": [
        {
          "output_type": "execute_result",
          "data": {
            "text/plain": [
              "['iawpgh-----nube1206@gmail.com',\n",
              " 'test.tewst2@subsubdomain.subdomain.domain.ru.!']"
            ]
          },
          "metadata": {},
          "execution_count": 105
        }
      ],
      "source": [
        "re.findall(r'\\b[\\S]+@[\\S]{1,}', x)"
      ]
    },
    {
      "cell_type": "markdown",
      "metadata": {
        "id": "J08EM_aOby_o"
      },
      "source": [
        "Все выглядит хорошо, кроме того что мы захватили с собой лишние знаки. Однако мы знаем, что почта всегда заканчивается точкой и доменной зоной. Попробуем, это учесть. Укажем, что мы хотим ровно одну точку `\\.` и неограниченное количество букв `\\w+`.В данном случае мы прямо указываем на то что должны быть только буквы, цифры и спецсимволы не могу быть в доменной зоне. Получим:\n",
        "- iawpghnube1206@gmail.com\n",
        "- test.tewst2!@subsubdomain.subdomain.domain.ru"
      ]
    },
    {
      "cell_type": "code",
      "execution_count": 107,
      "metadata": {
        "id": "f2CwTAzBby_o",
        "outputId": "fa51045e-31af-4e47-888a-fcb63ebba961",
        "colab": {
          "base_uri": "https://localhost:8080/"
        }
      },
      "outputs": [
        {
          "output_type": "execute_result",
          "data": {
            "text/plain": [
              "['iawpgh-----nube1206@gmail.com',\n",
              " 'test.tewst2@subsubdomain.subdomain.domain.ru']"
            ]
          },
          "metadata": {},
          "execution_count": 107
        }
      ],
      "source": [
        "re.findall(r'\\b[\\w\\d\\S]+@[\\w\\d\\S]{1,}\\.\\w+', x)"
      ]
    },
    {
      "cell_type": "markdown",
      "metadata": {
        "id": "gKTBHaa0by_o"
      },
      "source": [
        "### А что если мы хотим обращаться прямо к найденным группам?"
      ]
    },
    {
      "cell_type": "code",
      "execution_count": 108,
      "metadata": {
        "id": "FwqIo65Cby_o",
        "outputId": "6ed2e826-de54-415f-a94c-dbb78f04ee69",
        "colab": {
          "base_uri": "https://localhost:8080/"
        }
      },
      "outputs": [
        {
          "output_type": "execute_result",
          "data": {
            "text/plain": [
              "<re.Match object; span=(0, 8), match='32 32 32'>"
            ]
          },
          "metadata": {},
          "execution_count": 108
        }
      ],
      "source": [
        "string = '32 32 32'\n",
        "re.match(r'^(\\d+)\\s\\1\\s\\1$', string)\n",
        "# Тут мы обратились к первой найденной группе через \\1"
      ]
    },
    {
      "cell_type": "markdown",
      "metadata": {
        "id": "956Hy8Txby_o"
      },
      "source": [
        "### Решение 1"
      ]
    },
    {
      "cell_type": "code",
      "execution_count": 109,
      "metadata": {
        "id": "QogQJCdIby_o",
        "outputId": "7897212c-58d0-482f-eb3d-598e68cff9ae",
        "colab": {
          "base_uri": "https://localhost:8080/"
        }
      },
      "outputs": [
        {
          "output_type": "execute_result",
          "data": {
            "text/plain": [
              "['Василий Зайцев', 'Людмила Павличенко', 'Александр Башлачёв']"
            ]
          },
          "metadata": {},
          "execution_count": 109
        }
      ],
      "source": [
        "users = 'Василий Зайцев, Erwin König, Людмила Павличенко, Josef Allerberger, Matthäus Hetzenauer, Александр Башлачёв'\n",
        "re.findall(r'[а-яА-ЯёЁ]+\\s[а-яА-ЯёЁ]+',users)"
      ]
    },
    {
      "cell_type": "markdown",
      "metadata": {
        "id": "8kpTylH8by_o"
      },
      "source": [
        "### Заключение\n",
        "Сегодня мы познакомились с функциями из модуля `re`. Дополнительно про них можно почитать в официальной [документации](https://docs.python.org/3/library/re.html). Кроме того, есть очень хороший ресурс [regex101.com](https://regex101.com), который позволяет скопировать нужный текст и в интерактивном режиме следить, какие совпадения находятся при изменении регулярного выражения, введенного в отдельном окне (не забудьте поставить галочку Python в разделе FLAVOR слева)."
      ]
    }
  ],
  "metadata": {
    "kernelspec": {
      "display_name": "Python 3",
      "language": "python",
      "name": "python3"
    },
    "language_info": {
      "codemirror_mode": {
        "name": "ipython",
        "version": 3
      },
      "file_extension": ".py",
      "mimetype": "text/x-python",
      "name": "python",
      "nbconvert_exporter": "python",
      "pygments_lexer": "ipython3",
      "version": "3.8.3"
    },
    "colab": {
      "provenance": []
    }
  },
  "nbformat": 4,
  "nbformat_minor": 0
}

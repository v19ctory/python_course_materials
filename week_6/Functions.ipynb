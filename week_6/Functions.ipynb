{
  "cells": [
    {
      "cell_type": "markdown",
      "metadata": {
        "id": "eVnfJr-cSksU"
      },
      "source": [
        "\n",
        "# Устройство функций в Python. \n",
        "# Написание простейших функций. \n",
        "Lambda-функции. Функция map(). Написание сложных функций. Декораторы, Генераторы, Рекурсия."
      ]
    },
    {
      "cell_type": "markdown",
      "metadata": {
        "id": "EQvnaC3TSksY"
      },
      "source": [
        "### Что такое функция в Python?\n",
        "\n",
        "По своей сути функции в Python практически ничем не отличаются от функций из других языков программирования. Функцией называют именованный фрагмент программного кода, к которому можно обратиться из другого места вашей программы (но есть lambda-функции, у которых нет имени, о них будет рассказано в конце урока). Как правило, функции создаются для работы с данными, которые передаются ей в качестве аргументов, также функция может формировать некоторое возвращаемое значение. "
      ]
    },
    {
      "cell_type": "markdown",
      "metadata": {
        "id": "hzjJ6EsGSksZ"
      },
      "source": [
        "### Объявляя функцию, нужно следовать определенным правилам:\n",
        "\n",
        "Объявление происходит с помощью ключевого слова **def**, за ним идёт имя функции и круглые скобки ().\n",
        "\n",
        "**Аргументы**, передаваемые в функцию, должны находится в круглых скобках. Там же можно определить их значения по умолчанию, указав их после знака равно.\n",
        "\n",
        "Перед основным содержимым желательно включить **строку документации** (docstring), которая обычно описывает назначение  и основные принципы работы функции.\n",
        "\n",
        "**Тело функции** начинается после знака двоеточия. Важно не забыть об отступах.\n",
        "\n",
        "Чтобы выйти из функции в Python, используют оператор **return [значение]**. Если оператор опущен, будет возвращено значение None.\n",
        "\n",
        "Функцию можно объявить где угодно: внутри модуля, класса или другой функции. Если она объявляет внутри класса, то называется методом класса и вызывается так: *class_name.function()*."
      ]
    },
    {
      "cell_type": "code",
      "execution_count": 1,
      "metadata": {
        "id": "KsMv8QrnSksZ",
        "outputId": "c42494ce-445e-4283-9d47-a24aad661b37",
        "colab": {
          "base_uri": "https://localhost:8080/",
          "height": 36
        }
      },
      "outputs": [
        {
          "output_type": "execute_result",
          "data": {
            "text/plain": [
              "'ASDF'"
            ],
            "application/vnd.google.colaboratory.intrinsic+json": {
              "type": "string"
            }
          },
          "metadata": {},
          "execution_count": 1
        }
      ],
      "source": [
        "'asdf'.upper()"
      ]
    },
    {
      "cell_type": "code",
      "execution_count": null,
      "metadata": {
        "id": "tG96UwY9Sksb"
      },
      "outputs": [],
      "source": [
        "def Имя(аргументы):\n",
        "    '''Документация\n",
        "    '''\n",
        "    Тело (инструкции)\n",
        "    return [значение]"
      ]
    },
    {
      "cell_type": "markdown",
      "metadata": {
        "id": "j1tLh1ZrSksb"
      },
      "source": [
        "На самом деле мы уже использовали огромное количество функций и методов (str(), float(), .add(), .count() и так далее). \n",
        "\n",
        "Попробуем самостоятельно реализовать функцию, складывающую два числа и выводящую результат на печать:"
      ]
    },
    {
      "cell_type": "code",
      "execution_count": 28,
      "metadata": {
        "id": "H5wn8JRKSksb"
      },
      "outputs": [],
      "source": [
        "def summarize(a, b):\n",
        "    summ = a + b\n",
        "    print(summ)\n",
        "    return summ # вернёт None "
      ]
    },
    {
      "cell_type": "markdown",
      "metadata": {
        "id": "cbeW9Ki6Sksc"
      },
      "source": [
        "Теперь эту функцию в любом месте кода можно вызвать:"
      ]
    },
    {
      "cell_type": "code",
      "execution_count": 29,
      "metadata": {
        "id": "Fln8HSxwSksc",
        "outputId": "13547dc1-1bdb-48b5-a609-d8b514952696",
        "colab": {
          "base_uri": "https://localhost:8080/"
        }
      },
      "outputs": [
        {
          "output_type": "stream",
          "name": "stdout",
          "text": [
            "3\n"
          ]
        }
      ],
      "source": [
        "x = summarize(1, 2)"
      ]
    },
    {
      "cell_type": "code",
      "execution_count": 30,
      "metadata": {
        "id": "wyzF9XLOSksc",
        "outputId": "268253cd-2e2a-482c-eda3-dd49db691e0e",
        "colab": {
          "base_uri": "https://localhost:8080/"
        }
      },
      "outputs": [
        {
          "output_type": "execute_result",
          "data": {
            "text/plain": [
              "3"
            ]
          },
          "metadata": {},
          "execution_count": 30
        }
      ],
      "source": [
        "x"
      ]
    },
    {
      "cell_type": "code",
      "execution_count": 31,
      "metadata": {
        "id": "WSMLlDHnSksd",
        "outputId": "7979c94e-289d-4e46-ce3c-3d1a9ef3c525",
        "colab": {
          "base_uri": "https://localhost:8080/"
        }
      },
      "outputs": [
        {
          "output_type": "execute_result",
          "data": {
            "text/plain": [
              "int"
            ]
          },
          "metadata": {},
          "execution_count": 31
        }
      ],
      "source": [
        "type(x)"
      ]
    },
    {
      "cell_type": "markdown",
      "metadata": {
        "id": "NrW3Q04WSksd"
      },
      "source": [
        "А еще можно подать функцию в качестве аргумента для другой функции или записать ее в переменную:"
      ]
    },
    {
      "cell_type": "code",
      "execution_count": 34,
      "metadata": {
        "id": "oHIABSfrSksd",
        "outputId": "5fbe1703-8600-484d-b64e-8fbc892dd557",
        "colab": {
          "base_uri": "https://localhost:8080/"
        }
      },
      "outputs": [
        {
          "output_type": "stream",
          "name": "stdout",
          "text": [
            "7\n",
            "4\n"
          ]
        }
      ],
      "source": [
        "def summ(a =2 , b=2):\n",
        "    summ = a + b\n",
        "    return summ # вернёт сумму\n",
        "\n",
        "c = summ(4, 3) # переменная c будет равна возвращаемому значению\n",
        "\n",
        "\n",
        "print(c)\n",
        "print(summ()) # можно передать значения в аргументы другой функции\n"
      ]
    },
    {
      "cell_type": "code",
      "execution_count": 35,
      "metadata": {
        "id": "Qas4V1trSkse"
      },
      "outputs": [],
      "source": [
        "def summ(a ='string'):\n",
        "    a = a+'dfghjmk,'\n",
        "    return a.swapcase()\n",
        "    "
      ]
    },
    {
      "cell_type": "code",
      "execution_count": 17,
      "metadata": {
        "id": "z4_cgkS8Skse",
        "outputId": "97a42be6-8541-48fc-82f0-6ecb5b0a3f08",
        "colab": {
          "base_uri": "https://localhost:8080/",
          "height": 36
        }
      },
      "outputs": [
        {
          "output_type": "execute_result",
          "data": {
            "text/plain": [
              "'STRINGDFGHJMK,'"
            ],
            "application/vnd.google.colaboratory.intrinsic+json": {
              "type": "string"
            }
          },
          "metadata": {},
          "execution_count": 17
        }
      ],
      "source": [
        "summ()"
      ]
    },
    {
      "cell_type": "markdown",
      "metadata": {
        "id": "DOn6IquvSkse"
      },
      "source": [
        "При описании функции в *Python 3* можно задать аргументы с какими-либо начальными значениями, такие аргументы являются \"необязательными\". Вначале нужно описывать обязательные параметры, а после них – необязательные.\n",
        "При вызове функции не обязательно указывать значения \"необязательных\" параметров (спасибо, кэп). Если мы хотим изменить значение аргумента, не меняя начальные значения других аргументов, можно обращаться к нему по ключу."
      ]
    },
    {
      "cell_type": "code",
      "execution_count": 36,
      "metadata": {
        "id": "0e_yAkZjSkse",
        "outputId": "00e79f28-bbd6-4dd2-8c6a-38326aec1015",
        "colab": {
          "base_uri": "https://localhost:8080/"
        }
      },
      "outputs": [
        {
          "output_type": "stream",
          "name": "stdout",
          "text": [
            "my string\n",
            "3\n",
            "5\n"
          ]
        }
      ],
      "source": [
        "def example(first, second=3, third=5):\n",
        "    print(first)\n",
        "    print(second)\n",
        "    print(third)\n",
        "    \n",
        "example('my string')"
      ]
    },
    {
      "cell_type": "code",
      "execution_count": null,
      "metadata": {
        "id": "IYRb6795Sksf",
        "outputId": "b1a04d89-73db-4fe0-f53d-d8f760a70a03"
      },
      "outputs": [
        {
          "name": "stdout",
          "output_type": "stream",
          "text": [
            "my string\n",
            "dfgh\n",
            "5\n"
          ]
        }
      ],
      "source": [
        "example('my string',second='dfgh')"
      ]
    },
    {
      "cell_type": "markdown",
      "metadata": {
        "id": "RIlNH8cESksf"
      },
      "source": [
        "А еще функция может быть пустой и ничего не делать. Выглядит это так:"
      ]
    },
    {
      "cell_type": "code",
      "execution_count": 37,
      "metadata": {
        "id": "hHR-fteXSksf"
      },
      "outputs": [],
      "source": [
        "def foo():\n",
        "    pass #Оператор-заглушка, равноценный отсутствию операции."
      ]
    },
    {
      "cell_type": "code",
      "execution_count": 38,
      "metadata": {
        "id": "dUxewKlXSksf",
        "outputId": "747a5ebc-98c4-465a-e633-fe5d280d2ff5",
        "colab": {
          "base_uri": "https://localhost:8080/"
        }
      },
      "outputs": [
        {
          "output_type": "execute_result",
          "data": {
            "text/plain": [
              "NoneType"
            ]
          },
          "metadata": {},
          "execution_count": 38
        }
      ],
      "source": [
        "x = foo()\n",
        "type(x)"
      ]
    },
    {
      "cell_type": "markdown",
      "metadata": {
        "id": "zTuW30dgSksg"
      },
      "source": [
        "### Task\n",
        "Напишите функцию, которая принимает на вход тупл из N элементов. Все элемент строки. Разворачивает каждый элемент и добавляет его к исходному.\n",
        "\n",
        "\n",
        "HINT:\n",
        "* Создаем пустой спико\n",
        "* Итерируемся по туплу\n",
        "* Проверяем что это строка\n",
        "* Разворачиваем строку\n",
        "* Создаем новый элемент\n",
        "* Добавляем элементв в список\n",
        "* Конвертируем список в тупл\n",
        "* Возвращем тупл"
      ]
    },
    {
      "cell_type": "code",
      "execution_count": 47,
      "metadata": {
        "id": "0H0idf7DSksg",
        "outputId": "80b5eb9c-6f7f-403a-d798-10dd9da916c8",
        "colab": {
          "base_uri": "https://localhost:8080/"
        }
      },
      "outputs": [
        {
          "output_type": "execute_result",
          "data": {
            "text/plain": [
              "True"
            ]
          },
          "metadata": {},
          "execution_count": 47
        }
      ],
      "source": [
        "input_data = (\"first\", \"task\", \"function\")\n",
        "output_data = ('firsttsrif', 'taskksat', 'functionnoitcnuf')\n",
        "\n",
        "\n",
        "def my_func(data):\n",
        "    new_data = []\n",
        "    for i in range (len(data)):\n",
        "        s = data[i]\n",
        "        for j in range (len(data[i])-1, -1, -1):\n",
        "            s+=data[i][j]\n",
        "        new_data.append(s)\n",
        "    return tuple(new_data)\n",
        "\n",
        "my_func(input_data) == output_data"
      ]
    },
    {
      "cell_type": "markdown",
      "metadata": {
        "id": "rcjzbGknSksg"
      },
      "source": [
        "А что если параметров у функции несколько, но только мы не знаем, сколько. Например, мы хотим складывать числа, которые пользователь вводит с клавиатуры, но мы заранее не знаем, сколько чисел он собирается ввести. Уже несколько раз мы упоминали такое понятие, как \"распаковка\" списков, кортежей и словарей (когда записывается что-то в духе \\*list_name или \\*\\*dictionary_name). "
      ]
    },
    {
      "cell_type": "markdown",
      "metadata": {
        "id": "sBM6MCsNSksg"
      },
      "source": [
        "## Напоминание:\n",
        "Если мы хотим сожержимое двух списков положить в третий список или содержимое двух словарей положить в третий словарь, на помощь нам приходит так называемый \"звездочный синтаксис\":"
      ]
    },
    {
      "cell_type": "code",
      "execution_count": 48,
      "metadata": {
        "id": "k81oao5_Sksg",
        "outputId": "e577ac0d-72e1-480d-c5e7-aebca76d2a23",
        "colab": {
          "base_uri": "https://localhost:8080/"
        }
      },
      "outputs": [
        {
          "output_type": "execute_result",
          "data": {
            "text/plain": [
              "[1, 2, 3, 4, 5, 6]"
            ]
          },
          "metadata": {},
          "execution_count": 48
        }
      ],
      "source": [
        "list1 = [1,2,3]\n",
        "list2 = [4,5,6]\n",
        "\n",
        "list3 = [*list1,*list2] ##положили все элементы обоих списков в третий\n",
        "list3"
      ]
    },
    {
      "cell_type": "code",
      "execution_count": 49,
      "metadata": {
        "id": "XFXCdf2pSksh",
        "outputId": "ec9e45fd-2986-438a-ae74-11e72ccd3eb2",
        "colab": {
          "base_uri": "https://localhost:8080/"
        }
      },
      "outputs": [
        {
          "output_type": "execute_result",
          "data": {
            "text/plain": [
              "{'a': 4, 'b': 2, 'c': 3, 'e': 5, 'f': 6}"
            ]
          },
          "metadata": {},
          "execution_count": 49
        }
      ],
      "source": [
        "dict1 = {'a':1,'b':2,'c':3}\n",
        "dict2 = {'a':4,'e':5,'f':6}\n",
        "\n",
        "dict3 = {**dict1,**dict2} ##положили все элементы обоих словарей в третий\n",
        "dict3"
      ]
    },
    {
      "cell_type": "markdown",
      "metadata": {
        "id": "1fs846cUSksh"
      },
      "source": [
        "Точно таким же образом можно что-то указать \"в явном виде\", а что-то распаковать из структуры (например, вы хотите дописать в новый список числа 3 и 4):"
      ]
    },
    {
      "cell_type": "code",
      "execution_count": null,
      "metadata": {
        "id": "-DrehagiSksh",
        "outputId": "22bb3686-e690-4ad5-e0bf-4052f7274877"
      },
      "outputs": [
        {
          "name": "stdout",
          "output_type": "stream",
          "text": [
            "[3, 4, [0, 1, 2]]\n",
            "[3, 4, 0, 1, 2]\n"
          ]
        }
      ],
      "source": [
        "list1 = [0,1,2]\n",
        "print([3,4,list1]) # тут элементом стал сам список\n",
        "print([3,4,*list1]) # а тут мы элементы списка распаковали"
      ]
    },
    {
      "cell_type": "markdown",
      "metadata": {
        "id": "OKjRvLahSksh"
      },
      "source": [
        "### В функции точно так же можно подавать несколько аргументов!\n",
        "Даже если вы заранее не знаете, сколько их будет. Вспомните, например, функцию print(). Она умеет давать ответ и при одном аргументе, и при двух и при любом N."
      ]
    },
    {
      "cell_type": "code",
      "execution_count": null,
      "metadata": {
        "id": "6yf7cIhwSksh",
        "outputId": "0d74fc35-14d3-41fe-aea5-347b55154b0a"
      },
      "outputs": [
        {
          "name": "stdout",
          "output_type": "stream",
          "text": [
            "sum: 35\n"
          ]
        }
      ],
      "source": [
        "def adder(x, y, z):\n",
        "    print(\"sum:\",x + y + z)\n",
        "\n",
        "adder(10, 12, 13)"
      ]
    },
    {
      "cell_type": "code",
      "execution_count": null,
      "metadata": {
        "id": "1hWKP9yISksh",
        "outputId": "c7ee1d16-c813-4834-a913-aebed1b135b5"
      },
      "outputs": [
        {
          "name": "stdout",
          "output_type": "stream",
          "text": [
            "1 2 3\n"
          ]
        }
      ],
      "source": [
        "print(1,2,3)"
      ]
    },
    {
      "cell_type": "markdown",
      "metadata": {
        "id": "8QqQCyStSksi"
      },
      "source": [
        "### \\*args и \\*\\*kwargs спешат на помощь\n",
        "В Python можно передать переменное количество аргументов двумя способами:\n",
        "\n",
        "* \\*args для неименованных аргументов;\n",
        "* \\*\\*kwargs для именованных аргументов.\n",
        "Мы используем \\*args и \\*\\*kwargs в качестве аргумента, когда заранее не известно, сколько значений мы хотим передать функции."
      ]
    },
    {
      "cell_type": "markdown",
      "metadata": {
        "id": "yp9WkmQ7Sksi"
      },
      "source": [
        "### \\*args\n",
        "Как было сказано, \\*args нужен, когда мы хотим передать неизвестное количество неименованных аргументов. Если поставить * перед именем, это имя будет принимать не один аргумент, а несколько. Аргументы передаются как кортеж и доступны внутри функции под тем же именем, что и имя параметра, только без *."
      ]
    },
    {
      "cell_type": "code",
      "execution_count": null,
      "metadata": {
        "id": "XFzeoyWqSksi"
      },
      "outputs": [],
      "source": []
    },
    {
      "cell_type": "code",
      "execution_count": null,
      "metadata": {
        "id": "JvAkAkipSksi"
      },
      "outputs": [],
      "source": [
        "# a,b,c,d,e = [1,2,3,4,5]"
      ]
    },
    {
      "cell_type": "code",
      "execution_count": null,
      "metadata": {
        "id": "_WT0FCL1Sksi",
        "outputId": "f66a6f09-62f6-44ae-81fd-1164b74d7946"
      },
      "outputs": [
        {
          "name": "stdout",
          "output_type": "stream",
          "text": [
            "Sum:  8\n",
            "Sum:  22\n",
            "Sum:  17\n"
          ]
        }
      ],
      "source": [
        "def adder(*nums):\n",
        "    summ = 0\n",
        "    for n in nums:\n",
        "        summ += n\n",
        "\n",
        "    print(\"Sum: \", summ)\n",
        "\n",
        "adder(3, 5)\n",
        "adder(4, 5, 6, 7)\n",
        "adder(1, 2, 3, 5, 6)"
      ]
    },
    {
      "cell_type": "markdown",
      "metadata": {
        "id": "03rtk0sISksi"
      },
      "source": [
        "### \\*\\*kwargs\n",
        "По аналогии с \\*args мы используем \\*\\*kwargs для передачи переменного количества именованных аргументов. Схоже с \\*args, если поставить ** перед именем, это имя будет принимать любое количество именованных аргументов. Кортеж/словарь из нескольких переданных аргументов будет доступен под этим именем. Например:"
      ]
    },
    {
      "cell_type": "code",
      "execution_count": null,
      "metadata": {
        "id": "Sls0uXrdSksi",
        "outputId": "d15cce60-6ae1-42eb-9a03-85759820c503"
      },
      "outputs": [
        {
          "name": "stdout",
          "output_type": "stream",
          "text": [
            "\n",
            "Data type of argument:  <class 'dict'>\n",
            "Firstname is Yoko\n",
            "Lastname is Ono\n",
            "Age is 87\n",
            "Phone is 1234567890\n",
            "\n",
            "Data type of argument:  <class 'dict'>\n",
            "Firstname is John\n",
            "Lastname is Lennon\n",
            "Email is johnlennon@nomail.com\n",
            "Country is UK\n",
            "Age is 40\n",
            "Phone is 9876543210\n"
          ]
        }
      ],
      "source": [
        "def intro(**data):\n",
        "    print(\"\\nData type of argument: \",type(data))\n",
        "\n",
        "    for key, value in data.items():\n",
        "        print(\"{} is {}\".format(key, value))\n",
        "\n",
        "intro(Firstname=\"Yoko\", Lastname=\"Ono\", Age=87, Phone=1234567890)\n",
        "intro(Firstname=\"John\", Lastname=\"Lennon\", Email=\"johnlennon@nomail.com\", Country=\"UK\", Age=40, Phone=9876543210)"
      ]
    },
    {
      "cell_type": "markdown",
      "metadata": {
        "id": "-V7y__vOSksj"
      },
      "source": [
        "В этом случае у нас есть функция **intro()** с параметром \\*\\*data. В функцию мы передали два словаря разной длины. Затем внутри функции мы прошлись в цикле по словарям, чтобы вывести их содержимое."
      ]
    },
    {
      "cell_type": "markdown",
      "metadata": {
        "id": "qBKIMQr-Sksj"
      },
      "source": [
        "### Локальные и глобальные переменные aka Области видимости\n",
        "\n",
        "#### Локальные переменные\n",
        "Для создания переменных, обладающих локальной областью видимости, необходимо всего лишь поместить их в отдельный блок кода, изолированный от остальной программы. Например, у нас таким свойством обладают все переменные, которые мы прежде использовали в функциях, например:"
      ]
    },
    {
      "cell_type": "code",
      "execution_count": null,
      "metadata": {
        "id": "iPBfvtu_Sksj"
      },
      "outputs": [],
      "source": [
        "def f(x):\n",
        "    output = x+1\n",
        "    output2 = output + 1\n",
        "    return output2\n",
        "\n",
        "print(f(4))\n",
        "print(output)"
      ]
    },
    {
      "cell_type": "markdown",
      "metadata": {
        "id": "jLiW1CPMSksj"
      },
      "source": [
        "Функция у нас сработала, а вот переменную за пределами функции мы не видим. А что если мы попробуем изнутри функции использовать переменную, определенную вовне?"
      ]
    },
    {
      "cell_type": "code",
      "execution_count": 51,
      "metadata": {
        "id": "zHOVdp0-Sksj",
        "outputId": "85c80a28-c284-42c6-eb83-14cebc63aaad",
        "colab": {
          "base_uri": "https://localhost:8080/"
        }
      },
      "outputs": [
        {
          "output_type": "stream",
          "name": "stdout",
          "text": [
            "11\n"
          ]
        }
      ],
      "source": [
        "x = 11\n",
        "\n",
        "def foo(z):\n",
        "    print(x)\n",
        "    return None\n",
        "\n",
        "foo(10)"
      ]
    },
    {
      "cell_type": "markdown",
      "metadata": {
        "id": "PFgaU_WrSksj"
      },
      "source": [
        "Сработало! Более того - все переменные, объявленные \"в более широкой области видимости\" всегда доступны \"в более узкой области видимости\". Попробуем завернуть несколько функций друг в друга и взглянуть на значения:"
      ]
    },
    {
      "cell_type": "code",
      "execution_count": 52,
      "metadata": {
        "id": "2V6OAZKmSksj",
        "outputId": "c3132a2e-2e2f-4d37-ba1c-ade112425414",
        "colab": {
          "base_uri": "https://localhost:8080/"
        }
      },
      "outputs": [
        {
          "output_type": "execute_result",
          "data": {
            "text/plain": [
              "100"
            ]
          },
          "metadata": {},
          "execution_count": 52
        }
      ],
      "source": [
        "def f1():\n",
        "    x = 100\n",
        "    def f2():\n",
        "        x = 200\n",
        "    f2()\n",
        "    return x\n",
        "f1()"
      ]
    },
    {
      "cell_type": "markdown",
      "metadata": {
        "id": "jRWxvoEUSksj"
      },
      "source": [
        "Выведено было значение с \"самого высокого уровня\"."
      ]
    },
    {
      "cell_type": "markdown",
      "metadata": {
        "id": "6jh6RaCGSksk"
      },
      "source": [
        "Если нам все-таки нужно использовать значение переменной \"изнутри\" функции, можно сказать , что мы объявляем глобальную переменную. Для этого используется выражение **global**"
      ]
    },
    {
      "cell_type": "code",
      "execution_count": 53,
      "metadata": {
        "id": "BvLdphJOSksk",
        "outputId": "85538ab9-1be9-4c34-f7e7-eb22117efad3",
        "colab": {
          "base_uri": "https://localhost:8080/"
        }
      },
      "outputs": [
        {
          "output_type": "stream",
          "name": "stdout",
          "text": [
            "I am looking for a course in Paris!\n",
            "Only in spring, but London is great as well!\n",
            "Only in spring, but London is great as well!\n"
          ]
        }
      ],
      "source": [
        "def f():\n",
        "    global s\n",
        "    print(s)\n",
        "    s = \"Only in spring, but London is great as well!\"\n",
        "    print(s)\n",
        "\n",
        "\n",
        "s = \"I am looking for a course in Paris!\" \n",
        "f()\n",
        "print(s)"
      ]
    },
    {
      "cell_type": "markdown",
      "metadata": {
        "id": "g20wpyzkSksk"
      },
      "source": [
        "Здесь мы вызвали функцию и она перезаписала нам значение в переменную s"
      ]
    },
    {
      "cell_type": "markdown",
      "metadata": {
        "id": "Umi131-3Sksk"
      },
      "source": [
        "В Python 3 есть еще один тип переменных, который позволяет использовать значение внутри областей видимости, но не выносить их в глобальную область. Это так называемые **nonlocal** переменные."
      ]
    },
    {
      "cell_type": "code",
      "execution_count": 54,
      "metadata": {
        "id": "NZdBKDfvSksk",
        "outputId": "42a1686f-9163-4cc4-b19b-ceea017079e8",
        "colab": {
          "base_uri": "https://localhost:8080/"
        }
      },
      "outputs": [
        {
          "output_type": "stream",
          "name": "stdout",
          "text": [
            "before ff Frankfurt am Maine\n",
            "Before calling g: Munich\n",
            "Calling g now:\n",
            "After calling g: Zurich\n",
            "after ff Frankfurt am Maine\n",
            "'city' in main: Stuttgart\n"
          ]
        }
      ],
      "source": [
        "def f():\n",
        "    city = \"Frankfurt am Maine\"\n",
        "    def ff():\n",
        "        city = \"Munich\"\n",
        "        def g():\n",
        "            nonlocal city\n",
        "            city = \"Zurich\"\n",
        "        print(\"Before calling g: \" + city)\n",
        "        print(\"Calling g now:\")\n",
        "        g()\n",
        "        print(\"After calling g: \" + city)\n",
        "    print('before ff', city)\n",
        "    ff()\n",
        "    print('after ff', city)\n",
        "    \n",
        "    \n",
        "city = \"Stuttgart\"\n",
        "f()\n",
        "print(\"'city' in main: \" + city)"
      ]
    },
    {
      "cell_type": "markdown",
      "metadata": {
        "id": "_YuePGTvSksk"
      },
      "source": [
        "Видно, что в глобальную область видимости Цюрих не доехал, но в локальной он переехал со 1го уровня вложенности в функцию f :)"
      ]
    },
    {
      "cell_type": "markdown",
      "metadata": {
        "id": "0_lQTVFvSksk"
      },
      "source": [
        "### Lambda-функции\n",
        "Это особый вид функций, которые объявляются с помощью ключевого слова **lambda** вместо **def**:\n",
        "Лямбда-функции принимают любое количество аргументов, но не могут содержать несколько выражений и всегда возвращают только одно значение.\n",
        "В программировании на **Python** можно обойтись без анонимных функций, которые по сути являются обычными, но без имени и с ограничением в одно выражение. Однако их использование в нужных местах упрощает написание и восприятие кода. Пишется так:\n",
        "\n",
        "* lambda arguments: expression\n",
        "\n",
        "arguments - аргументы, expression - выражение, возвращающее значение.\n",
        "\n",
        "Пример (lambda функция, которая добавляет к переданному аргументу 1 и возвращает результат):"
      ]
    },
    {
      "cell_type": "code",
      "execution_count": 55,
      "metadata": {
        "id": "wggn6l7lSksk",
        "outputId": "c2ac4c91-2ba9-40c9-e72d-d6862df40ff0",
        "colab": {
          "base_uri": "https://localhost:8080/"
        }
      },
      "outputs": [
        {
          "output_type": "execute_result",
          "data": {
            "text/plain": [
              "[0, 1, 2, 3, 4, 5, 6, 7, 8]"
            ]
          },
          "metadata": {},
          "execution_count": 55
        }
      ],
      "source": [
        "add_1 = lambda x: [i for i in range(x + 1)]\n",
        "add_1(8) "
      ]
    },
    {
      "cell_type": "markdown",
      "metadata": {
        "id": "DZQOZjT8Sksl"
      },
      "source": [
        "А если мы вдруг решили сложить два числа, то это тоже можно сделать с помощью лямбда-функции:"
      ]
    },
    {
      "cell_type": "code",
      "execution_count": 56,
      "metadata": {
        "id": "F2l0KodPSksl",
        "outputId": "58e29e49-1246-4d56-9f8a-5d4cd5c71510",
        "colab": {
          "base_uri": "https://localhost:8080/"
        }
      },
      "outputs": [
        {
          "output_type": "execute_result",
          "data": {
            "text/plain": [
              "7"
            ]
          },
          "metadata": {},
          "execution_count": 56
        }
      ],
      "source": [
        "add_2 = lambda x, y: x + y\n",
        "add_2(3, 4)"
      ]
    },
    {
      "cell_type": "markdown",
      "metadata": {
        "id": "30s_o0pBSksl"
      },
      "source": [
        "Заработало! А если по-другому назвать аргументы?"
      ]
    },
    {
      "cell_type": "code",
      "execution_count": 57,
      "metadata": {
        "id": "UTrtFvnXSksl"
      },
      "outputs": [],
      "source": [
        "def aa(x):\n",
        "    if x>0:\n",
        "        return x+5\n",
        "    else:\n",
        "        return 'foo'"
      ]
    },
    {
      "cell_type": "code",
      "execution_count": 58,
      "metadata": {
        "id": "IdYhjgaoSksl",
        "outputId": "bf2f9ee9-9710-47d8-dc55-ff7bf43f0263",
        "colab": {
          "base_uri": "https://localhost:8080/"
        }
      },
      "outputs": [
        {
          "output_type": "execute_result",
          "data": {
            "text/plain": [
              "7"
            ]
          },
          "metadata": {},
          "execution_count": 58
        }
      ],
      "source": [
        "add_2 = lambda f123, er45: f123 + er45\n",
        "add_2(3, 4)"
      ]
    },
    {
      "cell_type": "markdown",
      "metadata": {
        "id": "pw9SWffTSksl"
      },
      "source": [
        "Во всех трех примерах мы все-таки присвоили имя каждой из функций. Давайте попробуем вызвать функцию по-настоящему анонимно. Аргументы передаются в скобках после скобок, содержащих определение lambda функции"
      ]
    },
    {
      "cell_type": "code",
      "execution_count": 59,
      "metadata": {
        "id": "ZC857Je4Sksl",
        "outputId": "cb2329c9-4fe7-4174-cba6-da9013d5ae1a",
        "colab": {
          "base_uri": "https://localhost:8080/"
        }
      },
      "outputs": [
        {
          "output_type": "execute_result",
          "data": {
            "text/plain": [
              "15"
            ]
          },
          "metadata": {},
          "execution_count": 59
        }
      ],
      "source": [
        "(lambda x, y: x * y)(3, 5)"
      ]
    },
    {
      "cell_type": "markdown",
      "metadata": {
        "id": "L_G9leaJSksm"
      },
      "source": [
        "По сути, лямбда-функции умеют все, что и обычные функции, только они обязаны возвращать всего одно значение. \n",
        "* Они умеют работать с разными типами данных (Строками, например)\n",
        "* Можно вызывать функцию без параметров\n",
        "* Параметрам функции можно задать значения по умолчанию"
      ]
    },
    {
      "cell_type": "code",
      "execution_count": 60,
      "metadata": {
        "id": "GHZAlo5MSksm",
        "outputId": "3effcc9d-20ad-42f6-afed-2587b9785205",
        "colab": {
          "base_uri": "https://localhost:8080/",
          "height": 36
        }
      },
      "outputs": [
        {
          "output_type": "execute_result",
          "data": {
            "text/plain": [
              "'Ха-Ха-Ха-'"
            ],
            "application/vnd.google.colaboratory.intrinsic+json": {
              "type": "string"
            }
          },
          "metadata": {},
          "execution_count": 60
        }
      ],
      "source": [
        "# Со строками\n",
        "(lambda x, y: x * y)(\"Ха-\",3)\n"
      ]
    },
    {
      "cell_type": "code",
      "execution_count": null,
      "metadata": {
        "id": "ICW73o7USksm",
        "outputId": "73381f79-89ce-4fed-8658-9bbc864d55ae"
      },
      "outputs": [
        {
          "data": {
            "text/plain": [
              "'ПерваяВторая'"
            ]
          },
          "execution_count": 41,
          "metadata": {},
          "output_type": "execute_result"
        }
      ],
      "source": [
        "(lambda x, y: x + y)(\"Первая\",\"Вторая\")"
      ]
    },
    {
      "cell_type": "code",
      "execution_count": 61,
      "metadata": {
        "id": "zFUUuTLjSksm",
        "outputId": "0b56e03c-e09d-4d37-8ba1-bf9f1f358690",
        "colab": {
          "base_uri": "https://localhost:8080/"
        }
      },
      "outputs": [
        {
          "output_type": "execute_result",
          "data": {
            "text/plain": [
              "[0, 1, 2, 3]"
            ]
          },
          "metadata": {},
          "execution_count": 61
        }
      ],
      "source": [
        "# А вот тут без аргументов\n",
        "(lambda: [0,1,2,3])()"
      ]
    },
    {
      "cell_type": "code",
      "execution_count": 62,
      "metadata": {
        "id": "eLV5WLP_Sksm",
        "outputId": "e470cce5-5198-4c12-ecb0-bf8ef6a5b7b1",
        "colab": {
          "base_uri": "https://localhost:8080/",
          "height": 36
        }
      },
      "outputs": [
        {
          "output_type": "execute_result",
          "data": {
            "text/plain": [
              "'35'"
            ],
            "application/vnd.google.colaboratory.intrinsic+json": {
              "type": "string"
            }
          },
          "metadata": {},
          "execution_count": 62
        }
      ],
      "source": [
        "# А тут есть значения по умолчанию\n",
        "(lambda x=3, y = 5: str(x) + str(y))()"
      ]
    },
    {
      "cell_type": "code",
      "execution_count": 63,
      "metadata": {
        "id": "__eaTDgwSksn",
        "outputId": "d8528cd2-d6bb-43db-9b7a-2040071a3e73",
        "colab": {
          "base_uri": "https://localhost:8080/"
        }
      },
      "outputs": [
        {
          "output_type": "execute_result",
          "data": {
            "text/plain": [
              "4"
            ]
          },
          "metadata": {},
          "execution_count": 63
        }
      ],
      "source": [
        "# Здесь в качестве первого аргумента пришел список, а второй использовался по умолчанию\n",
        "# На выходе должны получить первый элемент первого списка + 3\n",
        "(lambda x,y=3: x[0] + y)([1,2,3])"
      ]
    },
    {
      "cell_type": "code",
      "execution_count": null,
      "metadata": {
        "id": "Y0pGqyxOSksn",
        "outputId": "aeb2559f-aaa8-4531-9b29-c34c4c4c299b"
      },
      "outputs": [
        {
          "name": "stdout",
          "output_type": "stream",
          "text": [
            "6\n",
            "6\n",
            "6\n",
            "6\n",
            "6\n"
          ]
        }
      ],
      "source": [
        "print((lambda x, y, z: x + y + z)(1, 2, 3)) # Три аргумента\n",
        "\n",
        "print((lambda x, y, z=3: x + y + z)(1, 2)) # Три аргумента и у одного default-значение\n",
        "\n",
        "print((lambda x, y, z=3: x + y + z)(1, y=2)) # Три аргумента, у одного default-значение и один мы передали \"по имени\"\n",
        "\n",
        "print((lambda *args: sum(args))(1,2,3)) # Передали кортеж аргументов и сложили\n",
        "\n",
        "print((lambda **kwargs: sum(kwargs.values()))(one=1, two=2, three=3)) # Передали словарь аргументов и сложили"
      ]
    },
    {
      "cell_type": "markdown",
      "metadata": {
        "id": "jAJQA5qjSksn"
      },
      "source": [
        "### `map`"
      ]
    },
    {
      "cell_type": "markdown",
      "metadata": {
        "id": "DdytdySpSksn"
      },
      "source": [
        "Лямбда-функции очень часто применяются для преобразования каких-то коллекций. Для этого `lambda`-функции можно подавать в функцию `map`. Мы с вами уже множество раз использовали `map`, например, для преобразования списков. Давайте возьмем список и возведем все его элементы в квадрат с помощью map и `lambda`-функции."
      ]
    },
    {
      "cell_type": "code",
      "execution_count": 64,
      "metadata": {
        "id": "xljLSbHLSkso",
        "outputId": "a6dcb7fd-161f-4c2b-9bc9-d201fff5853b",
        "colab": {
          "base_uri": "https://localhost:8080/"
        }
      },
      "outputs": [
        {
          "output_type": "execute_result",
          "data": {
            "text/plain": [
              "['1', '3', '4', '6']"
            ]
          },
          "metadata": {},
          "execution_count": 64
        }
      ],
      "source": [
        "a = [1,3,4,6]\n",
        "def to_str(x):\n",
        "    return str(x)\n",
        "list(map(to_str, a))"
      ]
    },
    {
      "cell_type": "code",
      "execution_count": 65,
      "metadata": {
        "id": "xEVbgVWNSkso",
        "outputId": "e806cc72-a3f5-4af1-ebef-58a599d29773",
        "colab": {
          "base_uri": "https://localhost:8080/"
        }
      },
      "outputs": [
        {
          "output_type": "execute_result",
          "data": {
            "text/plain": [
              "-1.0"
            ]
          },
          "metadata": {},
          "execution_count": 65
        }
      ],
      "source": [
        "from math import cos, pi, sin\n",
        "cos(pi)"
      ]
    },
    {
      "cell_type": "markdown",
      "metadata": {
        "id": "YYY_9JgQSkso"
      },
      "source": [
        "### Task 1: \n",
        "Напишите функцию для вычисления факториала данного числа\n",
        "Ввод: 3\n",
        "\n",
        "Вывод: 6"
      ]
    },
    {
      "cell_type": "code",
      "execution_count": 66,
      "metadata": {
        "id": "mSWUN7eoSkso"
      },
      "outputs": [],
      "source": [
        "def factorial(N):\n",
        "    f = 1\n",
        "    while N > 0:\n",
        "        f *= N\n",
        "        N -= 1\n",
        "    return f"
      ]
    },
    {
      "cell_type": "code",
      "source": [
        "factorial(3)"
      ],
      "metadata": {
        "id": "5gjVTr3sVhed",
        "outputId": "2555b9c2-6049-469b-ba47-da39909a6f9b",
        "colab": {
          "base_uri": "https://localhost:8080/"
        }
      },
      "execution_count": 67,
      "outputs": [
        {
          "output_type": "execute_result",
          "data": {
            "text/plain": [
              "6"
            ]
          },
          "metadata": {},
          "execution_count": 67
        }
      ]
    },
    {
      "cell_type": "markdown",
      "metadata": {
        "id": "0a4d9UQ3Skso"
      },
      "source": [
        "### Рекурсия\n",
        "\n",
        "Рекурсия — это техника в Computer Science, когда функция вызывает сама себя. Самый известный пример — вычисление факториала n! = n * n — 1 * n -2 * … 2 *1. Зная, что 0! = 1, факториал можно записать следующим образом:"
      ]
    },
    {
      "cell_type": "code",
      "execution_count": 68,
      "metadata": {
        "id": "awVH6-XaSkso"
      },
      "outputs": [],
      "source": [
        "def factorial(n):\n",
        "    if n != 0:\n",
        "        return n * factorial(n-1)\n",
        "    else:\n",
        "        return 1\n",
        "\n",
        "# В этой реализации есть некоторые проблемы, но мы поговорим об этом потом :)"
      ]
    },
    {
      "cell_type": "code",
      "execution_count": 69,
      "metadata": {
        "id": "RS0Q6mDlSkso",
        "outputId": "75131bbe-cacf-4b0a-ea18-8cc31920e1f6",
        "colab": {
          "base_uri": "https://localhost:8080/"
        }
      },
      "outputs": [
        {
          "output_type": "execute_result",
          "data": {
            "text/plain": [
              "120"
            ]
          },
          "metadata": {},
          "execution_count": 69
        }
      ],
      "source": [
        "factorial(5)"
      ]
    },
    {
      "cell_type": "markdown",
      "metadata": {
        "id": "aM-oJPRnSkso"
      },
      "source": [
        "Каждый раз, когда функция вызывает себя и сохраняет некоторую память. Таким образом, рекурсивная функция может содержать гораздо больше памяти, чем традиционная функция. Python останавливает вызовы функций после глубины в 1000 вызовов. Если вы запустите этот пример, получите ошибку."
      ]
    },
    {
      "cell_type": "code",
      "execution_count": null,
      "metadata": {
        "scrolled": true,
        "id": "PEA6esmcSkso"
      },
      "outputs": [],
      "source": [
        "def factorial(n):\n",
        "    if n == 1:\n",
        "        return 1\n",
        "    else:\n",
        "        return n * factorial(n-1)\n",
        "\n",
        "print(factorial(3000))"
      ]
    },
    {
      "cell_type": "markdown",
      "metadata": {
        "id": "zv_Z3ssxSksp"
      },
      "source": [
        "А еще таким же образом можно вычислять `N`-ое число Фибоначчи (они как раз задаются рекурсивно).\n",
        "Заодно здесь мы видим, что выражений `return` может быть несколько (для различных условий)"
      ]
    },
    {
      "cell_type": "markdown",
      "metadata": {
        "id": "wi98bJETSksp"
      },
      "source": [
        "## Task #1.1\n",
        "вычислять `N`-ое число Фибоначчи (они как раз задаются рекурсивно)"
      ]
    },
    {
      "cell_type": "code",
      "execution_count": 76,
      "metadata": {
        "id": "hQSzRbe-Sksp"
      },
      "outputs": [],
      "source": [
        "def fibonacci(n):\n",
        "    a1 = 1\n",
        "    a2 = 1\n",
        "    i = 0\n",
        "    while i < n - 2:\n",
        "        sum = a1 + a2\n",
        "        a1 = a2\n",
        "        a2 = sum\n",
        "        i += 1\n",
        "    return sum"
      ]
    },
    {
      "cell_type": "code",
      "execution_count": 77,
      "metadata": {
        "id": "njNsWuwfSksp",
        "outputId": "ad908a82-34f9-4576-cfa7-4298bc9ddc1c",
        "colab": {
          "base_uri": "https://localhost:8080/"
        }
      },
      "outputs": [
        {
          "output_type": "execute_result",
          "data": {
            "text/plain": [
              "55"
            ]
          },
          "metadata": {},
          "execution_count": 77
        }
      ],
      "source": [
        "fibonacci(10)"
      ]
    },
    {
      "cell_type": "markdown",
      "metadata": {
        "id": "LrPsBypESksp"
      },
      "source": [
        "### Task #2\n",
        "Рекурсивно посчитать сумму чисел от 1 до N\n",
        "\n",
        "Вход: N\n",
        "\n",
        "Выход: sum(1,2,3,...,N)\n",
        "\n",
        "\n",
        "Вход: 3\n",
        "\n",
        "Выход: 6"
      ]
    },
    {
      "cell_type": "code",
      "execution_count": 78,
      "metadata": {
        "id": "mT3ObLkLSksp"
      },
      "outputs": [],
      "source": [
        "def summe(n):\n",
        "    sum = 0\n",
        "    for i in range (n+1):\n",
        "        sum += i\n",
        "    return sum"
      ]
    },
    {
      "cell_type": "code",
      "execution_count": 79,
      "metadata": {
        "id": "dO5d-tBbSksp",
        "outputId": "d9ec0e9a-f8c2-4e57-a9b3-7e95cf46f9fe",
        "colab": {
          "base_uri": "https://localhost:8080/"
        }
      },
      "outputs": [
        {
          "output_type": "execute_result",
          "data": {
            "text/plain": [
              "55"
            ]
          },
          "metadata": {},
          "execution_count": 79
        }
      ],
      "source": [
        "summe(10)"
      ]
    },
    {
      "cell_type": "markdown",
      "metadata": {
        "id": "CXb6euv4Sksp"
      },
      "source": [
        "### Task #3\n",
        "Рекурсивно проверить, является ли строка палиндромом\n",
        "\n",
        "Вход: ололо\n",
        "\n",
        "Выход: True\n",
        "\n",
        "\n",
        "Вход: You shall not pass!\n",
        "\n",
        "Выход: False"
      ]
    },
    {
      "cell_type": "code",
      "execution_count": 80,
      "metadata": {
        "id": "mT6JStUbSksq"
      },
      "outputs": [],
      "source": [
        "def IsPalindrome(S):\n",
        "    res = True\n",
        "    for i in range(len(S)//2):\n",
        "        if S[i] != S[len(S)-1-i]:\n",
        "            res = False\n",
        "    return res"
      ]
    },
    {
      "cell_type": "code",
      "execution_count": 81,
      "metadata": {
        "id": "VDTJmsyFSksq",
        "outputId": "271fdc38-b700-45b7-9bf0-138aa97c614d",
        "colab": {
          "base_uri": "https://localhost:8080/"
        }
      },
      "outputs": [
        {
          "output_type": "execute_result",
          "data": {
            "text/plain": [
              "True"
            ]
          },
          "metadata": {},
          "execution_count": 81
        }
      ],
      "source": [
        "IsPalindrome('ололо')"
      ]
    },
    {
      "cell_type": "code",
      "source": [
        "IsPalindrome('You shall not pass!')"
      ],
      "metadata": {
        "id": "bUZ-UAD4Y2ak",
        "outputId": "ff60f47d-6459-40e8-a4e0-09783e3c44c6",
        "colab": {
          "base_uri": "https://localhost:8080/"
        }
      },
      "execution_count": 82,
      "outputs": [
        {
          "output_type": "execute_result",
          "data": {
            "text/plain": [
              "False"
            ]
          },
          "metadata": {},
          "execution_count": 82
        }
      ]
    }
  ],
  "metadata": {
    "kernelspec": {
      "display_name": "Python 3 (ipykernel)",
      "language": "python",
      "name": "python3"
    },
    "language_info": {
      "codemirror_mode": {
        "name": "ipython",
        "version": 3
      },
      "file_extension": ".py",
      "mimetype": "text/x-python",
      "name": "python",
      "nbconvert_exporter": "python",
      "pygments_lexer": "ipython3",
      "version": "3.8.9"
    },
    "colab": {
      "provenance": []
    }
  },
  "nbformat": 4,
  "nbformat_minor": 0
}
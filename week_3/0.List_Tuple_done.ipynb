{
  "cells": [
    {
      "cell_type": "markdown",
      "metadata": {
        "id": "4FQBO2qDBez_"
      },
      "source": [
        "\n",
        "## Последовательности: списки и кортежи"
      ]
    },
    {
      "cell_type": "markdown",
      "metadata": {
        "id": "FtNMQccXBe0A"
      },
      "source": [
        "# Списки (`list`)"
      ]
    },
    {
      "cell_type": "markdown",
      "metadata": {
        "id": "nqQNJTk0Be0B"
      },
      "source": [
        "Давайте представим, что при написании программы нам нужно работать, например, с большой базой данных студентов университета.\n",
        "\n",
        "Если студентов несколько сотен, нет смысла создавать для каждого отдельную переменную - нам нужно научиться сохранять их всех в одной переменной. Начиная с этого занятия, мы будем изучать типы данных, которые позволяют это делать."
      ]
    },
    {
      "cell_type": "markdown",
      "metadata": {
        "id": "kvRPj-iiBe0B"
      },
      "source": [
        "Начнем мы со **списков**. Если вы изучали другие языки программирования, то наверняка знакомы с аналогичным типом данных - массивами. Как и строки, списки - это последовательности, упорядоченные данные.\n",
        "\n",
        "Давайте для начала попробуем создать список из 3 студентов."
      ]
    },
    {
      "cell_type": "code",
      "execution_count": 97,
      "metadata": {
        "colab": {
          "base_uri": "https://localhost:8080/"
        },
        "id": "8WhxN0HFBe0C",
        "outputId": "197e315a-9222-4bed-8831-d3264a0b6386"
      },
      "outputs": [
        {
          "output_type": "stream",
          "name": "stdout",
          "text": [
            "['Ivan Ivanov', 'Tatiana Sidorova', 'Maria Smirnova']\n",
            "<class 'list'>\n"
          ]
        }
      ],
      "source": [
        "students = ['Ivan Ivanov', 'Tatiana Sidorova', 'Maria Smirnova']\n",
        "print(students)\n",
        "print(type(students))"
      ]
    },
    {
      "cell_type": "markdown",
      "metadata": {
        "id": "t641_wPzBe0C"
      },
      "source": [
        "Пустой список можно создать двумя способами - оператором `[]` и функцией `list()`."
      ]
    },
    {
      "cell_type": "code",
      "execution_count": 98,
      "metadata": {
        "id": "TGV-YrCKBe0D",
        "outputId": "cb6c54da-74b8-47d7-fb90-d277fa1478e3",
        "colab": {
          "base_uri": "https://localhost:8080/"
        }
      },
      "outputs": [
        {
          "output_type": "stream",
          "name": "stdout",
          "text": [
            "[]\n",
            "[]\n"
          ]
        }
      ],
      "source": [
        "print([])\n",
        "print(list())"
      ]
    },
    {
      "cell_type": "code",
      "execution_count": 99,
      "metadata": {
        "colab": {
          "base_uri": "https://localhost:8080/"
        },
        "id": "aQ6K5_fJBe0D",
        "outputId": "f73b6d04-4af2-489c-fe6f-91e5606da3a5"
      },
      "outputs": [
        {
          "output_type": "execute_result",
          "data": {
            "text/plain": [
              "[]"
            ]
          },
          "metadata": {},
          "execution_count": 99
        }
      ],
      "source": [
        "a = list()\n",
        "a"
      ]
    },
    {
      "cell_type": "markdown",
      "metadata": {
        "id": "alh6iPUHBe0E"
      },
      "source": [
        "Список может содержать любые данные - например, числа.  \n",
        "Давайте создадим список оценок студента."
      ]
    },
    {
      "cell_type": "code",
      "execution_count": 100,
      "metadata": {
        "colab": {
          "base_uri": "https://localhost:8080/"
        },
        "id": "uWzEOYLTBe0E",
        "outputId": "1b73706f-1b70-4537-cb38-9853759cfca3"
      },
      "outputs": [
        {
          "output_type": "stream",
          "name": "stdout",
          "text": [
            "[6, 5, 7, 5, 8]\n"
          ]
        }
      ],
      "source": [
        "notes = [6, 5, 7, 5, 8]\n",
        "print(notes)"
      ]
    },
    {
      "cell_type": "markdown",
      "metadata": {
        "id": "r4bI5yZeBe0F"
      },
      "source": [
        "Список может быть даже смешанным. Например, давайте сохраним в одном списке имя студента, его год рождения, средний балл, и логическую переменную, которая будет равна True, если студент учится на бюджете."
      ]
    },
    {
      "cell_type": "code",
      "execution_count": 101,
      "metadata": {
        "colab": {
          "base_uri": "https://localhost:8080/"
        },
        "id": "RHd0AymOBe0F",
        "outputId": "2a4376a1-9ad6-4501-8b85-7e27f8d53a3e"
      },
      "outputs": [
        {
          "output_type": "stream",
          "name": "stdout",
          "text": [
            "['Ivan Ivanov', 1987, 7.5, True]\n"
          ]
        }
      ],
      "source": [
        "student1 = ['Ivan Ivanov', 1987, 7.5, True]\n",
        "print(student1)"
      ]
    },
    {
      "cell_type": "markdown",
      "metadata": {
        "id": "9dpzHrtYBe0G"
      },
      "source": [
        "Список может даже содержать другие списки.  \n",
        "Давайте создадим еще одного студента по аналогии со student1 и положим этих двух студентов в еще один список."
      ]
    },
    {
      "cell_type": "code",
      "execution_count": 102,
      "metadata": {
        "id": "8k2Zys5-Be0G",
        "outputId": "cb78b623-9938-471b-a5ed-afa64bc3e93a",
        "colab": {
          "base_uri": "https://localhost:8080/"
        }
      },
      "outputs": [
        {
          "output_type": "stream",
          "name": "stdout",
          "text": [
            "[['Ivan Ivanov', 1987, 7.5, True], ['Maria Smirnova', 1991, 7.9, False]]\n"
          ]
        }
      ],
      "source": [
        "student2 = ['Maria Smirnova', 1991, 7.9, False]\n",
        "students = [student1, student2]\n",
        "print(students)"
      ]
    },
    {
      "cell_type": "markdown",
      "metadata": {
        "id": "pLH8S5MMBe0H"
      },
      "source": [
        "Элементы списков нумеруются, начиная с `0`. Мы можем получить доступ к элементу списка по его индексу."
      ]
    },
    {
      "cell_type": "code",
      "execution_count": 103,
      "metadata": {
        "colab": {
          "base_uri": "https://localhost:8080/"
        },
        "id": "Xyy0HJByBe0H",
        "outputId": "4de581cc-43e8-4c26-fbe9-217adfdfdbbf"
      },
      "outputs": [
        {
          "output_type": "stream",
          "name": "stdout",
          "text": [
            "Ivan Ivanov\n",
            "Tatiana Sidorova\n",
            "Tatiana Sidorova\n"
          ]
        }
      ],
      "source": [
        "students = ['Ivan Ivanov', 'Tatiana Sidorova', 'Maria Smirnova']\n",
        "print(students[0]) # первый элемент\n",
        "print(students[1]) # второй элемент\n",
        "print(students[-2]) # последний элемент"
      ]
    },
    {
      "cell_type": "markdown",
      "metadata": {
        "id": "Ssc53K6vBe0I"
      },
      "source": [
        "Ксати, индексация работает и в строках. Там отдельными элементами являются символы.\n"
      ]
    },
    {
      "cell_type": "code",
      "execution_count": 104,
      "metadata": {
        "colab": {
          "base_uri": "https://localhost:8080/"
        },
        "id": "NMMKgw_zBe0J",
        "outputId": "ba3c2836-5c38-4eb7-cc9a-fd8067b1b20d"
      },
      "outputs": [
        {
          "output_type": "stream",
          "name": "stdout",
          "text": [
            "<class 'str'>\n",
            "<class 'str'>\n",
            "о\n"
          ]
        }
      ],
      "source": [
        "x = 'слово'\n",
        "print(type(x))\n",
        "print(type(x[0]))\n",
        "print(x[-1])"
      ]
    },
    {
      "cell_type": "markdown",
      "metadata": {
        "id": "bgwALnJ2Be0J"
      },
      "source": [
        "Мы можем узнать длину списка с помощью функции len() (работает и для строк)."
      ]
    },
    {
      "cell_type": "code",
      "execution_count": 105,
      "metadata": {
        "colab": {
          "base_uri": "https://localhost:8080/"
        },
        "id": "vWIpoKP2Be0K",
        "outputId": "4c5d1dbd-a362-4f47-9973-60dc1c630ecb"
      },
      "outputs": [
        {
          "output_type": "stream",
          "name": "stdout",
          "text": [
            "3\n",
            "5\n"
          ]
        }
      ],
      "source": [
        "print(len(students)) # количество элементов в списке students\n",
        "print(len(x)) # количество символов в строке x"
      ]
    },
    {
      "cell_type": "markdown",
      "metadata": {
        "id": "-c1Twg5WBe0K"
      },
      "source": [
        "Но, в отличие от строк, список можно изменить."
      ]
    },
    {
      "cell_type": "code",
      "execution_count": 106,
      "metadata": {
        "colab": {
          "base_uri": "https://localhost:8080/"
        },
        "id": "jVwVxcTwBe0K",
        "outputId": "014f0e6e-ed82-4f9a-bbeb-48d927c15c6a"
      },
      "outputs": [
        {
          "output_type": "execute_result",
          "data": {
            "text/plain": [
              "['Ivan Ivanov', 'Tatiana Sidorova', 'Maria Smirnova']"
            ]
          },
          "metadata": {},
          "execution_count": 106
        }
      ],
      "source": [
        "students = ['Ivan Ivanov', 'Tatiana Sidorova', 'Maria Smirnova']\n",
        "students"
      ]
    },
    {
      "cell_type": "code",
      "execution_count": 107,
      "metadata": {
        "colab": {
          "base_uri": "https://localhost:8080/"
        },
        "id": "cPk_LhhtBe0L",
        "outputId": "52aba3f5-d824-492d-844c-36a927f28830"
      },
      "outputs": [
        {
          "output_type": "execute_result",
          "data": {
            "text/plain": [
              "['Ian Pile', 'Tatiana Sidorova', 'Maria Smirnova']"
            ]
          },
          "metadata": {},
          "execution_count": 107
        }
      ],
      "source": [
        "students[0] = 'Ian Pile'\n",
        "students"
      ]
    },
    {
      "cell_type": "markdown",
      "metadata": {
        "id": "Uj_k5B3HBe0M"
      },
      "source": [
        "Строки - неизменяемый тип данных, поэтому присвоение символа по индексу не сработает.\n",
        "\n",
        "Еще одна операция, которая работает со всеми последовательностями - проверка на наличие элемента `in` и `not in`. Возвращает `True` или `False`."
      ]
    },
    {
      "cell_type": "code",
      "execution_count": 108,
      "metadata": {
        "colab": {
          "base_uri": "https://localhost:8080/"
        },
        "id": "rw9VEyl3Be0M",
        "outputId": "077ad5ee-a083-4fbd-bc70-c14eb4f28fb0"
      },
      "outputs": [
        {
          "output_type": "execute_result",
          "data": {
            "text/plain": [
              "True"
            ]
          },
          "metadata": {},
          "execution_count": 108
        }
      ],
      "source": [
        "# students = ['Ivan Ivanov', 'Tatiana Sidorova', 'Maria Smirnova']\n",
        "# print('Ivan Ivanov' not in students)\n",
        "\n",
        "n = [1,2,3,4]\n",
        "x = 500\n",
        "x not in n\n",
        "# print('Petr' not in students[2])\n",
        "# print(2 in students)"
      ]
    },
    {
      "cell_type": "markdown",
      "metadata": {
        "id": "ZKaxDJoKBe0M"
      },
      "source": [
        "Способ расширить список - метод `.append()`, который добавляет аргумент в список в качестве последнего элемента."
      ]
    },
    {
      "cell_type": "code",
      "execution_count": 109,
      "metadata": {
        "colab": {
          "base_uri": "https://localhost:8080/"
        },
        "id": "ng_ffvXaBe0M",
        "outputId": "1f120f47-499d-4215-af41-4590c73d8aa4"
      },
      "outputs": [
        {
          "output_type": "stream",
          "name": "stdout",
          "text": [
            "[0, 1, 2, 3, 4, 'cat', 'dog', 'cat', 5]\n",
            "[0, 1, 2, 3, 4, 'cat', 'dog', 'cat', 5, 6]\n"
          ]
        }
      ],
      "source": [
        "lst = [0, 1, 2, 3, 4, 'cat', 'dog','cat']\n",
        "\n",
        "lst.append(5)\n",
        "print(lst)\n",
        "\n",
        "\n",
        "lst += [6] # эквивалентное append выражение\n",
        "print(lst)"
      ]
    },
    {
      "cell_type": "markdown",
      "metadata": {
        "id": "tbEUIaJBdqMA"
      },
      "source": [
        "## Task #1"
      ]
    },
    {
      "cell_type": "markdown",
      "metadata": {
        "id": "3AepDxP6dqMA"
      },
      "source": [
        "Write a Python program to sum (*multiply) all int/float-items in a list. \n",
        "\n",
        "In: `[1, 2, 3, 4, 5, 'one', 'two']`\n",
        "\n",
        "Out: `15`"
      ]
    },
    {
      "cell_type": "code",
      "execution_count": 110,
      "metadata": {
        "id": "MUK1MvKzdqMA",
        "outputId": "152aeec2-9875-4d06-b234-d0d7355d4081",
        "colab": {
          "base_uri": "https://localhost:8080/"
        }
      },
      "outputs": [
        {
          "output_type": "execute_result",
          "data": {
            "text/plain": [
              "15"
            ]
          },
          "metadata": {},
          "execution_count": 110
        }
      ],
      "source": [
        "a = [1, 2, 3, 4, 5, 'one', 'two']\n",
        "sum = 0\n",
        "for i in range (len(a)):\n",
        "    if type(a[i]) == int or type(a[i]) == float:\n",
        "        sum += a[i]\n",
        "sum"
      ]
    },
    {
      "cell_type": "markdown",
      "metadata": {
        "id": "C2n4ZBX9dqMA"
      },
      "source": [
        "## Task #2\n",
        "Write a Python program to remove duplicates from a list."
      ]
    },
    {
      "cell_type": "code",
      "execution_count": 111,
      "metadata": {
        "id": "wpGNmcJpdqMA",
        "outputId": "962f0d6a-b519-4d4c-ae74-22d705a5499a",
        "colab": {
          "base_uri": "https://localhost:8080/"
        }
      },
      "outputs": [
        {
          "output_type": "execute_result",
          "data": {
            "text/plain": [
              "{1, 2, 3, 4, 5, 'one', 'two'}"
            ]
          },
          "metadata": {},
          "execution_count": 111
        }
      ],
      "source": [
        "a = [1, 2, 2, 4, 3, 4, 5, 'one', 'two']\n",
        "set(a)"
      ]
    },
    {
      "cell_type": "markdown",
      "metadata": {
        "id": "96Ajhhh2dqMA"
      },
      "source": [
        "## Task #3\n",
        "Write a Python program to generate a `3*4*6` 3D array whose each element is `*`"
      ]
    },
    {
      "cell_type": "code",
      "execution_count": 112,
      "metadata": {
        "id": "rly3_I09dqMA"
      },
      "outputs": [],
      "source": [
        "#не поняла задание"
      ]
    },
    {
      "cell_type": "markdown",
      "metadata": {
        "id": "RU82Xn3BdqMA"
      },
      "source": [
        "## Task #4"
      ]
    },
    {
      "cell_type": "markdown",
      "metadata": {
        "id": "9iM4VraxdqMB"
      },
      "source": [
        "Write a Python program to change the position of every n-th value with the (n+1)th in a list. Go to the editor\n",
        "\n",
        "\n",
        "Sample list: `[0,1,2,3,4,5]`\n",
        "\n",
        "Expected Output: `[1, 0, 3, 2, 5, 4]`"
      ]
    },
    {
      "cell_type": "code",
      "execution_count": 113,
      "metadata": {
        "id": "k3bmPndYdqMB",
        "outputId": "016d9e25-f030-41cb-f5dc-10a029929829",
        "colab": {
          "base_uri": "https://localhost:8080/"
        }
      },
      "outputs": [
        {
          "output_type": "execute_result",
          "data": {
            "text/plain": [
              "[1, 0, 3, 2, 5, 4]"
            ]
          },
          "metadata": {},
          "execution_count": 113
        }
      ],
      "source": [
        "a = [0,1,2,3,4,5]\n",
        "for i in range (0, len(a)-1, 2):\n",
        "    a[i], a[i+1] = a[i+1], a[i]\n",
        "a"
      ]
    },
    {
      "cell_type": "markdown",
      "metadata": {
        "id": "7RIOJAEdBe0N"
      },
      "source": [
        "Удалить элемент из списка можно с помощью метода `.remove()` (без возвращения удаленного элемента) или `.pop()` (с возвращением удаленного элемента)."
      ]
    },
    {
      "cell_type": "code",
      "execution_count": 114,
      "metadata": {
        "colab": {
          "base_uri": "https://localhost:8080/"
        },
        "id": "DghD9v5HBe0N",
        "outputId": "4e4609ff-abbe-481f-9057-355b3fbd8ca8"
      },
      "outputs": [
        {
          "output_type": "stream",
          "name": "stdout",
          "text": [
            "[0, 1, 2, 3, 4, 'dog', 'cat', 5, 6]\n"
          ]
        }
      ],
      "source": [
        "lst.remove('cat') # аргумент - объект, который ходим удалить\n",
        "print(lst)"
      ]
    },
    {
      "cell_type": "code",
      "execution_count": 115,
      "metadata": {
        "colab": {
          "base_uri": "https://localhost:8080/"
        },
        "id": "W1clXBpJBe0O",
        "outputId": "7514953d-fe79-4dc0-cf29-14945dd9ab35"
      },
      "outputs": [
        {
          "output_type": "stream",
          "name": "stdout",
          "text": [
            "[1, 2, 3, 4, 'dog', 'cat', 5, 6]\n",
            "0\n"
          ]
        }
      ],
      "source": [
        "x = lst.pop(0) # аргумент - индекс объекта. Результат операции можно сохранить в переменную\n",
        "print(lst)\n",
        "print(x)"
      ]
    },
    {
      "cell_type": "markdown",
      "metadata": {
        "id": "OfpAbMuBBe0O"
      },
      "source": [
        "Поиском в списках занимается метод `.index()`, который вернет индекс объекта, переданного в качестве аргумента."
      ]
    },
    {
      "cell_type": "code",
      "execution_count": 116,
      "metadata": {
        "id": "1hJeF7MmBe0O"
      },
      "outputs": [],
      "source": [
        "lst.append('dog')\n"
      ]
    },
    {
      "cell_type": "code",
      "execution_count": 117,
      "metadata": {
        "colab": {
          "base_uri": "https://localhost:8080/"
        },
        "id": "DtflmRL9Be0P",
        "outputId": "4231c92c-5153-4488-b374-4d3a56755035"
      },
      "outputs": [
        {
          "output_type": "execute_result",
          "data": {
            "text/plain": [
              "[1, 2, 3, 4, 'dog', 'cat', 5, 6, 'dog']"
            ]
          },
          "metadata": {},
          "execution_count": 117
        }
      ],
      "source": [
        "lst"
      ]
    },
    {
      "cell_type": "code",
      "execution_count": 118,
      "metadata": {
        "colab": {
          "base_uri": "https://localhost:8080/"
        },
        "id": "8BIJbL9rBe0P",
        "outputId": "d16d05a4-a4f0-47ae-8c54-95bf85a27347"
      },
      "outputs": [
        {
          "output_type": "stream",
          "name": "stdout",
          "text": [
            "4\n"
          ]
        }
      ],
      "source": [
        "print(lst.index('dog'))"
      ]
    },
    {
      "cell_type": "code",
      "execution_count": 119,
      "metadata": {
        "colab": {
          "base_uri": "https://localhost:8080/"
        },
        "id": "yZo9vQ4ABe0Q",
        "outputId": "79ecc1cd-1c2e-4794-9df4-1784ad979fad"
      },
      "outputs": [
        {
          "output_type": "stream",
          "name": "stdout",
          "text": [
            "2\n"
          ]
        }
      ],
      "source": [
        "print(lst.count('dog'))"
      ]
    },
    {
      "cell_type": "code",
      "execution_count": 120,
      "metadata": {
        "colab": {
          "base_uri": "https://localhost:8080/"
        },
        "id": "BRpFq5_eBe0Q",
        "outputId": "9f68aedf-eff0-45ce-84d6-33f7b9a7f0f2"
      },
      "outputs": [
        {
          "output_type": "stream",
          "name": "stdout",
          "text": [
            "dog\n"
          ]
        }
      ],
      "source": [
        "# находим индекс объекта 'dog'\n",
        "print(lst[lst.index('dog')]) # используем метод, возвращающий индекс, для обращения к объекту"
      ]
    },
    {
      "cell_type": "markdown",
      "metadata": {
        "id": "smA6ixBIBe0Q"
      },
      "source": [
        "Если говорить еще о полезных методах, то это `.count()`, который подсчитывает количество элементов и `.reverse()`, который разворачивает список. Ниже еще отдельно поговорим о сортировке."
      ]
    },
    {
      "cell_type": "code",
      "execution_count": 121,
      "metadata": {
        "colab": {
          "base_uri": "https://localhost:8080/"
        },
        "id": "yrlvXWqhBe0Q",
        "outputId": "89da1a17-b77c-4e53-cb39-16b55171746f"
      },
      "outputs": [
        {
          "output_type": "execute_result",
          "data": {
            "text/plain": [
              "[5, 4, 3, 2, 1]"
            ]
          },
          "metadata": {},
          "execution_count": 121
        }
      ],
      "source": [
        "b = [1,2,3,4,5]\n",
        "b.reverse()\n",
        "b"
      ]
    },
    {
      "cell_type": "code",
      "execution_count": 122,
      "metadata": {
        "colab": {
          "base_uri": "https://localhost:8080/"
        },
        "id": "l56URsNaBe0R",
        "outputId": "e9fae346-10d9-4d57-c13f-f331a51bdacc"
      },
      "outputs": [
        {
          "output_type": "stream",
          "name": "stdout",
          "text": [
            "['dog', 6, 5, 'cat', 'dog', 4, 3, 2, 1]\n"
          ]
        }
      ],
      "source": [
        " # считаем количество 'dog' в списке\n",
        "lst.reverse() # разворачиваем список. Осторожно - метод меняет список!\n",
        "print(lst)\n"
      ]
    },
    {
      "cell_type": "markdown",
      "metadata": {
        "id": "HYTNAD9wBe0R"
      },
      "source": [
        "Все методы списков [здесь](https://docs.python.org/3/tutorial/datastructures.html)"
      ]
    },
    {
      "cell_type": "markdown",
      "metadata": {
        "id": "0srlTH8LBe0R"
      },
      "source": [
        "### Сортировки"
      ]
    },
    {
      "cell_type": "markdown",
      "metadata": {
        "id": "KEo2N7hDBe0R"
      },
      "source": [
        "Отдельно следует рассказать про метод **`sort()`**. Метод производит сортировку списка.\n",
        "Задачи сортировки - очень распространены в программировании. \n",
        "В общем случае, они сводятся к выстроению элементов списка в заданном порядке.\n",
        "В `Python` есть встроенные методы для сортировки объектов для того, чтобы программист \n",
        "мог не усложнять себе задачу написанием алгоритма сортировки. \n",
        "Метод **`list.sort()`** - как раз, один из таких случаев."
      ]
    },
    {
      "cell_type": "code",
      "execution_count": 123,
      "metadata": {
        "colab": {
          "base_uri": "https://localhost:8080/"
        },
        "id": "sCcwXeroBe0S",
        "outputId": "fc3de9df-7912-45ce-f8c4-21321cde786f"
      },
      "outputs": [
        {
          "output_type": "stream",
          "name": "stdout",
          "text": [
            "[5, 8, 1, 4, 3, 7, 2]\n",
            "[1, 2, 3, 4, 5, 7, 8]\n"
          ]
        }
      ],
      "source": [
        "test_list = [5, 8, 1, 4, 3, 7, 2]\n",
        "print(test_list)  # Элементы списка расположены в хаотичном порядке\n",
        "test_list.sort()\n",
        "print(test_list)  # Теперь элементы списка теперь расположены по возрастанию"
      ]
    },
    {
      "cell_type": "code",
      "execution_count": 124,
      "metadata": {
        "id": "UspFt8ftBe0S"
      },
      "outputs": [],
      "source": [
        "test_list.sort(reverse = True)"
      ]
    },
    {
      "cell_type": "code",
      "execution_count": 125,
      "metadata": {
        "colab": {
          "base_uri": "https://localhost:8080/"
        },
        "id": "Lwy_a2xIBe0S",
        "outputId": "b66ce8e1-72da-43be-fdb7-d95391a2d165"
      },
      "outputs": [
        {
          "output_type": "execute_result",
          "data": {
            "text/plain": [
              "[8, 7, 5, 4, 3, 2, 1]"
            ]
          },
          "metadata": {},
          "execution_count": 125
        }
      ],
      "source": [
        "test_list"
      ]
    },
    {
      "cell_type": "markdown",
      "metadata": {
        "id": "m3QQUg7MBe0T"
      },
      "source": [
        "Таким образом, метод **`list.sort()`** упорядочил элементы списка test_list\n",
        "Если нужно отсортировать элементы в обратном порядке, то можно использовать именнованный параметр reverse. "
      ]
    },
    {
      "cell_type": "code",
      "execution_count": 126,
      "metadata": {
        "id": "o-PxLRAwBe0T",
        "outputId": "1d87627c-7474-4b64-e519-14179572775d",
        "colab": {
          "base_uri": "https://localhost:8080/"
        }
      },
      "outputs": [
        {
          "output_type": "stream",
          "name": "stdout",
          "text": [
            "[8, 7, 5, 4, 3, 2, 1]\n"
          ]
        }
      ],
      "source": [
        "test_list.sort(reverse=True)  # параметр reverse указывает на то, что нужно отсортировать список в обратном порядке\n",
        "print(test_list)"
      ]
    },
    {
      "cell_type": "markdown",
      "metadata": {
        "id": "FmQM-f0MBe0T"
      },
      "source": [
        "Следует обратить внимание, что метод **`list.sort()`** изменяет сам список, на котором его вызвали. \n",
        "Таким образом, при каждом вызове метода \"**`sort()`**\", наш список `test_list` изменяется. \n",
        "Это может быть удобно, если нам не нужно держать в памяти исходный список. \n",
        "Однако, в противном случае, или же - в случае неизменяемого типа данных (например, кортежа или строки) - \n",
        "этот метод не сработает. В таком случае, на помощь приходит встроенная в питон функция **`sorted()`**"
      ]
    },
    {
      "cell_type": "code",
      "execution_count": 127,
      "metadata": {
        "colab": {
          "base_uri": "https://localhost:8080/"
        },
        "id": "0TXMD1VTBe0T",
        "outputId": "a8dec388-1c56-4a79-8eee-a21248b26ea3"
      },
      "outputs": [
        {
          "output_type": "stream",
          "name": "stdout",
          "text": [
            "[1, 2, 3, 4, 5, 7, 8]\n"
          ]
        }
      ],
      "source": [
        "print(sorted(test_list))  # Сам список при сортировке не изменяется"
      ]
    },
    {
      "cell_type": "code",
      "execution_count": 128,
      "metadata": {
        "colab": {
          "base_uri": "https://localhost:8080/"
        },
        "id": "82ewTg2rBe0U",
        "outputId": "94f91eb7-49a4-4e10-84b7-0df5f2f21abb"
      },
      "outputs": [
        {
          "output_type": "execute_result",
          "data": {
            "text/plain": [
              "[8, 7, 5, 4, 3, 2, 1]"
            ]
          },
          "metadata": {},
          "execution_count": 128
        }
      ],
      "source": [
        "test_list"
      ]
    },
    {
      "cell_type": "markdown",
      "metadata": {
        "id": "rbMGnWpVBe0U"
      },
      "source": [
        "Так как `sorted()` функция, а не метод, то будет работать и с другими типами данных."
      ]
    },
    {
      "cell_type": "code",
      "execution_count": 129,
      "metadata": {
        "colab": {
          "base_uri": "https://localhost:8080/"
        },
        "id": "8oqpioQ_Be0U",
        "outputId": "98a0e5fd-0d05-49c5-850a-356d478e3cf5"
      },
      "outputs": [
        {
          "output_type": "stream",
          "name": "stdout",
          "text": [
            "['e', 'g', 'h', 'i', 'm', 'n', 'o', 's', 't']\n"
          ]
        }
      ],
      "source": [
        "print(sorted('something'))"
      ]
    },
    {
      "cell_type": "code",
      "execution_count": 130,
      "metadata": {
        "colab": {
          "base_uri": "https://localhost:8080/"
        },
        "id": "cAuY8j9yBe0U",
        "outputId": "d5825648-1259-426d-c25e-991a31120833"
      },
      "outputs": [
        {
          "output_type": "stream",
          "name": "stdout",
          "text": [
            "eghimnost\n"
          ]
        }
      ],
      "source": [
        "# print(sorted('something')) отсортирует буквы в строке, но выведет список\n",
        "print(''.join(sorted('something'))) # с помощью метода join можно собрать отсортированную строку, чуть ниже подробнее про него"
      ]
    },
    {
      "cell_type": "markdown",
      "metadata": {
        "id": "zDkKNUgzBe0V"
      },
      "source": [
        "У функции `sorted()`, как и у метода `list.sort()` есть параметр `key`, \n",
        "с помощью которого можно указать функцию, которая будет применена к каждому элементу \n",
        "последовательности при сортировке."
      ]
    },
    {
      "cell_type": "code",
      "execution_count": 131,
      "metadata": {
        "id": "2KYM43rfBe0V"
      },
      "outputs": [],
      "source": [
        "test_string = 'A string With upper AND lower \\n cases'"
      ]
    },
    {
      "cell_type": "code",
      "execution_count": 132,
      "metadata": {
        "colab": {
          "base_uri": "https://localhost:8080/"
        },
        "id": "lOShWCDKBe0V",
        "outputId": "275cd285-3069-41b1-c824-7ae1caa724e2"
      },
      "outputs": [
        {
          "output_type": "stream",
          "name": "stdout",
          "text": [
            "['A', 'AND', 'With', 'cases', 'lower', 'string', 'upper']\n"
          ]
        }
      ],
      "source": [
        "print(sorted(test_string.split())) # заглавные буквы получили приоритет над строчными"
      ]
    },
    {
      "cell_type": "code",
      "execution_count": 133,
      "metadata": {
        "colab": {
          "base_uri": "https://localhost:8080/",
          "height": 36
        },
        "id": "LFkUodG-QDiM",
        "outputId": "93c50138-2d48-45f3-8dd1-98ba2089d8b1"
      },
      "outputs": [
        {
          "output_type": "execute_result",
          "data": {
            "text/plain": [
              "'AA546327'"
            ],
            "application/vnd.google.colaboratory.intrinsic+json": {
              "type": "string"
            }
          },
          "metadata": {},
          "execution_count": 133
        }
      ],
      "source": [
        "'aa546327'.upper()"
      ]
    },
    {
      "cell_type": "code",
      "execution_count": 134,
      "metadata": {
        "colab": {
          "base_uri": "https://localhost:8080/"
        },
        "id": "UPB7EflABe0V",
        "outputId": "b314c4e9-591c-4bae-f067-0fc0f1a5151f"
      },
      "outputs": [
        {
          "output_type": "stream",
          "name": "stdout",
          "text": [
            "['A', 'AND', 'cases', 'lower', 'string', 'upper', 'With']\n"
          ]
        }
      ],
      "source": [
        "print(sorted(test_string.split(), key=str.upper)) # все буквы были приведены к верхнему регистру, сортировка получилась по алфавиту"
      ]
    },
    {
      "cell_type": "markdown",
      "metadata": {
        "id": "ZN5zil3wBe0W"
      },
      "source": [
        "# Кортежи (tuple)"
      ]
    },
    {
      "cell_type": "markdown",
      "metadata": {
        "id": "O8hvbeOpBe0W"
      },
      "source": [
        "Кортежи очень похожи на списки."
      ]
    },
    {
      "cell_type": "code",
      "execution_count": 135,
      "metadata": {
        "colab": {
          "base_uri": "https://localhost:8080/"
        },
        "id": "wFnQ0f8PBe0W",
        "outputId": "950c7d2c-79cb-457a-8c97-45e325cd32ba"
      },
      "outputs": [
        {
          "output_type": "stream",
          "name": "stdout",
          "text": [
            "('Ivan Ivanov', 2001, 7.5, True)\n",
            "<class 'tuple'>\n"
          ]
        }
      ],
      "source": [
        "student = ('Ivan Ivanov', 2001, 7.5, True)\n",
        "print(student)\n",
        "print(type(student))"
      ]
    },
    {
      "cell_type": "markdown",
      "metadata": {
        "id": "7JLOqnLvBe0W"
      },
      "source": [
        "Пустой кортеж можно создать с помощью оператора () либо функции tuple."
      ]
    },
    {
      "cell_type": "code",
      "execution_count": 136,
      "metadata": {
        "colab": {
          "base_uri": "https://localhost:8080/"
        },
        "id": "goPpmfOiBe0W",
        "outputId": "c8a692d3-a060-42f6-aeed-d69c618379fa"
      },
      "outputs": [
        {
          "output_type": "stream",
          "name": "stdout",
          "text": [
            "()\n",
            "()\n"
          ]
        }
      ],
      "source": [
        "print(())\n",
        "print(tuple())"
      ]
    },
    {
      "cell_type": "code",
      "execution_count": 137,
      "metadata": {
        "colab": {
          "base_uri": "https://localhost:8080/"
        },
        "id": "xoYuqQ7mBe0W",
        "outputId": "62f8ed4f-5a91-4573-e2aa-f5e4dafb7d77"
      },
      "outputs": [
        {
          "output_type": "execute_result",
          "data": {
            "text/plain": [
              "()"
            ]
          },
          "metadata": {},
          "execution_count": 137
        }
      ],
      "source": [
        "x = tuple()\n",
        "x"
      ]
    },
    {
      "cell_type": "code",
      "execution_count": 138,
      "metadata": {
        "colab": {
          "base_uri": "https://localhost:8080/"
        },
        "id": "QNtlsgFEBe0X",
        "outputId": "d4dffd10-19c8-4da3-c115-6053e4c8a291"
      },
      "outputs": [
        {
          "output_type": "execute_result",
          "data": {
            "text/plain": [
              "('Ivan Ivanov', 2001, 7.5, True)"
            ]
          },
          "metadata": {},
          "execution_count": 138
        }
      ],
      "source": [
        "student"
      ]
    },
    {
      "cell_type": "markdown",
      "metadata": {
        "id": "aIm0DCfXBe0X"
      },
      "source": [
        "Основное отличие кортежей от списков состоит в том, что кортежи нельзя изменять (да-да, прямо как строки)."
      ]
    },
    {
      "cell_type": "markdown",
      "metadata": {
        "id": "XwZ4W1SIBe0Y"
      },
      "source": [
        "Списки и кортежи могут быть вложены друг в друга.  \n",
        "Например, пусть в информации о студенте у нас будет храниться не его средний балл, а список всех его оценок."
      ]
    },
    {
      "cell_type": "code",
      "execution_count": 139,
      "metadata": {
        "colab": {
          "base_uri": "https://localhost:8080/"
        },
        "id": "n3tdFAZ9Be0Y",
        "outputId": "49ec0ea2-2244-4c6c-ef6d-17a9267705dc"
      },
      "outputs": [
        {
          "output_type": "stream",
          "name": "stdout",
          "text": [
            "('Ivan Ivanov', 2001, [8, 7, 7, 9, 6], True)\n"
          ]
        }
      ],
      "source": [
        "student = ('Ivan Ivanov', 2001, [8, 7, 7, 9, 6], True)\n",
        "print(student)"
      ]
    },
    {
      "cell_type": "code",
      "execution_count": 140,
      "metadata": {
        "colab": {
          "base_uri": "https://localhost:8080/"
        },
        "id": "kc4bf6AXBe0Z",
        "outputId": "c25ca5ba-b41f-4e2d-8711-4c673120b348"
      },
      "outputs": [
        {
          "output_type": "stream",
          "name": "stdout",
          "text": [
            "('Ivan Ivanov', 2001, (8, 7, 7, 9, 6), True)\n"
          ]
        }
      ],
      "source": [
        "student = ('Ivan Ivanov', 2001, (8, 7, 7, 9, 6), True)\n",
        "print(student)"
      ]
    },
    {
      "cell_type": "markdown",
      "metadata": {
        "id": "xaOIThw2Be0Z"
      },
      "source": [
        "Мы можем обратиться к элементу вложенного списка или кортежа с помощью двойной индексации."
      ]
    },
    {
      "cell_type": "code",
      "execution_count": 141,
      "metadata": {
        "colab": {
          "base_uri": "https://localhost:8080/"
        },
        "id": "bWj_4VX6Rs0l",
        "outputId": "9795cec8-5b39-4933-a8d6-000cdcb776c7"
      },
      "outputs": [
        {
          "output_type": "execute_result",
          "data": {
            "text/plain": [
              "('Ivan Ivanov', 2001, (8, 7, 7, 9, 6), True)"
            ]
          },
          "metadata": {},
          "execution_count": 141
        }
      ],
      "source": [
        "student"
      ]
    },
    {
      "cell_type": "code",
      "execution_count": 142,
      "metadata": {
        "colab": {
          "base_uri": "https://localhost:8080/"
        },
        "id": "9tKq7j7OBe0a",
        "outputId": "7f67e083-b910-491d-a2b4-7db6df3497fe"
      },
      "outputs": [
        {
          "output_type": "stream",
          "name": "stdout",
          "text": [
            "7\n"
          ]
        }
      ],
      "source": [
        "print(student[2][1]) # получили вторую оценку"
      ]
    },
    {
      "cell_type": "markdown",
      "metadata": {
        "id": "8mgsSgotBe0a"
      },
      "source": [
        "Иногда бывает полезно обезопасить себя от изменений массивов данных и использовать кортежи, но чаще всего мы все-таки будем работать со списками."
      ]
    },
    {
      "cell_type": "markdown",
      "metadata": {
        "id": "cz6kIKQ-dqMH"
      },
      "source": [
        "# Task #5"
      ]
    },
    {
      "cell_type": "markdown",
      "metadata": {
        "id": "bQ5bEZNkdqMH"
      },
      "source": [
        "Write a Python program to add an item in a tuple."
      ]
    },
    {
      "cell_type": "code",
      "execution_count": 142,
      "metadata": {
        "id": "M51gF4HndqMI"
      },
      "outputs": [],
      "source": []
    },
    {
      "cell_type": "markdown",
      "metadata": {
        "id": "45WhxYYUdqMI"
      },
      "source": [
        "# Task #6"
      ]
    },
    {
      "cell_type": "markdown",
      "metadata": {
        "id": "NehORkp3dqMI"
      },
      "source": [
        "Write a Python program to sort a tuple by its float element.\n",
        "\n",
        "Sample data: `[('item1', '12.20'), ('item2', '15.10'), ('item3', '24.5')]`\n",
        "\n",
        "Expected Output: `[('item3', '24.5'), ('item2', '15.10'), ('item1', '12.20')]`"
      ]
    },
    {
      "cell_type": "code",
      "execution_count": 142,
      "metadata": {
        "id": "bQ5iije5dqMI"
      },
      "outputs": [],
      "source": []
    },
    {
      "cell_type": "markdown",
      "metadata": {
        "id": "LEwQ4-QQdqMI"
      },
      "source": [
        "# Task #7"
      ]
    },
    {
      "cell_type": "markdown",
      "metadata": {
        "id": "AlHx9FdVdqMI"
      },
      "source": [
        "Write a Python program to compute element-wise sum of given tuples.\n",
        "\n",
        "Original lists:\n",
        "\n",
        "`(1, 2, 3, 4)\n",
        "(3, 5, 2, 1)\n",
        "(2, 2, 3, 1)`\n",
        "\n",
        "Element-wise sum of the said tuples:\n",
        "\n",
        "`(6, 9, 8, 6)`\n"
      ]
    },
    {
      "cell_type": "code",
      "execution_count": 142,
      "metadata": {
        "id": "-tg3jpqDdqMI"
      },
      "outputs": [],
      "source": []
    },
    {
      "cell_type": "markdown",
      "metadata": {
        "id": "X4Q9E7wABe0a"
      },
      "source": [
        "# Опасность работы с изменяемыми типами данных"
      ]
    },
    {
      "cell_type": "markdown",
      "metadata": {
        "id": "_-nqIxM4Be0a"
      },
      "source": [
        "В работе со списками есть важный момент, на который нужно обращать внимание. Давайте рассмотрим такой код:"
      ]
    },
    {
      "cell_type": "code",
      "execution_count": 143,
      "metadata": {
        "id": "2_Rkq2R5Be0a"
      },
      "outputs": [],
      "source": [
        "a = [1, 2, 3]\n"
      ]
    },
    {
      "cell_type": "code",
      "execution_count": 144,
      "metadata": {
        "id": "wavEN77MBe0b"
      },
      "outputs": [],
      "source": [
        "b = a"
      ]
    },
    {
      "cell_type": "code",
      "execution_count": 145,
      "metadata": {
        "id": "X0t_ZVIBBe0b"
      },
      "outputs": [],
      "source": [
        "b[0] = 4\n"
      ]
    },
    {
      "cell_type": "code",
      "execution_count": 146,
      "metadata": {
        "colab": {
          "base_uri": "https://localhost:8080/"
        },
        "id": "oTMLMzxKBe0b",
        "outputId": "d1a694c3-5847-4dae-b284-31f98288a752"
      },
      "outputs": [
        {
          "output_type": "stream",
          "name": "stdout",
          "text": [
            "[4, 2, 3]\n",
            "[4, 2, 3]\n"
          ]
        }
      ],
      "source": [
        "print(a)\n",
        "print(b)\n"
      ]
    },
    {
      "cell_type": "markdown",
      "metadata": {
        "id": "c78GHsqYBe0b"
      },
      "source": [
        "Почему так происходит?  \n",
        "Дело в том, что переменная a ссылается на место в памяти, где хранится список [1, 2, 3]. И когда мы пишем, что `b = a`, `b` начинает указывать на то же самое место. То есть образуется два имени для одного и того же кусочка данных. И после изменения этого кусочка через переменную `b`, значение переменной `a` тоже меняется!\n",
        "\n",
        "Как это исправить? Нужно создать копию списка a! В этом нам поможет метод `.copy()`"
      ]
    },
    {
      "cell_type": "code",
      "execution_count": 147,
      "metadata": {
        "colab": {
          "base_uri": "https://localhost:8080/"
        },
        "id": "8ul1WcAKBe0b",
        "outputId": "d380d955-c044-4949-bdd0-c5d3fb7af37c"
      },
      "outputs": [
        {
          "output_type": "stream",
          "name": "stdout",
          "text": [
            "[1, 2, 3] [4, 2, 3]\n"
          ]
        }
      ],
      "source": [
        "a = [1, 2, 3]\n",
        "b = a.copy() # теперь переменная b указывает на другой список, который хранится в другом кусочке памяти\n",
        "b[0] = 4\n",
        "print(a, b)"
      ]
    },
    {
      "cell_type": "markdown",
      "metadata": {
        "id": "xPPH0Y5iBe0c"
      },
      "source": [
        "Копию можно создавать и с помощью пустого среза"
      ]
    },
    {
      "cell_type": "code",
      "execution_count": 148,
      "metadata": {
        "colab": {
          "base_uri": "https://localhost:8080/"
        },
        "id": "eJBDbCq-Be0c",
        "outputId": "10ff133f-8e41-47e4-9a50-3e81e3c2030e"
      },
      "outputs": [
        {
          "output_type": "stream",
          "name": "stdout",
          "text": [
            "[1, 2, 3] [4, 2, 3]\n"
          ]
        }
      ],
      "source": [
        "a = [1, 2, 3]\n",
        "b = a[:] # по умолчанию берется срез от первого элемента до последнего, то есть копируется весь список a\n",
        "b[0] = 4\n",
        "print(a, b)"
      ]
    },
    {
      "cell_type": "code",
      "execution_count": 149,
      "metadata": {
        "id": "F_9_uQYUBe0c"
      },
      "outputs": [],
      "source": [
        "a = [1, 2, 3]\n"
      ]
    },
    {
      "cell_type": "markdown",
      "metadata": {
        "id": "vyr0QHP8Be0c"
      },
      "source": [
        "Но не путайте изменение с присваиванием!"
      ]
    },
    {
      "cell_type": "code",
      "execution_count": 150,
      "metadata": {
        "id": "dG9T7IIdBe0d"
      },
      "outputs": [],
      "source": [
        "a = [1, 2, 3]"
      ]
    },
    {
      "cell_type": "code",
      "execution_count": 151,
      "metadata": {
        "id": "K2j_9uQlBe0d"
      },
      "outputs": [],
      "source": [
        "b = a"
      ]
    },
    {
      "cell_type": "code",
      "execution_count": 152,
      "metadata": {
        "id": "_sael9SFBe0d"
      },
      "outputs": [],
      "source": [
        "a = [4,5,6]"
      ]
    },
    {
      "cell_type": "code",
      "execution_count": 153,
      "metadata": {
        "colab": {
          "base_uri": "https://localhost:8080/"
        },
        "id": "A0bdDDZtBe0d",
        "outputId": "2ca66a37-0d17-47b1-c988-545d5782d54b"
      },
      "outputs": [
        {
          "output_type": "stream",
          "name": "stdout",
          "text": [
            "[4, 5, 6]\n"
          ]
        }
      ],
      "source": [
        "print(a)"
      ]
    },
    {
      "cell_type": "code",
      "execution_count": 154,
      "metadata": {
        "colab": {
          "base_uri": "https://localhost:8080/"
        },
        "id": "ZfOZHba3Be0d",
        "outputId": "4226c415-823e-472b-8260-ab2c96cc2ac6"
      },
      "outputs": [
        {
          "output_type": "stream",
          "name": "stdout",
          "text": [
            "[1, 2, 3]\n"
          ]
        }
      ],
      "source": [
        "print(b)"
      ]
    },
    {
      "cell_type": "markdown",
      "metadata": {
        "id": "iR7cFG60Be0e"
      },
      "source": [
        "В примере выше переменная a была не изменена, а перезаписана, она начала указывать на другой список, хранящийся в другом месте памяти, поэтому переменная b осталась нетронута."
      ]
    },
    {
      "cell_type": "markdown",
      "metadata": {
        "id": "HKiKGDXABe0e"
      },
      "source": [
        "### Конкатенация списков и кортежей"
      ]
    },
    {
      "cell_type": "markdown",
      "metadata": {
        "id": "zhbei8xqBe0e"
      },
      "source": [
        "На списках и кортежах определен оператор +. По аналогии со строками, он будет склеивать две части выражения.\n",
        "\n",
        "Но складывать можно только данные одного типа, список с кортежом склеить нельзя."
      ]
    },
    {
      "cell_type": "code",
      "execution_count": 155,
      "metadata": {
        "colab": {
          "base_uri": "https://localhost:8080/"
        },
        "id": "6Ng1FFfuBe0e",
        "outputId": "980a4903-3df7-4d5c-b43d-0382b278f5c7"
      },
      "outputs": [
        {
          "output_type": "stream",
          "name": "stdout",
          "text": [
            "[1, 2, 3, 4]\n",
            "(1, 2, 3, 4)\n"
          ]
        }
      ],
      "source": [
        "print([1, 2] + [3, 4])\n",
        "print((1, 2) + (3, 4))"
      ]
    },
    {
      "cell_type": "code",
      "execution_count": 156,
      "metadata": {
        "colab": {
          "base_uri": "https://localhost:8080/"
        },
        "id": "RnNTE9wQBe0e",
        "outputId": "fa7f6462-d593-4508-f7c1-2639e4ea7103"
      },
      "outputs": [
        {
          "output_type": "execute_result",
          "data": {
            "text/plain": [
              "[1, 2, 1, 2]"
            ]
          },
          "metadata": {},
          "execution_count": 156
        }
      ],
      "source": [
        "[1,2] *2"
      ]
    },
    {
      "cell_type": "code",
      "execution_count": 157,
      "metadata": {
        "colab": {
          "base_uri": "https://localhost:8080/",
          "height": 171
        },
        "id": "0N1dXaQvBe0f",
        "outputId": "d81621a7-e651-4bb1-cf09-9ce3619a8b8c"
      },
      "outputs": [
        {
          "output_type": "error",
          "ename": "TypeError",
          "evalue": "ignored",
          "traceback": [
            "\u001b[0;31m---------------------------------------------------------------------------\u001b[0m",
            "\u001b[0;31mTypeError\u001b[0m                                 Traceback (most recent call last)",
            "\u001b[0;32m<ipython-input-157-dbea205bf98e>\u001b[0m in \u001b[0;36m<module>\u001b[0;34m\u001b[0m\n\u001b[0;32m----> 1\u001b[0;31m \u001b[0mprint\u001b[0m\u001b[0;34m(\u001b[0m\u001b[0;34m(\u001b[0m\u001b[0;36m1\u001b[0m\u001b[0;34m,\u001b[0m \u001b[0;36m2\u001b[0m\u001b[0;34m)\u001b[0m \u001b[0;34m+\u001b[0m \u001b[0;34m[\u001b[0m\u001b[0;36m3\u001b[0m\u001b[0;34m,\u001b[0m \u001b[0;36m4\u001b[0m\u001b[0;34m]\u001b[0m\u001b[0;34m)\u001b[0m \u001b[0;31m# а так нельзя\u001b[0m\u001b[0;34m\u001b[0m\u001b[0;34m\u001b[0m\u001b[0m\n\u001b[0m",
            "\u001b[0;31mTypeError\u001b[0m: can only concatenate tuple (not \"list\") to tuple"
          ]
        }
      ],
      "source": [
        "print((1, 2) + [3, 4]) # а так нельзя"
      ]
    },
    {
      "cell_type": "markdown",
      "metadata": {
        "id": "x9VazamvBe0f"
      },
      "source": [
        "Но можно превратить список в кортеж, а потом сложить (или наоборот)."
      ]
    },
    {
      "cell_type": "code",
      "execution_count": 158,
      "metadata": {
        "colab": {
          "base_uri": "https://localhost:8080/"
        },
        "id": "sD7mg5gZBe0f",
        "outputId": "68467c28-363a-429b-826e-1c76b2db7661"
      },
      "outputs": [
        {
          "output_type": "stream",
          "name": "stdout",
          "text": [
            "[1, 2, 3, 4]\n",
            "(1, 2, 3, 4)\n"
          ]
        }
      ],
      "source": [
        "print(list((1, 2)) + [3, 4])\n",
        "print((1, 2) + tuple([3, 4]))"
      ]
    },
    {
      "cell_type": "code",
      "execution_count": 159,
      "metadata": {
        "id": "WUUkrZVwBe0g",
        "outputId": "76928dc6-8c07-4766-c52a-38a787ce8163",
        "colab": {
          "base_uri": "https://localhost:8080/"
        }
      },
      "outputs": [
        {
          "output_type": "execute_result",
          "data": {
            "text/plain": [
              "()"
            ]
          },
          "metadata": {},
          "execution_count": 159
        }
      ],
      "source": [
        "x = tuple()\n",
        "x"
      ]
    },
    {
      "cell_type": "markdown",
      "metadata": {
        "id": "CYnx8sDZBe0g"
      },
      "source": [
        "# Методы .split(), .join(),  функция map(), вывод и ввод списков"
      ]
    },
    {
      "cell_type": "markdown",
      "metadata": {
        "id": "m6P-XM4mBe0g"
      },
      "source": [
        "При работе со списками довольно часто нам придется вводить их и выводить в отформатированном виде. Сейчас мы рассмотрим несколько методов, которые помогут сделать это в одну строку. "
      ]
    },
    {
      "cell_type": "markdown",
      "metadata": {
        "id": "KOYBXG3XBe0g"
      },
      "source": [
        "### Метод .split()"
      ]
    },
    {
      "cell_type": "markdown",
      "metadata": {
        "id": "ZHuP2uxGBe0g"
      },
      "source": [
        "Метод строки .split() получает на вход строку-разделитель и возвращает список строк, разбитый по этому разделителю.\n",
        "\n",
        "По умолчанию метод разбивает строку по пробелу"
      ]
    },
    {
      "cell_type": "code",
      "execution_count": 160,
      "metadata": {
        "colab": {
          "base_uri": "https://localhost:8080/"
        },
        "id": "4R-otGooBe0h",
        "outputId": "b7fa14af-ec0c-4b08-94ee-2def31560525"
      },
      "outputs": [
        {
          "output_type": "stream",
          "name": "stdout",
          "text": [
            "['Hello', 'darkness', 'my', 'old', 'friend', '!#$@%$^#', 'bhfdsajklfgdsajk']\n"
          ]
        }
      ],
      "source": [
        "print('Hello darkness my old friend     !#$@%$^#         bhfdsajklfgdsajk'.split())\n"
      ]
    },
    {
      "cell_type": "code",
      "execution_count": 160,
      "metadata": {
        "id": "HLbA9Vu-Be0h"
      },
      "outputs": [],
      "source": []
    },
    {
      "cell_type": "code",
      "execution_count": 161,
      "metadata": {
        "colab": {
          "base_uri": "https://localhost:8080/"
        },
        "id": "1meWih5rBe0h",
        "outputId": "58af4828-fe2f-474f-8312-321a2dfe1df9"
      },
      "outputs": [
        {
          "output_type": "stream",
          "name": "stdout",
          "text": [
            "['Ночь', 'Улица', 'Фонарь', 'Аптека']\n"
          ]
        }
      ],
      "source": [
        "print('Ночь. Улица. Фонарь. Аптека'.split('. '))"
      ]
    },
    {
      "cell_type": "markdown",
      "metadata": {
        "id": "HeWnYfi4Be0h"
      },
      "source": [
        "### Метод .join()"
      ]
    },
    {
      "cell_type": "markdown",
      "metadata": {
        "id": "zx_dnhDYBe0h"
      },
      "source": [
        "Метод .join() ведет себя с точностью до наоборот - он склеивает массив в строку, вставляя между элементами строку-разделитель."
      ]
    },
    {
      "cell_type": "code",
      "execution_count": 162,
      "metadata": {
        "colab": {
          "base_uri": "https://localhost:8080/"
        },
        "id": "f-sMYg7MBe0h",
        "outputId": "edfbd2f8-0456-43e1-f14d-2f5160fede49"
      },
      "outputs": [
        {
          "output_type": "stream",
          "name": "stdout",
          "text": [
            "8-800-555-35-35\n"
          ]
        }
      ],
      "source": [
        "print('-'.join(['8', '800', '555', '35', '35']))"
      ]
    },
    {
      "cell_type": "code",
      "execution_count": null,
      "metadata": {
        "id": "e352GHOqUZaL"
      },
      "outputs": [],
      "source": [
        "'-' + 4"
      ]
    },
    {
      "cell_type": "markdown",
      "metadata": {
        "id": "luVtM0qBBe0i"
      },
      "source": [
        "### Функция map()"
      ]
    },
    {
      "cell_type": "markdown",
      "metadata": {
        "id": "MWQhpLxABe0i"
      },
      "source": [
        "Функция map() берет функцию и последовательность и применяет эту функцию ко всем ее элементам (map() всегда будет ожидать от вас два аргумента).\n",
        "\n",
        "Обратите внимание, чтобы увидеть результат работы этой функции надо дополнительно вручную преобразовать в список (или в кортеж, в зависимости от ваших целей)."
      ]
    },
    {
      "cell_type": "code",
      "execution_count": 164,
      "metadata": {
        "colab": {
          "base_uri": "https://localhost:8080/"
        },
        "id": "5NAR0FndBe0i",
        "outputId": "4a50e7ce-2553-4ae5-cd00-5d23a670e7ad"
      },
      "outputs": [
        {
          "output_type": "stream",
          "name": "stdout",
          "text": [
            "<map object at 0x7fd5e3970520>\n",
            "[True, False, True, True, True, False]\n"
          ]
        }
      ],
      "source": [
        "print(map(bool, [9, 0, 8, -288, 998, 0])) # не совсем то, что надо\n",
        "print(list(map(bool, [9, None, 8, -288, 998, 0]))) # а теперь работает, каждое число преобразовалось в логическую переменную"
      ]
    },
    {
      "cell_type": "markdown",
      "metadata": {
        "id": "t6uKpiIABe0i"
      },
      "source": [
        "### Ввод и вывод списков"
      ]
    },
    {
      "cell_type": "markdown",
      "metadata": {
        "id": "kf4oPar6Be0i"
      },
      "source": [
        "Теперь мы можем быстро вводить и выводить списки, содержащие разные данные через разные разделители."
      ]
    },
    {
      "cell_type": "code",
      "execution_count": 165,
      "metadata": {
        "colab": {
          "base_uri": "https://localhost:8080/"
        },
        "id": "ZCNqblf_Be0j",
        "outputId": "f268abd5-d96a-496a-9386-69e014e32ab0"
      },
      "outputs": [
        {
          "output_type": "stream",
          "name": "stdout",
          "text": [
            "8 999 999 9 9\n",
            "['8', '999', '999', '9', '9']\n",
            "8-999-999-9-9\n"
          ]
        }
      ],
      "source": [
        "phone = input().split() # получаем строку, разбиваем по пробелу, сразу преобразуем все элементы в числа\n",
        "print(phone)\n",
        "print('-'.join(phone)) # преобразуем массив чисел в массив строк и склеиваем через дефис"
      ]
    },
    {
      "cell_type": "markdown",
      "metadata": {
        "id": "9hSQ0SdQBe0j"
      },
      "source": [
        "Также, если нет задачи сохранить результат в переменную в виде строки, вместо join() можно использовать распаковку. \n",
        "Мы ставим оператор * перед списком, и, например, функция print() будет воспринимать его не как список, а как последовательность объектов."
      ]
    },
    {
      "cell_type": "code",
      "execution_count": 166,
      "metadata": {
        "colab": {
          "base_uri": "https://localhost:8080/"
        },
        "id": "ejJ_VcbwBe0j",
        "outputId": "b5569b45-c129-4f3b-beba-d133ce8c0b76"
      },
      "outputs": [
        {
          "output_type": "stream",
          "name": "stdout",
          "text": [
            "['8', '999', '999', '9', '9']\n",
            "8-999-999-9-9\n",
            "8-999-999-9-9\n"
          ]
        }
      ],
      "source": [
        "print(phone, sep='-') # не работает, получили список\n",
        "print(*phone, sep='-') # теперь сработало. По сути, распакованный список питон видит как в примере ниже\n",
        "print(phone[0], phone[1], phone[2], phone[3], phone[4], sep='-')"
      ]
    },
    {
      "cell_type": "code",
      "execution_count": 166,
      "metadata": {
        "id": "lB1Ep-7BVsXn"
      },
      "outputs": [],
      "source": []
    },
    {
      "cell_type": "markdown",
      "metadata": {
        "id": "uqCBNcXPdqMN"
      },
      "source": [
        "# Home Tasks"
      ]
    },
    {
      "cell_type": "markdown",
      "metadata": {
        "id": "wPjOWqN4dqMO"
      },
      "source": [
        "## Task #1"
      ]
    },
    {
      "cell_type": "markdown",
      "metadata": {
        "id": "LdrkJTNrdqMO"
      },
      "source": [
        "Write a Python program to get the difference between the two lists. \n",
        "\n",
        "*Example 1.*\n",
        "\n",
        "In: `[1, 2, 3]` `[2, 2, 3]`\n",
        "\n",
        "Out: \n",
        "\n",
        "`Elements with index 0 are defferent: list1[0]: 1, list2[0]: 2`\n",
        "\n",
        "*Example 2.*\n",
        "\n",
        "In: `[1, 2, 3, 5]` `[2, 2, 3, 6]`\n",
        "\n",
        "Out: \n",
        "\n",
        "`Elements with index 0 are defferent: list1[0]: 1, list2[0]: 2`\n",
        "\n",
        "`Elements with index 3 are defferent: list1[3]: 5, list2[3]: 6`"
      ]
    },
    {
      "cell_type": "code",
      "execution_count": 169,
      "metadata": {
        "id": "D7bGfHNodqMO",
        "outputId": "8db59e3f-a52a-4b3a-c942-f23a8c839861",
        "colab": {
          "base_uri": "https://localhost:8080/"
        }
      },
      "outputs": [
        {
          "output_type": "stream",
          "name": "stdout",
          "text": [
            "1 2 3 5\n",
            "2 2 3 6\n",
            "Elements with index 0 are defferent: list1[0]: 1, list2[0]: 2\n",
            "Elements with index 3 are defferent: list1[3]: 5, list2[3]: 6\n"
          ]
        }
      ],
      "source": [
        "a = input().split()\n",
        "b = input().split()\n",
        "\n",
        "for i in range (0, len(a), 3):\n",
        "    if a[i] == b[i]:\n",
        "        print('Elements with index ', i,' are same: list1[', i,']: ', a[i],', list2[', i, ']: ', b[i], sep = '')\n",
        "    else: print('Elements with index ', i,' are defferent: list1[', i,']: ', a[i],', list2[', i, ']: ', b[i], sep = '')"
      ]
    }
  ],
  "metadata": {
    "colab": {
      "name": "List_Tuple.ipynb",
      "provenance": []
    },
    "kernelspec": {
      "display_name": "Python 3",
      "language": "python",
      "name": "python3"
    },
    "language_info": {
      "codemirror_mode": {
        "name": "ipython",
        "version": 3
      },
      "file_extension": ".py",
      "mimetype": "text/x-python",
      "name": "python",
      "nbconvert_exporter": "python",
      "pygments_lexer": "ipython3",
      "version": "3.8.8"
    }
  },
  "nbformat": 4,
  "nbformat_minor": 0
}
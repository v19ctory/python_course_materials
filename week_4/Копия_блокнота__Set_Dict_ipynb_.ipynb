{
  "cells": [
    {
      "cell_type": "markdown",
      "metadata": {
        "id": "GTBu8Nc1r5lW"
      },
      "source": [
        "## Task #0"
      ]
    },
    {
      "cell_type": "markdown",
      "metadata": {
        "id": "TllRTElZr5lX"
      },
      "source": [
        "Дан одномерный массив числовых значений, насчитывающий N элементов. Исключить из массива элементы, принадлежащие промежутку [1; 3].\n",
        "\n",
        "Input: \n",
        "`[0, 1, 6, 10, 100, 300]`\n",
        "\n",
        "Output:\n",
        "`[0, 10, 100, 300]`"
      ]
    },
    {
      "cell_type": "code",
      "execution_count": 83,
      "metadata": {
        "id": "NGbqBPZmr5lX",
        "outputId": "219f5f33-fec6-4ece-8e68-2c0c1a369028",
        "colab": {
          "base_uri": "https://localhost:8080/"
        }
      },
      "outputs": [
        {
          "output_type": "execute_result",
          "data": {
            "text/plain": [
              "[0, 10, 100, 300]"
            ]
          },
          "metadata": {},
          "execution_count": 83
        }
      ],
      "source": [
        "a = [0, 1, 6, 10, 100, 300]\n",
        "res = [a[i] for i in range (len(a)) if a[i] < 1 or a[i] > 6]\n",
        "res"
      ]
    },
    {
      "cell_type": "markdown",
      "metadata": {
        "id": "pLc_pSB0r5lY"
      },
      "source": [
        "## Task #1"
      ]
    },
    {
      "cell_type": "markdown",
      "metadata": {
        "id": "LiEB4CZSr5lY"
      },
      "source": [
        "Дан одномерный массив числовых значений, насчитывающий N элементов. Подсчитать количество чисел, делящихся на 3 нацело, и среднее арифметическое чисел с чётными значениями. Поставить полученные величины на первое и последнее места в массиве (увеличив массив на 2 элемента).\n",
        "\n",
        "Input: \n",
        "`[0, -3, 2, 4]`\n",
        "\n",
        "Output:\n",
        "`[1, 0, -3, 2, 4, 2]`"
      ]
    },
    {
      "cell_type": "code",
      "execution_count": 84,
      "metadata": {
        "id": "D2ws5cnYr5lY",
        "outputId": "e5b93248-31cd-48d7-d64d-7ae8ebc6c088",
        "colab": {
          "base_uri": "https://localhost:8080/"
        }
      },
      "outputs": [
        {
          "output_type": "execute_result",
          "data": {
            "text/plain": [
              "[1, 0, -3, 2, 4, 2]"
            ]
          },
          "metadata": {},
          "execution_count": 84
        }
      ],
      "source": [
        "a = [0, -3, 2, 4]\n",
        "c0 = 0 # %3 == 0\n",
        "c1 = 0 # %2 == 0\n",
        "c2 = 0 #mean\n",
        "for i in range (len(a)):\n",
        "    if a[i] % 3 == 0 and a[i] != 0:\n",
        "        c0 += 1\n",
        "    if a[i] % 2 == 0:\n",
        "        c1 += 1\n",
        "        c2 += a[i]\n",
        "c2 /= c1\n",
        "a.insert(0, c0)\n",
        "a.insert(len(a), int(c2))\n",
        "a"
      ]
    },
    {
      "cell_type": "markdown",
      "metadata": {
        "id": "h7cJjw7Zr5lZ"
      },
      "source": [
        "## Task #2"
      ]
    },
    {
      "cell_type": "markdown",
      "metadata": {
        "id": "OQ5idYTtr5lZ"
      },
      "source": [
        "Дан одномерный массив числовых значений, насчитывающий N элементов. Добавить столько элементов, чтобы элементов с положительными и отрицательными значениями стало бы поровну.\n",
        "\n",
        "Input: \n",
        "`[0, 8, -3, 2, 4 -1, 13, 24, 19]`\n",
        "\n",
        "Output:\n",
        "`[0, -1, 8, -3, 2, -1, 4, -1, 13, -1, 24, -1, 19]`"
      ]
    },
    {
      "cell_type": "code",
      "execution_count": 85,
      "metadata": {
        "id": "T2T2GWM6r5lZ",
        "outputId": "6e9e8b6f-926d-4834-9f4f-527d2f33bf92",
        "colab": {
          "base_uri": "https://localhost:8080/"
        }
      },
      "outputs": [
        {
          "output_type": "execute_result",
          "data": {
            "text/plain": [
              "[0, 8, -3, 2, 3, 13, 24, 19, -1, -2, -3, -4, -5]"
            ]
          },
          "metadata": {},
          "execution_count": 85
        }
      ],
      "source": [
        "a = [0, 8, -3, 2, 4 -1, 13, 24, 19]\n",
        "otr = 0\n",
        "pol = 0\n",
        "for i in range (len(a)):\n",
        "    if a[i] > 0:\n",
        "        pol += 1\n",
        "    elif a[i] < 0:\n",
        "        otr += 1\n",
        "if pol > otr:\n",
        "    for i in range (pol - otr):\n",
        "        a.append(-i-1)\n",
        "elif pol < otr:\n",
        "    for i in range (- pol + otr):\n",
        "        a.append(i+1)\n",
        "a"
      ]
    },
    {
      "cell_type": "markdown",
      "metadata": {
        "id": "UlDQPDASr5lZ"
      },
      "source": [
        "## Task 3"
      ]
    },
    {
      "cell_type": "markdown",
      "metadata": {
        "id": "WNxh6RBtr5lZ"
      },
      "source": [
        "How to remove stop words in a text?"
      ]
    },
    {
      "cell_type": "code",
      "execution_count": 86,
      "metadata": {
        "id": "rFWP8CPgr5la"
      },
      "outputs": [],
      "source": [
        "stop_words = [\"i\", \"me\", \"my\", \"myself\", \"we\", \"our\", \"ours\", \"ourselves\", \"you\", \"your\", \"yours\", \"yourself\", \"yourselves\", \"he\", \"him\", \"his\", \"himself\", \"she\", \"her\", \"hers\", \"herself\", \"it\", \"its\", \"itself\", \"they\", \"them\", \"their\", \"theirs\", \"themselves\", \"what\", \"which\", \"who\", \"whom\", \"this\", \"that\", \"these\", \"those\", \"am\", \"is\", \"are\", \"was\", \"were\", \"be\", \"been\", \"being\", \"have\", \"has\", \"had\", \"having\", \"do\", \"does\", \"did\", \"doing\", \"a\", \"an\", \"the\", \"and\", \"but\", \"if\", \"or\", \"because\", \"as\", \"until\", \"while\", \"of\", \"at\", \"by\", \"for\", \"with\", \"about\", \"against\", \"between\", \"into\", \"through\", \"during\", \"before\", \"after\", \"above\", \"below\", \"to\", \"from\", \"up\", \"down\", \"in\", \"out\", \"on\", \"off\", \"over\", \"under\", \"again\", \"further\", \"then\", \"once\", \"here\", \"there\", \"when\", \"where\", \"why\", \"how\", \"all\", \"any\", \"both\", \"each\", \"few\", \"more\", \"most\", \"other\", \"some\", \"such\", \"no\", \"nor\", \"not\", \"only\", \"own\", \"same\", \"so\", \"than\", \"too\", \"very\", \"s\", \"t\", \"can\", \"will\", \"just\", \"don\", \"should\", \"now\"]\n",
        "text = \"\"\"the outbreak of coronavirus disease 2019 ( COVID - 19 ) has created a global health crisis that has had a deep impact on the way we perceive our world and our everyday lives . Not only the rate of contagion and patterns of transmission threatens our sense of agency , but the safety measures put in place to contain the spread of the virus also require social distancing by refraining from doing what is inherently human , which is to find solace in the company of others . Within this context of physical threat , social and physical distancing , as well as public alarm , what has been ( and can be ) the role of the different mass media channels in our lives on individual , social and societal levels ? Mass media have long been recognized as powerful forces shaping how we experience the world and ourselves . This recognition is accompanied by a growing volume of research , that closely follows the footsteps of technological transformations ( e . g . radio , movies , television , the internet , mobiles ) and the zeitgeist ( e . g . cold war , 9 / 11 , climate change ) in an attempt to map mass media major impacts on how we perceive ourselves , both as individuals and citizens . Are media ( broadcast and digital ) still able to convey a sense of unity reaching large audiences , or are messages lost in the noisy crowd of mass self - communication ?\"\"\""
      ]
    },
    {
      "cell_type": "code",
      "execution_count": 87,
      "metadata": {
        "id": "tbv3VJSjr5la",
        "outputId": "dab4a7c4-e065-4745-bac4-97f51042b89c",
        "colab": {
          "base_uri": "https://localhost:8080/",
          "height": 105
        }
      },
      "outputs": [
        {
          "output_type": "execute_result",
          "data": {
            "text/plain": [
              "'outbreak coronavirus disease 2019 ( COVID - 19 ) created global health crisis deep impact way perceive world everyday lives . Not rate contagion patterns transmission threatens sense agency , safety measures put place contain spread virus also require social distancing refraining inherently human , find solace company others . Within context physical threat , social physical distancing , well public alarm , ( ) role different mass media channels lives individual , social societal levels ? Mass media long recognized powerful forces shaping experience world . This recognition accompanied growing volume research , closely follows footsteps technological transformations ( e . g . radio , movies , television , internet , mobiles ) zeitgeist ( e . g . cold war , 9 / 11 , climate change ) attempt map mass media major impacts perceive , individuals citizens . Are media ( broadcast digital ) still able convey sense unity reaching large audiences , messages lost noisy crowd mass self - communication ? '"
            ],
            "application/vnd.google.colaboratory.intrinsic+json": {
              "type": "string"
            }
          },
          "metadata": {},
          "execution_count": 87
        }
      ],
      "source": [
        "text_s = text.split(' ')\n",
        "text_new = [word for word in text_s if word not in stop_words]\n",
        "text_new\n",
        "res = ''\n",
        "for i in range (len(text_new)):\n",
        "    res += str(text_new[i])\n",
        "    res += ' '\n",
        "res"
      ]
    },
    {
      "cell_type": "markdown",
      "metadata": {
        "id": "MELO_L5Jr5la"
      },
      "source": [
        "## Task 4"
      ]
    },
    {
      "cell_type": "markdown",
      "metadata": {
        "id": "B4f2DipAr5lb"
      },
      "source": [
        "How to extract usernames from emails ?"
      ]
    },
    {
      "cell_type": "code",
      "execution_count": 88,
      "metadata": {
        "id": "t9CO0sD2r5lb"
      },
      "outputs": [],
      "source": [
        "text = \"The new registrations are potter709@gmail.com , elixir101@gmail.com . If you find any disruptions , kindly contact granger111@gamil.com or severus77@gamil.com \""
      ]
    },
    {
      "cell_type": "code",
      "execution_count": 89,
      "metadata": {
        "id": "DT-3VHzkr5lb",
        "outputId": "d6c08ab7-f97c-4156-bb17-c5c3a46c62af",
        "colab": {
          "base_uri": "https://localhost:8080/"
        }
      },
      "outputs": [
        {
          "output_type": "execute_result",
          "data": {
            "text/plain": [
              "['potter709', 'elixir101', 'granger111', 'severus77']"
            ]
          },
          "metadata": {},
          "execution_count": 89
        }
      ],
      "source": [
        "text_s = text.split(' ')\n",
        "text_new = [word for word in text_s if '@' in word]\n",
        "for i in range (len(text_new)):\n",
        "    text_new[i] = text_new[i].split('@')[0]\n",
        "       \n",
        "text_new\n"
      ]
    },
    {
      "cell_type": "markdown",
      "metadata": {
        "id": "k--A2ldAr5lb"
      },
      "source": [
        "\n",
        "# Цикл `For`"
      ]
    },
    {
      "cell_type": "markdown",
      "metadata": {
        "id": "pUMdyyW_r5lb"
      },
      "source": [
        "Цикл `for`, также называемый циклом с параметром, в языке Питон богат возможностями. В цикле `for` указывается переменная и множество значений, по которому будет пробегать переменная. Множество значений может быть задано списком, кортежем, строкой или диапазоном.\n",
        "\n",
        "Вот простейший пример использования цикла, где в качестве множества значений используется кортеж"
      ]
    },
    {
      "cell_type": "code",
      "execution_count": 90,
      "metadata": {
        "id": "oBR0zBEur5lc",
        "outputId": "2d00e0ad-c2da-4946-b3fe-057f0143b181",
        "colab": {
          "base_uri": "https://localhost:8080/"
        }
      },
      "outputs": [
        {
          "output_type": "stream",
          "name": "stdout",
          "text": [
            "#1 color of rainbow is red\n",
            "#2 color of rainbow is orange\n",
            "#3 color of rainbow is yellow\n",
            "#4 color of rainbow is green\n",
            "#5 color of rainbow is cyan\n",
            "#6 color of rainbow is blue\n",
            "#7 color of rainbow is violet\n"
          ]
        }
      ],
      "source": [
        "i = 1\n",
        "for color in 'red', 'orange', 'yellow', 'green', 'cyan', 'blue', 'violet':\n",
        "    print('#', i, ' color of rainbow is ', color, sep = '')\n",
        "    i += 1"
      ]
    },
    {
      "cell_type": "markdown",
      "metadata": {
        "id": "c9K80Kdyr5lc"
      },
      "source": [
        "В этом примере переменная `color` последовательно принимает значения `'red'`, `'orange'` и т.д. В теле цикла выводится сообщение, которое содержит название цвета, то есть значение переменной color, а также номер итерации цикла  число, которое сначала равно `1`, а потом увеличивается на один (инструкцией `i += 1` с каждым проходом цикла.\n",
        "\n",
        "Инструкция `i += 1` эквивалентна конструкции `i = i + 1` (это просто сокращенная запись). Такую сокращенную запись можно использовать для всех арифметических операций: `*=`, `-=`, `/=`, `%=`...\n",
        "\n",
        "В списке значений могут быть выражения различных типов, например:\n",
        "\n"
      ]
    },
    {
      "cell_type": "code",
      "execution_count": 91,
      "metadata": {
        "id": "cSuFMrXpr5lc",
        "outputId": "ef65c86c-2f4f-48a6-9415-f70a97de036b",
        "colab": {
          "base_uri": "https://localhost:8080/"
        }
      },
      "outputs": [
        {
          "output_type": "stream",
          "name": "stdout",
          "text": [
            "1\n",
            "2\n",
            "3\n",
            "one\n",
            "two\n",
            "three\n"
          ]
        }
      ],
      "source": [
        "for i in 1, 2, 3, 'one', 'two', 'three':\n",
        "    print(i)"
      ]
    },
    {
      "cell_type": "markdown",
      "metadata": {
        "id": "1j3rDIDTr5ld"
      },
      "source": [
        "# Функция `range`"
      ]
    },
    {
      "cell_type": "markdown",
      "metadata": {
        "id": "bKoZrukFr5ld"
      },
      "source": [
        "Как правило, циклы `for` используются либо для повторения какой-либо последовательности действий заданное число раз, либо для изменения значения переменной в цикле от некоторого начального значения до некоторого конечного.\n",
        "\n",
        "Для повторения цикла некоторое заданное число раз `n` можно использовать цикл `for` вместе с функцией `range`:"
      ]
    },
    {
      "cell_type": "code",
      "execution_count": 92,
      "metadata": {
        "id": "UYj34sZYr5ld",
        "outputId": "228020d9-939c-4c9d-b6ab-dbbc12969f13",
        "colab": {
          "base_uri": "https://localhost:8080/"
        }
      },
      "outputs": [
        {
          "output_type": "stream",
          "name": "stdout",
          "text": [
            "0\n",
            "0\n",
            "1\n",
            "1\n",
            "2\n",
            "4\n",
            "3\n",
            "9\n",
            "Конец цикла\n"
          ]
        }
      ],
      "source": [
        "for i in range(4):  # равносильно инструкции for i in 0, 1, 2, 3:\n",
        "    # здесь можно выполнять циклические действия\n",
        "    print(i)\n",
        "    print(i ** 2)\n",
        "# цикл закончился, поскольку закончился блок с отступом\n",
        "print('Конец цикла')"
      ]
    },
    {
      "cell_type": "markdown",
      "metadata": {
        "id": "GdpxEsuSr5ld"
      },
      "source": [
        "В качестве `n` может использоваться числовая константа, переменная или произвольное арифметическое выражение (например, `2 ** 10`). Если значение `n` равно нулю или отрицательное, то тело цикла не выполнится ни разу.\n",
        "\n",
        "Функция `range` может также принимать не один, а два параметра. Вызов `range(a, b)` означает, что индексная переменная будеть принимать значения от a до `b - 1`, то есть первый параметр функции `range`, вызываемой с двумя параметрами, задает начальное значение индексной переменной, а второй параметр — первое значение, которое индексная переменная принимать не будет. Если же `a≥b`, то цикл не будет выполнен ни разу. Например, для того, чтобы просуммировать значения чисел от `1` до `n` можно воспользоваться следующей программой:"
      ]
    },
    {
      "cell_type": "code",
      "execution_count": 93,
      "metadata": {
        "id": "EHUW6hJBr5ld",
        "outputId": "4c6c0c9c-ac64-4016-c8e4-e491c12a0177",
        "colab": {
          "base_uri": "https://localhost:8080/"
        }
      },
      "outputs": [
        {
          "output_type": "stream",
          "name": "stdout",
          "text": [
            "15\n"
          ]
        }
      ],
      "source": [
        "sum = 0\n",
        "n = 5\n",
        "for i in range(1, n + 1):\n",
        "    sum += i\n",
        "print(sum)"
      ]
    },
    {
      "cell_type": "markdown",
      "metadata": {
        "id": "FB8txuOqr5le"
      },
      "source": [
        "В этом примере переменная `i` принимает значения `1, 2, ..., n`, и значение переменной sum последовательно увеличивается на указанные значения.\n",
        "\n",
        "Наконец, чтобы организовать цикл, в котором индексная переменная будет уменьшаться, необходимо использовать функцию `range` с тремя параметрами. Первый параметр задает начальное значение индексной переменной, второй параметр — значение, до которого будет изменяться индексная переменная (не включая его!), а третий параметр — величину изменения индексной переменной. Например, сделать цикл по всем нечетным числам от `1` до `99` можно при помощи функции `range(1, 100, 2)`, а сделать цикл по всем числам от `100` до `1` можно при помощи `range(100, 0, -1)`.\n",
        "\n",
        "Более формально, цикл for i in `range(a, b, d)` при `d > 0` задает значения индексной переменной `i = a`, `i = a + d`, `i = a + 2 * d` и так для всех значений, для которых `i < b`. Если же `d < 0`, то переменная цикла принимает все значения `i > b`.\n",
        "\n"
      ]
    },
    {
      "cell_type": "markdown",
      "metadata": {
        "id": "fw7GBIiMr5le"
      },
      "source": [
        "## Task #5.0"
      ]
    },
    {
      "cell_type": "markdown",
      "metadata": {
        "id": "bJ0W_ppbr5le"
      },
      "source": [
        "Write a program to print the following number pattern using a loop.\n",
        "\n",
        "`\n",
        "1 \n",
        "1 2 \n",
        "1 2 3 \n",
        "1 2 3 4 \n",
        "1 2 3 4 5`"
      ]
    },
    {
      "cell_type": "code",
      "execution_count": 180,
      "metadata": {
        "id": "XrZwEXqPr5le",
        "colab": {
          "base_uri": "https://localhost:8080/"
        },
        "outputId": "985a610f-9b46-4bb4-cec2-a771e41917d9"
      },
      "outputs": [
        {
          "output_type": "stream",
          "name": "stdout",
          "text": [
            "1 1 2 1 2 3 1 2 3 4 1 2 3 4 5 "
          ]
        }
      ],
      "source": [
        "for i in range (1, 6):\n",
        "    for j in range (1, 6):\n",
        "        if i >= j:\n",
        "            print(j, end = ' ')"
      ]
    },
    {
      "cell_type": "markdown",
      "metadata": {
        "id": "IFskV4jxr5le"
      },
      "source": [
        "## Task #5.1"
      ]
    },
    {
      "cell_type": "markdown",
      "metadata": {
        "id": "XJnFUpOvr5le"
      },
      "source": [
        "Write a program to use for loop to print the following reverse number pattern\n",
        "\n",
        "\n",
        "`\n",
        "5 4 3 2 1 \n",
        "4 3 2 1 \n",
        "3 2 1 \n",
        "2 1 \n",
        "1`"
      ]
    },
    {
      "cell_type": "code",
      "execution_count": 185,
      "metadata": {
        "id": "Q9E9aMeIr5le",
        "colab": {
          "base_uri": "https://localhost:8080/"
        },
        "outputId": "a7f3e251-061f-4f9b-dbb7-130d2c27ff25"
      },
      "outputs": [
        {
          "output_type": "stream",
          "name": "stdout",
          "text": [
            "5 4 3 2 1 4 3 2 1 3 2 1 2 1 1 "
          ]
        }
      ],
      "source": [
        "for i in range (5, 0, -1):\n",
        "    for j in range (5, 0, -1):\n",
        "        if i >= j:\n",
        "            print(j, end = ' ')"
      ]
    },
    {
      "cell_type": "markdown",
      "metadata": {
        "id": "jgdUvdr3r5lf"
      },
      "source": [
        "## Task #6"
      ]
    },
    {
      "cell_type": "markdown",
      "metadata": {
        "id": "cIIXfbVlr5lf"
      },
      "source": [
        "Can you you create a list from 1300 to 700 with descending steps of 100? Is your stop value included in the list?"
      ]
    },
    {
      "cell_type": "code",
      "execution_count": 187,
      "metadata": {
        "id": "1Qm8b-YHr5lf",
        "colab": {
          "base_uri": "https://localhost:8080/"
        },
        "outputId": "23269f68-9817-4461-82c1-c18ceefd6b2b"
      },
      "outputs": [
        {
          "output_type": "stream",
          "name": "stdout",
          "text": [
            "1300 1200 1100 1000 900 800 700 "
          ]
        }
      ],
      "source": [
        "for i in range (1300, 699, -100):\n",
        "      print(i, end = ' ')"
      ]
    },
    {
      "cell_type": "markdown",
      "metadata": {
        "id": "4q_VMS6Rr5lf"
      },
      "source": [
        "# Множества (set)\n",
        "\n",
        "Мы уже знаем списки и кортежи - упорядоченные структуры, которые могут хранить в себе объекты любых типов, к которым мы можем обратиться по индексу. Теперь поговорим о стуктурах неупорядоченных - множествах и словарях. \n",
        "\n",
        "Множества хранят некоторое количество объектов, но, в отличие от списка, один объект может храниться в множестве не более одного раза. Кроме того, порядок элементов множества произволен, им нельзя управлять.\n",
        "\n",
        "Тип называется set, это же является конструктором типа, т.е. в функцию set можно передать произвольную последовательность, и из этой последовательности будет построено множество:"
      ]
    },
    {
      "cell_type": "code",
      "execution_count": 94,
      "metadata": {
        "id": "3hz75f-ur5lf",
        "outputId": "dcf62ff4-5c99-41e4-c593-b6c28a2cf52c",
        "colab": {
          "base_uri": "https://localhost:8080/"
        }
      },
      "outputs": [
        {
          "output_type": "execute_result",
          "data": {
            "text/plain": [
              "set"
            ]
          },
          "metadata": {},
          "execution_count": 94
        }
      ],
      "source": [
        "x = set()\n",
        "type(x)"
      ]
    },
    {
      "cell_type": "code",
      "execution_count": 95,
      "metadata": {
        "id": "90xYzWsrr5lg",
        "outputId": "7a84d6a3-394b-4461-c19b-9d55b1337523",
        "colab": {
          "base_uri": "https://localhost:8080/"
        }
      },
      "outputs": [
        {
          "output_type": "stream",
          "name": "stdout",
          "text": [
            "{4, 5, 6}\n"
          ]
        }
      ],
      "source": [
        "x = (4, 5, 6)\n",
        "print(set(x)) # передаем список"
      ]
    },
    {
      "cell_type": "code",
      "execution_count": 96,
      "metadata": {
        "id": "v3Rmfy8Tr5lg",
        "outputId": "ef9e7adb-251d-43fe-8469-4d278b19bd32",
        "colab": {
          "base_uri": "https://localhost:8080/"
        }
      },
      "outputs": [
        {
          "output_type": "execute_result",
          "data": {
            "text/plain": [
              "{0, 1, 2, 3, 4, 5, 6, 7, 8, 9}"
            ]
          },
          "metadata": {},
          "execution_count": 96
        }
      ],
      "source": [
        "set(range(10))"
      ]
    },
    {
      "cell_type": "code",
      "execution_count": 97,
      "metadata": {
        "id": "85kw-dXxr5lg",
        "outputId": "158451fd-7ef1-4c04-dbc5-fcecb8773b9d",
        "colab": {
          "base_uri": "https://localhost:8080/"
        }
      },
      "outputs": [
        {
          "output_type": "stream",
          "name": "stdout",
          "text": [
            "set()\n",
            "{0, 1, 2, 3, 4, 5, 6, 7, 8, 9}\n",
            "set()\n"
          ]
        }
      ],
      "source": [
        "print(set()) # передаем tuple\n",
        "print(set(range(10)))\n",
        "print(set()) # пустое множество"
      ]
    },
    {
      "cell_type": "markdown",
      "metadata": {
        "id": "e27ZfL1vr5lg"
      },
      "source": [
        "\n",
        "Другой способ создать множество - это перечислить его элементы в фигурных скобках (список - в квадратных, кортеж в круглых, а множество - в фигурных)"
      ]
    },
    {
      "cell_type": "code",
      "execution_count": 98,
      "metadata": {
        "id": "Rcwsl1ERr5lg",
        "outputId": "7459ccc3-77ab-4f2f-9bc4-10a87acde7ce",
        "colab": {
          "base_uri": "https://localhost:8080/"
        }
      },
      "outputs": [
        {
          "output_type": "stream",
          "name": "stdout",
          "text": [
            "{2, 3, 5, 7}\n",
            "{'horse', 'cat', 'dog'}\n"
          ]
        }
      ],
      "source": [
        "primes = {2, 3, 5, 7}\n",
        "animals = {\"cat\", \"dog\", \"horse\", 'cat'}\n",
        "\n",
        "print(primes)\n",
        "print(animals)"
      ]
    },
    {
      "cell_type": "code",
      "execution_count": 99,
      "metadata": {
        "id": "uRJuZ-6xr5lh",
        "outputId": "f04c8ee9-9572-426f-f51b-9538454a2721",
        "colab": {
          "base_uri": "https://localhost:8080/"
        }
      },
      "outputs": [
        {
          "output_type": "stream",
          "name": "stdout",
          "text": [
            "{1, 2, 3, 'dog'}\n"
          ]
        }
      ],
      "source": [
        "x = [1,2,3,2,2,2,2,2,2,2,'dog',1]\n",
        "print(set(x))"
      ]
    },
    {
      "cell_type": "markdown",
      "metadata": {
        "id": "3ZcQpIIbr5lh"
      },
      "source": [
        "Кстати, обратите внимание, что множество может состоять только из уникальных объектов. Выше множество animals включает в себя только одну кошку несмотря на то, что в конструктор мы передали 'cat' два раза. Преобразовать в список в множество - самый простой способ узнать количество уникальных объектов.\n",
        "\n",
        "Со множествами работает почти всё, что работает с последовательностями (но не работают индексы, потому что элементы не хранятся упорядоченно)."
      ]
    },
    {
      "cell_type": "code",
      "execution_count": 100,
      "metadata": {
        "id": "ZNqHxAovr5lh",
        "outputId": "bf5d7931-d094-4071-e18c-bda173cf0773",
        "colab": {
          "base_uri": "https://localhost:8080/"
        }
      },
      "outputs": [
        {
          "output_type": "stream",
          "name": "stdout",
          "text": [
            "4\n"
          ]
        }
      ],
      "source": [
        "print(len(primes))"
      ]
    },
    {
      "cell_type": "code",
      "execution_count": 101,
      "metadata": {
        "id": "Q9yF2Fwor5lh",
        "outputId": "681410ea-51cd-4ff8-c8fb-430337c7f9ab",
        "colab": {
          "base_uri": "https://localhost:8080/"
        }
      },
      "outputs": [
        {
          "output_type": "execute_result",
          "data": {
            "text/plain": [
              "True"
            ]
          },
          "metadata": {},
          "execution_count": 101
        }
      ],
      "source": [
        "primes = {1,11,22,34,5}\n",
        "11 in primes"
      ]
    },
    {
      "cell_type": "code",
      "execution_count": 102,
      "metadata": {
        "id": "CWVOUoI-r5lh",
        "outputId": "cd53867b-db14-493a-db88-5c0a07461435",
        "colab": {
          "base_uri": "https://localhost:8080/"
        }
      },
      "outputs": [
        {
          "output_type": "execute_result",
          "data": {
            "text/plain": [
              "False"
            ]
          },
          "metadata": {},
          "execution_count": 102
        }
      ],
      "source": [
        "animals = {\"cat\", \"dog\", \"horse\", 'cat'}\n",
        "\"cow\" in animals"
      ]
    },
    {
      "cell_type": "code",
      "execution_count": 103,
      "metadata": {
        "id": "CbZ2X5NEr5li",
        "outputId": "b880a6e2-a07d-47e3-e926-6a40069669f7",
        "colab": {
          "base_uri": "https://localhost:8080/"
        }
      },
      "outputs": [
        {
          "output_type": "stream",
          "name": "stdout",
          "text": [
            "True\n",
            "False\n"
          ]
        }
      ],
      "source": [
        " # длина\n",
        "print(11 in primes) # проверка на наличие элемента in хорошо и быстро работает для множеств\n",
        "print(\"cow\" in animals)"
      ]
    },
    {
      "cell_type": "markdown",
      "metadata": {
        "id": "RAP7OboEr5li"
      },
      "source": [
        "Все возможные операции с множествами: https://docs.python.org/3/library/stdtypes.html#set-types-set-frozenset\n",
        "\n",
        "Отдельно мы посмотрим на так называемые операции над множествами. Если вы знаете круги Эйлера, то помните как различают объекты множеств - пересечение, объекты, которые принадлежат множеству а, но не принадлежат b и так далее. Давайте посмотрим, как эти операции реализовани в питоне."
      ]
    },
    {
      "cell_type": "markdown",
      "metadata": {
        "id": "Gbf09LeIr5li"
      },
      "source": [
        "### круги Эйлера"
      ]
    },
    {
      "cell_type": "markdown",
      "metadata": {
        "id": "V-wPTdWDr5li"
      },
      "source": [
        "На полке стояло 26 волшебных книг по заклинаниям, все они были прочитаны. Из них 4 прочитал и Гарри Поттер, и Рон. Гермиона прочитала 7 книг, которых не читали ни Гарри Поттер, ни Рон, и две книги, которые читал Гарри Поттер. Всего Гарри Поттер прочитал 11 книг. Сколько книг прочитал только Рон?"
      ]
    },
    {
      "cell_type": "code",
      "execution_count": 104,
      "metadata": {
        "id": "3RxjSSuIr5li"
      },
      "outputs": [],
      "source": [
        "a = {1, 2, 3, 4}\n",
        "b = {3, 4, 5, 6}\n",
        "c = {2, 3}"
      ]
    },
    {
      "cell_type": "code",
      "execution_count": 105,
      "metadata": {
        "id": "YwnYbBtLr5li",
        "outputId": "c6b2bbf9-c91b-4300-d6e6-272b38b32e55",
        "colab": {
          "base_uri": "https://localhost:8080/"
        }
      },
      "outputs": [
        {
          "output_type": "stream",
          "name": "stdout",
          "text": [
            "True\n"
          ]
        }
      ],
      "source": [
        "print(c <= a)"
      ]
    },
    {
      "cell_type": "code",
      "execution_count": 106,
      "metadata": {
        "id": "ItI632v2r5lj",
        "outputId": "fe23ca7f-7983-4acf-c6c6-f2bb97f5528e",
        "colab": {
          "base_uri": "https://localhost:8080/"
        }
      },
      "outputs": [
        {
          "output_type": "stream",
          "name": "stdout",
          "text": [
            "False\n"
          ]
        }
      ],
      "source": [
        "print(c >= a)"
      ]
    },
    {
      "cell_type": "code",
      "execution_count": 107,
      "metadata": {
        "id": "mrotx3Yhr5lj",
        "outputId": "2e7e359b-5263-47df-9e38-148c09774d0c",
        "colab": {
          "base_uri": "https://localhost:8080/"
        }
      },
      "outputs": [
        {
          "output_type": "stream",
          "name": "stdout",
          "text": [
            "{1, 2, 3, 4, 5, 6}\n"
          ]
        }
      ],
      "source": [
        "print(a | b)"
      ]
    },
    {
      "cell_type": "code",
      "execution_count": 108,
      "metadata": {
        "id": "RQWgmPqMr5lj",
        "outputId": "71872f2d-33e8-4c04-ff95-2e3062b97b4b",
        "colab": {
          "base_uri": "https://localhost:8080/"
        }
      },
      "outputs": [
        {
          "output_type": "execute_result",
          "data": {
            "text/plain": [
              "{3, 4}"
            ]
          },
          "metadata": {},
          "execution_count": 108
        }
      ],
      "source": [
        "a.intersection(b)"
      ]
    },
    {
      "cell_type": "code",
      "execution_count": 109,
      "metadata": {
        "id": "mDB2ekXNr5lj",
        "outputId": "76fcc4d4-84e1-40f9-c610-f3d7e6140ba2",
        "colab": {
          "base_uri": "https://localhost:8080/"
        }
      },
      "outputs": [
        {
          "output_type": "execute_result",
          "data": {
            "text/plain": [
              "{1, 2, 3, 4, 5, 6}"
            ]
          },
          "metadata": {},
          "execution_count": 109
        }
      ],
      "source": [
        "a.union(b)"
      ]
    },
    {
      "cell_type": "code",
      "execution_count": 110,
      "metadata": {
        "id": "XqPh75Rhr5lj",
        "outputId": "87cf2acb-fb47-4ea9-82da-6b96d6eefa4b",
        "colab": {
          "base_uri": "https://localhost:8080/"
        }
      },
      "outputs": [
        {
          "output_type": "execute_result",
          "data": {
            "text/plain": [
              "{1, 2, 5, 6}"
            ]
          },
          "metadata": {},
          "execution_count": 110
        }
      ],
      "source": [
        "a^b"
      ]
    },
    {
      "cell_type": "code",
      "execution_count": 111,
      "metadata": {
        "id": "2sCHXIykr5lj",
        "outputId": "000a8139-485f-45bb-d166-6fb5f3198c78",
        "colab": {
          "base_uri": "https://localhost:8080/"
        }
      },
      "outputs": [
        {
          "output_type": "execute_result",
          "data": {
            "text/plain": [
              "{5, 6}"
            ]
          },
          "metadata": {},
          "execution_count": 111
        }
      ],
      "source": [
        "b.difference(a)"
      ]
    },
    {
      "cell_type": "code",
      "execution_count": 112,
      "metadata": {
        "id": "wzy71yfhr5lk",
        "outputId": "bc0d733e-b455-4f8a-f2ca-3929296e50b6",
        "colab": {
          "base_uri": "https://localhost:8080/"
        }
      },
      "outputs": [
        {
          "output_type": "stream",
          "name": "stdout",
          "text": [
            "False\n",
            "True\n",
            "{1, 2, 3, 4, 5, 6}\n",
            "{3, 4}\n",
            "{1, 2}\n",
            "{1, 2, 5, 6}\n",
            "{1, 2, 3, 4}\n"
          ]
        }
      ],
      "source": [
        "a = {1, 2, 3, 4}\n",
        "b = {3, 4, 5, 6}\n",
        "c = {2, 3}\n",
        "\n",
        " # проверка на подмножество (с подномжество a)\n",
        "print(c <= b) # не подмножество, т.к. в b нет 2 \n",
        "print(a >= c) \n",
        "print(a | b) # объединение a.union(b) aka a+b\n",
        "print(a & b) # пересечение a.intersection(b)\n",
        "print(a - b) # разность множеств (все что в a, кроме b) a.difference(b)\n",
        "print(a ^ b) # симметрическая разность множеств (объединение без пересечения) \n",
        "\n",
        "c = a.copy() # копирование множества, или set(a)\n",
        "print(c)"
      ]
    },
    {
      "cell_type": "markdown",
      "metadata": {
        "id": "c7-q7vBSr5lk"
      },
      "source": [
        "## Task #7"
      ]
    },
    {
      "cell_type": "markdown",
      "metadata": {
        "id": "6QSmlG-4r5lk"
      },
      "source": [
        "Write a Python program to find the elements in a given set that are not in another set."
      ]
    },
    {
      "cell_type": "code",
      "execution_count": 192,
      "metadata": {
        "id": "MbtfNZk8r5lk",
        "colab": {
          "base_uri": "https://localhost:8080/"
        },
        "outputId": "446d832a-2679-4a47-e321-b47e1b7d7bec"
      },
      "outputs": [
        {
          "output_type": "stream",
          "name": "stdout",
          "text": [
            "{'window', 'vika'}\n"
          ]
        }
      ],
      "source": [
        "a = {\"cat\", \"dog\", \"horse\", 'fish', 'rat'}\n",
        "b = {'cat', 'vika','window'}\n",
        "\n",
        "print(b - a)"
      ]
    },
    {
      "cell_type": "markdown",
      "metadata": {
        "id": "N4Wr2U2_r5lk"
      },
      "source": [
        "## Task 8"
      ]
    },
    {
      "cell_type": "markdown",
      "metadata": {
        "id": "rM-nEUB0r5lk"
      },
      "source": [
        "Write a Python program to remove the intersection of a 2nd set from the 1st set."
      ]
    },
    {
      "cell_type": "code",
      "execution_count": 113,
      "metadata": {
        "id": "F5vv79bTr5lk",
        "outputId": "9607f449-3d3e-4b15-f0ab-0b0b9be6a1d1",
        "colab": {
          "base_uri": "https://localhost:8080/"
        }
      },
      "outputs": [
        {
          "output_type": "execute_result",
          "data": {
            "text/plain": [
              "{1, 2, 3, 4}"
            ]
          },
          "metadata": {},
          "execution_count": 113
        }
      ],
      "source": [
        "a = {1, 2, 3, 4}\n",
        "c = a.copy()\n",
        "c"
      ]
    },
    {
      "cell_type": "code",
      "execution_count": 114,
      "metadata": {
        "id": "b6cLKw6pr5ll",
        "outputId": "f9cb90c6-1e94-4fe4-df26-39dc56c017fc",
        "colab": {
          "base_uri": "https://localhost:8080/"
        }
      },
      "outputs": [
        {
          "output_type": "stream",
          "name": "stdout",
          "text": [
            "True\n",
            "False\n",
            "True\n"
          ]
        }
      ],
      "source": [
        "print(c.issubset(a)) # c <= a \n",
        "print(c.isdisjoint(a)) # a и c не пересекаются?\n",
        "print(a.issuperset(c)) # a включает в себя с как подмножество"
      ]
    },
    {
      "cell_type": "code",
      "execution_count": 115,
      "metadata": {
        "id": "SrpVcQgCr5ll",
        "outputId": "34b87b9d-0c18-4f40-c7b7-8977d45c55ec",
        "colab": {
          "base_uri": "https://localhost:8080/"
        }
      },
      "outputs": [
        {
          "output_type": "execute_result",
          "data": {
            "text/plain": [
              "{1, 2, 3}"
            ]
          },
          "metadata": {},
          "execution_count": 115
        }
      ],
      "source": [
        "s = {1,2,3}\n",
        "s"
      ]
    },
    {
      "cell_type": "code",
      "execution_count": 116,
      "metadata": {
        "id": "aTOLU6A-r5ll",
        "outputId": "d4de4658-925f-4e74-be83-e2eda06b9476",
        "colab": {
          "base_uri": "https://localhost:8080/"
        }
      },
      "outputs": [
        {
          "output_type": "execute_result",
          "data": {
            "text/plain": [
              "{1, 2, 3, 10}"
            ]
          },
          "metadata": {},
          "execution_count": 116
        }
      ],
      "source": [
        "s.add(10)\n",
        "s"
      ]
    },
    {
      "cell_type": "code",
      "execution_count": 117,
      "metadata": {
        "id": "9cB28M6Qr5ll",
        "outputId": "f355f733-a432-4dd9-b9b8-35a5e8a8285e",
        "colab": {
          "base_uri": "https://localhost:8080/"
        }
      },
      "outputs": [
        {
          "output_type": "execute_result",
          "data": {
            "text/plain": [
              "{1, 2, 3, 10}"
            ]
          },
          "metadata": {},
          "execution_count": 117
        }
      ],
      "source": [
        "s.add(10)\n",
        "s"
      ]
    },
    {
      "cell_type": "code",
      "execution_count": 118,
      "metadata": {
        "id": "tF-hRS5Pr5ll",
        "outputId": "e909ead4-0339-4652-f894-15283cf3499c",
        "colab": {
          "base_uri": "https://localhost:8080/"
        }
      },
      "outputs": [
        {
          "output_type": "execute_result",
          "data": {
            "text/plain": [
              "{1, 2, 3, 10}"
            ]
          },
          "metadata": {},
          "execution_count": 118
        }
      ],
      "source": [
        "s.discard(500)\n",
        "s"
      ]
    },
    {
      "cell_type": "code",
      "execution_count": 119,
      "metadata": {
        "id": "NxvI0mMLr5lm",
        "outputId": "4a362191-7aab-4685-db59-3ccdc3eb4ff4",
        "colab": {
          "base_uri": "https://localhost:8080/"
        }
      },
      "outputs": [
        {
          "output_type": "stream",
          "name": "stdout",
          "text": [
            "{1, 2, 3}\n",
            "10\n"
          ]
        }
      ],
      "source": [
        "x = s.pop()\n",
        "print(s)\n",
        "print(x)"
      ]
    },
    {
      "cell_type": "code",
      "execution_count": 120,
      "metadata": {
        "id": "FRauvJhor5lm",
        "outputId": "49f97f00-07df-4816-c7cb-75649006168c",
        "colab": {
          "base_uri": "https://localhost:8080/"
        }
      },
      "outputs": [
        {
          "output_type": "execute_result",
          "data": {
            "text/plain": [
              "{1, 2, 3}"
            ]
          },
          "metadata": {},
          "execution_count": 120
        }
      ],
      "source": [
        "s"
      ]
    },
    {
      "cell_type": "code",
      "execution_count": 121,
      "metadata": {
        "id": "uBkaoIuGr5lm",
        "outputId": "57f3d089-d2c8-4965-9256-b25923cc7853",
        "colab": {
          "base_uri": "https://localhost:8080/"
        }
      },
      "outputs": [
        {
          "output_type": "execute_result",
          "data": {
            "text/plain": [
              "set()"
            ]
          },
          "metadata": {},
          "execution_count": 121
        }
      ],
      "source": [
        "s.clear()\n",
        "s"
      ]
    },
    {
      "cell_type": "markdown",
      "metadata": {
        "id": "6hp24O4ir5lm"
      },
      "source": [
        "Предыдущие операции не меняли множества, создавали новые. А как менять множество:\n"
      ]
    },
    {
      "cell_type": "code",
      "execution_count": 122,
      "metadata": {
        "id": "gNofmP3Jr5lm",
        "outputId": "d92da463-a9c8-4170-e1df-e0b26d404718",
        "colab": {
          "base_uri": "https://localhost:8080/"
        }
      },
      "outputs": [
        {
          "output_type": "stream",
          "name": "stdout",
          "text": [
            "{10, 1, 2, 3}\n",
            "{10, 2, 3}\n",
            "{2, 3}\n",
            "10\n",
            "set()\n"
          ]
        }
      ],
      "source": [
        "s = {1, 2, 3}\n",
        "s.add(10) # добавить\n",
        "print(s) # обратите внимание, что порядок элементов непредсказуем\n",
        "s.remove(1) # удаление элемента\n",
        "s.discard(1) # аналогично, но не будет ошибки, если вдруг такого элемента нет в множестве\n",
        "print(s)\n",
        "x = s.pop() # удаляет и возвращает один произвольный элемент множества (можем сохранить его в переменную)\n",
        "print(s)\n",
        "print(x)\n",
        "s.clear() # очистить\n",
        "print(s)"
      ]
    },
    {
      "cell_type": "code",
      "execution_count": 123,
      "metadata": {
        "id": "dpkDE17Dr5lm",
        "outputId": "7c9e2a2b-7d67-4140-83da-f0180bb8acf5",
        "colab": {
          "base_uri": "https://localhost:8080/"
        }
      },
      "outputs": [
        {
          "output_type": "execute_result",
          "data": {
            "text/plain": [
              "{1, 2, 10, 20}"
            ]
          },
          "metadata": {},
          "execution_count": 123
        }
      ],
      "source": [
        "s = {1, 2}\n",
        "# s |= {10, 20}\n",
        "s = s|{10, 20}\n",
        "s"
      ]
    },
    {
      "cell_type": "markdown",
      "metadata": {
        "id": "2kTQY6yDr5lm"
      },
      "source": [
        "Как мы сокращали арифметические операции раньше (например, +=), так же можно сокращать операции над множествами."
      ]
    },
    {
      "cell_type": "code",
      "execution_count": 124,
      "metadata": {
        "id": "oNJhg15Vr5ln",
        "outputId": "5f3926d8-a0b9-46e0-938e-492eb1df8ea2",
        "colab": {
          "base_uri": "https://localhost:8080/"
        }
      },
      "outputs": [
        {
          "output_type": "stream",
          "name": "stdout",
          "text": [
            "{1, 2, 20, 10}\n"
          ]
        }
      ],
      "source": [
        "s |= {10, 20} # s = s | {10, 20} # объединение множества s с {10,20}\n",
        "print(s)\n",
        "# s ^=, s &= и т.п."
      ]
    },
    {
      "cell_type": "markdown",
      "metadata": {
        "id": "osf0qVuTr5ln"
      },
      "source": [
        "# Словари (dict)\n",
        "Обычный массив (в питоне это список) можно понимать как функцию, которая сопоставляет начальному отрезку натурального ряда какие-то значения."
      ]
    },
    {
      "cell_type": "markdown",
      "metadata": {
        "id": "7Rbi4YZ0r5ln"
      },
      "source": [
        "Давайте посмотрим на списки непривычным способом. Списки - это функции (отображения), которые отображают начальный ряд натуральных чисел в объекты (проще говоря - преводят число 0,1,2,3... во что-то): "
      ]
    },
    {
      "cell_type": "code",
      "execution_count": 125,
      "metadata": {
        "id": "HhULxBXir5ln",
        "outputId": "2ed8cf95-0006-462c-b665-48a7863ebbbc",
        "colab": {
          "base_uri": "https://localhost:8080/"
        }
      },
      "outputs": [
        {
          "output_type": "stream",
          "name": "stdout",
          "text": [
            "10\n",
            "20\n",
            "30\n",
            "a\n"
          ]
        }
      ],
      "source": [
        "l = [10, 20, 30, 'a']\n",
        "print(l[0])\n",
        "print(l[1])\n",
        "print(l[2])\n",
        "print(l[3])"
      ]
    },
    {
      "cell_type": "markdown",
      "metadata": {
        "id": "St8HqUOkr5ln"
      },
      "source": [
        "В словарях отображать можно не только начала натурального ряда, а произвольные объекты. Представьте себе настоящий словарь или телефонную книжку. Имени человека соответствует номер телефона.\n",
        "\n",
        "Классическое использование словарей в анализе данных: хранить частоту слова в тексте.\n",
        "\n",
        "кот $\\rightarrow$ 10\n",
        "\n",
        "и $\\rightarrow$ 100\n",
        "\n",
        "Тейлора $\\rightarrow$ 2"
      ]
    },
    {
      "cell_type": "markdown",
      "metadata": {
        "id": "MmpvxaPhr5ln"
      },
      "source": [
        "Словарь состоит из набора ключей и соответствующих им значений. Значения могут быть любыми объектами (также как и в списке, хранить можно произвольные объекты). А ключи могут быть почти любыми объектами, но только неизменяемыми. В частности числами, строками, кортежами. Список или множество не могут быть ключом.\n",
        "\n",
        "Одному ключу соответствует ровно одно значение. Но одно и то же значение, в принципе, можно сопоставить разным ключам."
      ]
    },
    {
      "cell_type": "code",
      "execution_count": 126,
      "metadata": {
        "id": "VEGkIq3er5ln",
        "outputId": "90f90d2d-27b8-42b3-e546-df4b7846d927",
        "colab": {
          "base_uri": "https://localhost:8080/"
        }
      },
      "outputs": [
        {
          "output_type": "execute_result",
          "data": {
            "text/plain": [
              "dict"
            ]
          },
          "metadata": {},
          "execution_count": 126
        }
      ],
      "source": [
        "a = dict()\n",
        "type(a)"
      ]
    },
    {
      "cell_type": "code",
      "execution_count": 127,
      "metadata": {
        "id": "AVypt3Ugr5lo",
        "outputId": "a2d3691c-ba15-4f37-e3af-a38bca0317f4",
        "colab": {
          "base_uri": "https://localhost:8080/"
        }
      },
      "outputs": [
        {
          "output_type": "execute_result",
          "data": {
            "text/plain": [
              "{'chapter1': 'ghfdlksgrjkasgdjkagrdjksargs'}"
            ]
          },
          "metadata": {},
          "execution_count": 127
        }
      ],
      "source": [
        "a['chapter1'] = 'ghfdlksgrjkasgdjkagrdjksargs'\n",
        "a"
      ]
    },
    {
      "cell_type": "code",
      "execution_count": 128,
      "metadata": {
        "id": "xLT5oh2_r5lo"
      },
      "outputs": [],
      "source": [
        "a[1] = 'hrjegrejk'\n"
      ]
    },
    {
      "cell_type": "code",
      "execution_count": 129,
      "metadata": {
        "id": "DJTk1HiEr5lo"
      },
      "outputs": [],
      "source": [
        "x = (3,4,5)\n",
        "a[x] = 'hrjekwslerw'"
      ]
    },
    {
      "cell_type": "code",
      "execution_count": 130,
      "metadata": {
        "id": "3LLzgnsCr5lo"
      },
      "outputs": [],
      "source": [
        "x = (1,2,3,'str')\n",
        "a[x] = 'fuidaslt'"
      ]
    },
    {
      "cell_type": "code",
      "execution_count": 131,
      "metadata": {
        "id": "iHDTDuKQr5lo",
        "outputId": "c1500f08-8597-4ef5-8519-b64e5c16c933",
        "colab": {
          "base_uri": "https://localhost:8080/"
        }
      },
      "outputs": [
        {
          "output_type": "execute_result",
          "data": {
            "text/plain": [
              "{'chapter1': 'ghfdlksgrjkasgdjkagrdjksargs',\n",
              " 1: 'hrjegrejk',\n",
              " (3, 4, 5): 'hrjekwslerw',\n",
              " (1, 2, 3, 'str'): 'fuidaslt'}"
            ]
          },
          "metadata": {},
          "execution_count": 131
        }
      ],
      "source": [
        "a"
      ]
    },
    {
      "cell_type": "code",
      "execution_count": 132,
      "metadata": {
        "id": "cTyw7VoTr5lo",
        "outputId": "efcabf15-61be-4535-9310-3bf8eb0efabd",
        "colab": {
          "base_uri": "https://localhost:8080/"
        }
      },
      "outputs": [
        {
          "output_type": "execute_result",
          "data": {
            "text/plain": [
              "{(2, 3): [2, 3]}"
            ]
          },
          "metadata": {},
          "execution_count": 132
        }
      ],
      "source": [
        "a = dict()\n",
        "a[(2,3)] = [2,3] # кортеж может быть ключом, потому что он неизменямый\n",
        "a"
      ]
    },
    {
      "cell_type": "markdown",
      "metadata": {
        "id": "q9kvSlwer5lp"
      },
      "source": [
        "### Создание словаря\n",
        "В фигурных скобках (как множество), через двоеточие ключ:значение"
      ]
    },
    {
      "cell_type": "code",
      "execution_count": 133,
      "metadata": {
        "id": "3Hqu2KQer5lp",
        "outputId": "88b28919-dcdf-44ac-ab83-3656fedad072",
        "colab": {
          "base_uri": "https://localhost:8080/"
        }
      },
      "outputs": [
        {
          "output_type": "execute_result",
          "data": {
            "text/plain": [
              "{}"
            ]
          },
          "metadata": {},
          "execution_count": 133
        }
      ],
      "source": [
        "d = dict()\n",
        "d"
      ]
    },
    {
      "cell_type": "code",
      "execution_count": 134,
      "metadata": {
        "id": "0GQAG4yfr5lp",
        "outputId": "5286e349-1f80-4fbc-bdf5-4ff17adfc0f5",
        "colab": {
          "base_uri": "https://localhost:8080/"
        }
      },
      "outputs": [
        {
          "output_type": "stream",
          "name": "stdout",
          "text": [
            "{'кот': 10, 'и': 100, 'Тейлора': 2}\n"
          ]
        }
      ],
      "source": [
        "d1 = {\"кот\": 10, \"и\": 100, \"Тейлора\": 2}\n",
        "print(d1)"
      ]
    },
    {
      "cell_type": "code",
      "execution_count": 135,
      "metadata": {
        "id": "QrjAaFlYr5lp",
        "outputId": "3ce2663d-5e3e-4f38-81b6-c62495b0856d",
        "colab": {
          "base_uri": "https://localhost:8080/"
        }
      },
      "outputs": [
        {
          "output_type": "execute_result",
          "data": {
            "text/plain": [
              "10"
            ]
          },
          "metadata": {},
          "execution_count": 135
        }
      ],
      "source": [
        "d1[\"кот\"]"
      ]
    },
    {
      "cell_type": "markdown",
      "metadata": {
        "id": "7T_GA86Br5lp"
      },
      "source": [
        "Через функцию dict(). Обратите внимание, что тогда ключ-значение задаются не через двоеточие, а через знак присваивания. А строковые ключи пишем без кавычек - по сути мы создаем переменные с такими названиями и присваиваим им значения (а потом функция dict() уже превратит их в строки)."
      ]
    },
    {
      "cell_type": "code",
      "execution_count": 136,
      "metadata": {
        "id": "fJ-f2vSHr5lp",
        "outputId": "e30f0108-bd94-4aa8-8dde-c2cea4d9f56e",
        "colab": {
          "base_uri": "https://localhost:8080/"
        }
      },
      "outputs": [
        {
          "output_type": "stream",
          "name": "stdout",
          "text": [
            "{'кот': 10, 'и': 100, 'Тейлора': 2}\n"
          ]
        }
      ],
      "source": [
        "d2 = dict(кот=10, и=100, Тейлора=2)\n",
        "print(d2) # получили тот же результат, что выше"
      ]
    },
    {
      "cell_type": "markdown",
      "metadata": {
        "id": "TsnJNMHjr5lp"
      },
      "source": [
        "И третий способ - передаем функции dict() список списков или кортежей с парами ключ-значение."
      ]
    },
    {
      "cell_type": "code",
      "execution_count": 137,
      "metadata": {
        "id": "Y_Rfxf1Tr5lq",
        "outputId": "c49bab10-978e-44fa-df47-d00abeadad37",
        "colab": {
          "base_uri": "https://localhost:8080/"
        }
      },
      "outputs": [
        {
          "output_type": "stream",
          "name": "stdout",
          "text": [
            "{'кот': 10, 'и': 100, 'Тейлора': 2}\n"
          ]
        }
      ],
      "source": [
        "d3 = dict([(\"кот\", 10), (\"и\", 100), (\"Тейлора\", 2)]) # перечисление (например, список) tuple\n",
        "print(d3)"
      ]
    },
    {
      "cell_type": "markdown",
      "metadata": {
        "id": "b27AkKPkr5lq"
      },
      "source": [
        "Помните, когда мы говорили про списки, мы обсуждали проблему того, что важно создавать именно копию объекта, чтобы сохранять исходный список. Копию словаря можно сделать так"
      ]
    },
    {
      "cell_type": "code",
      "execution_count": 138,
      "metadata": {
        "id": "tJF8gR-9r5lq",
        "outputId": "6b1e13c0-b032-4fe6-f652-5c59a6ad1b24",
        "colab": {
          "base_uri": "https://localhost:8080/"
        }
      },
      "outputs": [
        {
          "output_type": "stream",
          "name": "stdout",
          "text": [
            "{'кот': 10, 'и': 100, 'Тейлора': 2}\n"
          ]
        }
      ],
      "source": [
        "d4 = dict(d3) # фактически, копируем dict который строчкой выше\n",
        "print(d4)"
      ]
    },
    {
      "cell_type": "code",
      "execution_count": 139,
      "metadata": {
        "id": "ooQffBJCr5lq",
        "outputId": "50fe7abc-76cf-4ea9-d4ac-d5d912a7830e",
        "colab": {
          "base_uri": "https://localhost:8080/"
        }
      },
      "outputs": [
        {
          "output_type": "execute_result",
          "data": {
            "text/plain": [
              "True"
            ]
          },
          "metadata": {},
          "execution_count": 139
        }
      ],
      "source": [
        "d1 == d2 == d3 == d4 # Содержание всех словарей одинаковое"
      ]
    },
    {
      "cell_type": "markdown",
      "metadata": {
        "id": "yIzGzumpr5lq"
      },
      "source": [
        "Пустой словарь можно создать двумя способами."
      ]
    },
    {
      "cell_type": "code",
      "execution_count": 140,
      "metadata": {
        "id": "Tm1xe712r5lq",
        "outputId": "0966cf38-ebc1-477d-c886-4a630f6f2251",
        "colab": {
          "base_uri": "https://localhost:8080/"
        }
      },
      "outputs": [
        {
          "output_type": "stream",
          "name": "stdout",
          "text": [
            "{} {}\n"
          ]
        }
      ],
      "source": [
        "d2 = {} # это пустой словарь (но не пустое множество)\n",
        "d4 = dict()\n",
        "print(d2, d4)"
      ]
    },
    {
      "cell_type": "code",
      "execution_count": 141,
      "metadata": {
        "id": "tFL4NbxWr5lq",
        "outputId": "8398b89a-2b39-402b-ba7f-89386abfdd1c",
        "colab": {
          "base_uri": "https://localhost:8080/"
        }
      },
      "outputs": [
        {
          "output_type": "execute_result",
          "data": {
            "text/plain": [
              "dict"
            ]
          },
          "metadata": {},
          "execution_count": 141
        }
      ],
      "source": [
        "x = {}\n",
        "type(x)"
      ]
    },
    {
      "cell_type": "markdown",
      "metadata": {
        "id": "Pdxn6VZcr5lr"
      },
      "source": [
        "## Task #9"
      ]
    },
    {
      "cell_type": "markdown",
      "metadata": {
        "id": "lLW8cEZYr5lr"
      },
      "source": [
        "Access the value of key ‘history’ from the below"
      ]
    },
    {
      "cell_type": "code",
      "execution_count": 196,
      "metadata": {
        "id": "wSEf3lVfr5lr"
      },
      "outputs": [],
      "source": [
        "sampleDict = { \n",
        "   \"class\":{ \n",
        "      \"student\":{ \n",
        "         \"name\":\"Mike\",\n",
        "         \"marks\":{ \n",
        "            \"physics\":70,\n",
        "            \"history\":80\n",
        "         }\n",
        "      }\n",
        "   }\n",
        "}"
      ]
    },
    {
      "cell_type": "markdown",
      "metadata": {
        "id": "ZOzuyez_r5lr"
      },
      "source": [
        "## Task #10"
      ]
    },
    {
      "cell_type": "markdown",
      "metadata": {
        "id": "SIz1eFzxr5lr"
      },
      "source": [
        "Write a Python program to convert a tuple to a dictionary.\n",
        "\n",
        "Input: `[(0, 1), (1, 2), (2, 3)]`\n",
        "\n",
        "Output: `{0: 1, 1: 2, 2: 3}`"
      ]
    },
    {
      "cell_type": "markdown",
      "metadata": {
        "id": "xsNol7Fpr5lr"
      },
      "source": [
        "## Task 11"
      ]
    },
    {
      "cell_type": "markdown",
      "metadata": {
        "id": "iwlCFF9hr5lr"
      },
      "source": [
        "Delete set of keys from a dictionary"
      ]
    },
    {
      "cell_type": "code",
      "execution_count": 143,
      "metadata": {
        "id": "V6oZTe-hr5lr"
      },
      "outputs": [],
      "source": [
        "sampleDict = {\n",
        "  \"name\": \"Kelly\",\n",
        "  \"age\":25,\n",
        "  \"salary\": 8000,\n",
        "  \"city\": \"New york\"\n",
        "  \n",
        "}\n",
        "keysToRemove = [\"name\", \"salary\"]"
      ]
    },
    {
      "cell_type": "code",
      "execution_count": 143,
      "metadata": {
        "id": "m5yA0wYvr5ls"
      },
      "outputs": [],
      "source": []
    },
    {
      "cell_type": "markdown",
      "metadata": {
        "id": "3fGM6GOYr5ls"
      },
      "source": [
        "### Операции со словарями"
      ]
    },
    {
      "cell_type": "markdown",
      "metadata": {
        "id": "zJbvSuNkr5ls"
      },
      "source": [
        "Как мы уже говорили, словари неупорядоченные структуры и обратиться по индексу к объекту уже больше не удастся."
      ]
    },
    {
      "cell_type": "code",
      "execution_count": 144,
      "metadata": {
        "id": "wFnI_3vtr5ls"
      },
      "outputs": [],
      "source": [
        "#d1[1] # выдаст ошибку во всех случах кроме того, если в вашем словаре вдруг есть ключ 1"
      ]
    },
    {
      "cell_type": "markdown",
      "metadata": {
        "id": "W5gFDjF2r5ls"
      },
      "source": [
        "Но можно обращаться к значению по ключу."
      ]
    },
    {
      "cell_type": "code",
      "execution_count": 145,
      "metadata": {
        "id": "R2tUOObHr5ls",
        "outputId": "d45ab6c7-6b19-4119-ead2-c8af85a61b95",
        "colab": {
          "base_uri": "https://localhost:8080/"
        }
      },
      "outputs": [
        {
          "output_type": "stream",
          "name": "stdout",
          "text": [
            "10\n"
          ]
        }
      ],
      "source": [
        "d3 = dict([(\"кот\", 10), (\"и\", 100), (\"Тейлора\", 2)])\n",
        "print(d1['кот'])"
      ]
    },
    {
      "cell_type": "markdown",
      "metadata": {
        "id": "OAR3hp-Hr5ls"
      },
      "source": [
        "Можно создать новую пару ключ-значение. Для этого просто указываем в квадратных скобках название нового ключа."
      ]
    },
    {
      "cell_type": "code",
      "execution_count": 146,
      "metadata": {
        "id": "sw6IGFFer5lt",
        "outputId": "a604abf5-9b2c-4166-87e0-fdc739686b9b",
        "colab": {
          "base_uri": "https://localhost:8080/"
        }
      },
      "outputs": [
        {
          "output_type": "stream",
          "name": "stdout",
          "text": [
            "test\n"
          ]
        }
      ],
      "source": [
        "d1[1] = 'test'\n",
        "print(d1[1]) # теперь работает!"
      ]
    },
    {
      "cell_type": "markdown",
      "metadata": {
        "id": "LRoGuRdjr5lt"
      },
      "source": [
        "Внимание: если элемент с указанным ключом уже существует, новый с таким же ключом не добавится! Ключ – это уникальный идентификатор элемента. Если мы добавим в словарь новый элемент с уже существующим ключом, мы просто изменим старый – словари являются изменяемыми объектами. "
      ]
    },
    {
      "cell_type": "code",
      "execution_count": 147,
      "metadata": {
        "id": "tfYcxfLVr5lt",
        "outputId": "09fef0a0-50d9-4883-c9fb-753c76c4560b",
        "colab": {
          "base_uri": "https://localhost:8080/"
        }
      },
      "outputs": [
        {
          "output_type": "execute_result",
          "data": {
            "text/plain": [
              "{'кот': 11, 'и': 100, 'Тейлора': 2, 1: 'test'}"
            ]
          },
          "metadata": {},
          "execution_count": 147
        }
      ],
      "source": [
        "d3 = dict([(\"кот\", 10), (\"и\", 100), (\"Тейлора\", 2)])\n",
        "d1[\"кот\"] = 11 # так же как в списке по индексу - можно присвоить новое значение по ключу\n",
        "d1"
      ]
    },
    {
      "cell_type": "code",
      "execution_count": 148,
      "metadata": {
        "id": "C5IDHlOrr5lt",
        "outputId": "63c182e5-4450-4f63-a514-f7cc0cf2d805",
        "colab": {
          "base_uri": "https://localhost:8080/"
        }
      },
      "outputs": [
        {
          "output_type": "execute_result",
          "data": {
            "text/plain": [
              "{'кот': 12, 'и': 100, 'Тейлора': 2, 1: 'test'}"
            ]
          },
          "metadata": {},
          "execution_count": 148
        }
      ],
      "source": [
        "d1[\"кот\"] += 1 # или даже изменить его за счет арифметической операции\n",
        "d1"
      ]
    },
    {
      "cell_type": "markdown",
      "metadata": {
        "id": "j7S42X2Jr5lt"
      },
      "source": [
        "А вот одинаковые значения в словаре могут быть."
      ]
    },
    {
      "cell_type": "code",
      "execution_count": 149,
      "metadata": {
        "id": "6yyOneM7r5lt",
        "outputId": "f8b858bc-19e3-41eb-f7d8-d22ba516312f",
        "colab": {
          "base_uri": "https://localhost:8080/"
        }
      },
      "outputs": [
        {
          "output_type": "stream",
          "name": "stdout",
          "text": [
            "{'кот': 12, 'и': 100, 'Тейлора': 2, 1: 'test', 'собака': 13}\n"
          ]
        }
      ],
      "source": [
        "d1['собака'] = 13\n",
        "print(d1)"
      ]
    },
    {
      "cell_type": "markdown",
      "metadata": {
        "id": "SCiYMM1ur5lt"
      },
      "source": [
        "## Task 12"
      ]
    },
    {
      "cell_type": "markdown",
      "metadata": {
        "id": "t7rIrdkhr5lu"
      },
      "source": [
        "Count frequency for each word in a given text"
      ]
    },
    {
      "cell_type": "code",
      "execution_count": 150,
      "metadata": {
        "id": "1rgNRSDxr5lu"
      },
      "outputs": [],
      "source": [
        "text = \"\"\"the outbreak of coronavirus disease 2019 ( COVID - 19 ) has created a global health crisis that has had a deep impact on the way we perceive our world and our everyday lives . Not only the rate of contagion and patterns of transmission threatens our sense of agency , but the safety measures put in place to contain the spread of the virus also require social distancing by refraining from doing what is inherently human , which is to find solace in the company of others . Within this context of physical threat , social and physical distancing , as well as public alarm , what has been ( and can be ) the role of the different mass media channels in our lives on individual , social and societal levels ? Mass media have long been recognized as powerful forces shaping how we experience the world and ourselves . This recognition is accompanied by a growing volume of research , that closely follows the footsteps of technological transformations ( e . g . radio , movies , television , the internet , mobiles ) and the zeitgeist ( e . g . cold war , 9 / 11 , climate change ) in an attempt to map mass media major impacts on how we perceive ourselves , both as individuals and citizens . Are media ( broadcast and digital ) still able to convey a sense of unity reaching large audiences , or are messages lost in the noisy crowd of mass self - communication ?\"\"\""
      ]
    },
    {
      "cell_type": "code",
      "execution_count": 150,
      "metadata": {
        "id": "_FY_ht0Gr5lu"
      },
      "outputs": [],
      "source": []
    },
    {
      "cell_type": "markdown",
      "metadata": {
        "id": "25a8pdE-r5lu"
      },
      "source": [
        "Кроме обращения по ключу, можно достать значение с помощью метода .get(). Отличие работы метода в том, что если ключа еще нет в словаре, он не генерирует ошибку, а возвращает объект типа None (\"ничего\"). Это очень полезно в решении некоторых задач. "
      ]
    },
    {
      "cell_type": "code",
      "execution_count": 151,
      "metadata": {
        "id": "4fx17Uofr5lu",
        "outputId": "2476fe8a-cd13-4f1a-bf79-e6c9eefc2ba4",
        "colab": {
          "base_uri": "https://localhost:8080/"
        }
      },
      "outputs": [
        {
          "output_type": "execute_result",
          "data": {
            "text/plain": [
              "{'кот': 12, 'и': 100, 'Тейлора': 2, 1: 'test', 'собака': 13}"
            ]
          },
          "metadata": {},
          "execution_count": 151
        }
      ],
      "source": [
        "d1"
      ]
    },
    {
      "cell_type": "code",
      "execution_count": 152,
      "metadata": {
        "id": "ovLT8Da8r5lu",
        "outputId": "9afd301b-f9ce-4eb3-bcae-ac2b1ef06b6b",
        "colab": {
          "base_uri": "https://localhost:8080/"
        }
      },
      "outputs": [
        {
          "output_type": "stream",
          "name": "stdout",
          "text": [
            "12\n"
          ]
        }
      ],
      "source": [
        "print(d1['кот'])"
      ]
    },
    {
      "cell_type": "code",
      "execution_count": 153,
      "metadata": {
        "id": "TlgJ5GAtr5lu",
        "outputId": "276edca7-71fc-4640-8a9f-153cfb8757a0",
        "colab": {
          "base_uri": "https://localhost:8080/"
        }
      },
      "outputs": [
        {
          "output_type": "stream",
          "name": "stdout",
          "text": [
            "None\n"
          ]
        }
      ],
      "source": [
        "print(d1.get(\"ктоо\")) # вернут None\n"
      ]
    },
    {
      "cell_type": "markdown",
      "metadata": {
        "id": "tqqDyqxTr5lu"
      },
      "source": [
        "Удобство метода .get() заключается в том, что мы сами можем установить, какое значение будет возвращено, в случае, если пары с выбранным ключом нет в словаре. Так, вместо None мы можем вернуть строку Not found, и ломаться ничего не будет:"
      ]
    },
    {
      "cell_type": "code",
      "execution_count": 154,
      "metadata": {
        "id": "DYeZPD5jr5lv",
        "outputId": "2a7ea3aa-5f8e-4f74-fb7a-da945378b7a7",
        "colab": {
          "base_uri": "https://localhost:8080/"
        }
      },
      "outputs": [
        {
          "output_type": "stream",
          "name": "stdout",
          "text": [
            "Not found\n",
            "False\n"
          ]
        }
      ],
      "source": [
        "print(d1.get(\"ктоо\", 'Not found')) # передаем вторым аргументом, что возвращать\n",
        "print(d1.get(\"ктоо\", False)) # передаем вторым аргументом, что возвращать"
      ]
    },
    {
      "cell_type": "markdown",
      "metadata": {
        "id": "qd5svSsFr5lv"
      },
      "source": [
        "Также со словарями работают уже знакомые нам операции - проверка количества элементов, проверка на наличие объектов."
      ]
    },
    {
      "cell_type": "code",
      "execution_count": 155,
      "metadata": {
        "id": "32_4zSjEr5lv",
        "outputId": "133eefa2-0a0d-479f-bfb0-5af45146dd3e",
        "colab": {
          "base_uri": "https://localhost:8080/"
        }
      },
      "outputs": [
        {
          "output_type": "execute_result",
          "data": {
            "text/plain": [
              "{'кот': 12, 'и': 100, 'Тейлора': 2, 1: 'test', 'собака': 13}"
            ]
          },
          "metadata": {},
          "execution_count": 155
        }
      ],
      "source": [
        "d1"
      ]
    },
    {
      "cell_type": "code",
      "execution_count": 156,
      "metadata": {
        "id": "zyJtRVFcr5lv",
        "outputId": "b80e0d78-9b3d-470a-9494-907f316b6b94",
        "colab": {
          "base_uri": "https://localhost:8080/"
        }
      },
      "outputs": [
        {
          "output_type": "stream",
          "name": "stdout",
          "text": [
            "{'кот': 12, 'и': 100, 'Тейлора': 2, 1: 'test', 'собака': 13}\n",
            "True\n",
            "True\n"
          ]
        }
      ],
      "source": [
        "print(d1)\n",
        "print(\"кот\" in d1) # проверка на наличие ключа\n",
        "print(\"ктоо\" not in d1) # проверка на отстуствие ключа\n"
      ]
    },
    {
      "cell_type": "markdown",
      "metadata": {
        "id": "Jgo8wEUkr5lv"
      },
      "source": [
        "Удалить отдельный ключ или же очистить весь словарь можно специальными операциями."
      ]
    },
    {
      "cell_type": "code",
      "execution_count": 157,
      "metadata": {
        "id": "wdN5tyTer5lv"
      },
      "outputs": [],
      "source": [
        "del d1[\"кот\"]"
      ]
    },
    {
      "cell_type": "code",
      "execution_count": 158,
      "metadata": {
        "id": "jKfp3VXZr5lv",
        "outputId": "73315df0-7e4f-40e3-cc48-40e7d735f6bb",
        "colab": {
          "base_uri": "https://localhost:8080/"
        }
      },
      "outputs": [
        {
          "output_type": "execute_result",
          "data": {
            "text/plain": [
              "{'и': 100, 'Тейлора': 2, 1: 'test', 'собака': 13}"
            ]
          },
          "metadata": {},
          "execution_count": 158
        }
      ],
      "source": [
        "d1"
      ]
    },
    {
      "cell_type": "code",
      "execution_count": 159,
      "metadata": {
        "id": "TJKvQksfr5lw",
        "outputId": "088c45b2-78ea-412b-8e37-04f57a214480",
        "colab": {
          "base_uri": "https://localhost:8080/"
        }
      },
      "outputs": [
        {
          "output_type": "execute_result",
          "data": {
            "text/plain": [
              "{}"
            ]
          },
          "metadata": {},
          "execution_count": 159
        }
      ],
      "source": [
        "d1.clear()\n",
        "d1"
      ]
    },
    {
      "cell_type": "code",
      "execution_count": 160,
      "metadata": {
        "id": "fqyMh1lXr5lw"
      },
      "outputs": [],
      "source": [
        "d1 = dict([(\"кот\", 10), (\"и\", 10), (\"Тейлора\", 2)])"
      ]
    },
    {
      "cell_type": "markdown",
      "metadata": {
        "id": "8lZhadrir5lw"
      },
      "source": [
        "У словарей есть три метода, с помощью которых мы можем сгенерировать список только ключей, только значений и список пар ключ-значения (на самом деле там несколько другая структура, но ведет себя она очень похоже на список)."
      ]
    },
    {
      "cell_type": "code",
      "execution_count": 161,
      "metadata": {
        "id": "moZz7pT4r5lw",
        "outputId": "d35a8537-60dd-4322-c7ab-c02c54079f48",
        "colab": {
          "base_uri": "https://localhost:8080/"
        }
      },
      "outputs": [
        {
          "output_type": "stream",
          "name": "stdout",
          "text": [
            "dict_values([10, 10, 2])\n",
            "dict_keys(['кот', 'и', 'Тейлора'])\n",
            "dict_items([('кот', 10), ('и', 10), ('Тейлора', 2)])\n"
          ]
        }
      ],
      "source": [
        "print(d1.values()) # только значения\n",
        "print(d1.keys()) # только ключи\n",
        "print(d1.items()) # только ключ-значение"
      ]
    },
    {
      "cell_type": "markdown",
      "metadata": {
        "id": "F-noLU8Qr5lw"
      },
      "source": [
        "Ну, и раз уж питоновские словари так похожи на обычные, давайте представим, что у нас есть словарь, где все слова многозначные. Ключом будет слово, а значением ‒ целый список. "
      ]
    },
    {
      "cell_type": "code",
      "execution_count": 162,
      "metadata": {
        "id": "1sNsmVHHr5lx"
      },
      "outputs": [],
      "source": [
        "my_dict = {'swear' : {'swear' : ['клясться', 'ругаться'], 'dream' : ['спать', 'мечтать']}, 'dream' : ['спать', 'мечтать']}"
      ]
    },
    {
      "cell_type": "markdown",
      "metadata": {
        "id": "qUVmfnyKr5lx"
      },
      "source": [
        "По ключу мы получим значение в виде списка:"
      ]
    },
    {
      "cell_type": "code",
      "execution_count": 163,
      "metadata": {
        "id": "5pMIcMp2r5lx",
        "outputId": "3a229769-8e2a-450f-970d-8e5661c6aac2",
        "colab": {
          "base_uri": "https://localhost:8080/",
          "height": 35
        }
      },
      "outputs": [
        {
          "output_type": "execute_result",
          "data": {
            "text/plain": [
              "'клясться'"
            ],
            "application/vnd.google.colaboratory.intrinsic+json": {
              "type": "string"
            }
          },
          "metadata": {},
          "execution_count": 163
        }
      ],
      "source": [
        "my_dict['swear']['swear'][0]"
      ]
    },
    {
      "cell_type": "markdown",
      "metadata": {
        "id": "s4NOwmU1r5lx"
      },
      "source": [
        "Так как значением является список, можем отдельно обращаться к его элементам:"
      ]
    },
    {
      "cell_type": "markdown",
      "metadata": {
        "id": "ifqONFYvr5lx"
      },
      "source": [
        "Можем пойти дальше и создать словарь, где значениями являются словари! Например, представим, что в некотором сообществе проходят выборы, и каждый участник может проголосовать за любое число кандидатов. Данные сохраняются в виде словаря, где ключами являются имена пользователей, а значениями – пары *кандидат-голос*."
      ]
    },
    {
      "cell_type": "code",
      "execution_count": 164,
      "metadata": {
        "id": "9j0Hg_wUr5lx"
      },
      "outputs": [],
      "source": [
        "votes = {'user1': {'cand1': '+', 'cand2': '-'},\n",
        "         'user2' : {'cand1': 0, 'cand3' : '+'}} # '+' - за, '-' - против, 0 - воздержался"
      ]
    },
    {
      "cell_type": "code",
      "execution_count": 165,
      "metadata": {
        "id": "FD5M5Yv3r5lx",
        "outputId": "d3ee1205-1474-497e-d29e-95be2e94e86a",
        "colab": {
          "base_uri": "https://localhost:8080/"
        }
      },
      "outputs": [
        {
          "output_type": "execute_result",
          "data": {
            "text/plain": [
              "{'user1': {'cand1': '+', 'cand2': '-'}, 'user2': {'cand1': 0, 'cand3': '+'}}"
            ]
          },
          "metadata": {},
          "execution_count": 165
        }
      ],
      "source": [
        "votes"
      ]
    },
    {
      "cell_type": "markdown",
      "metadata": {
        "id": "F-ghuwhkr5ly"
      },
      "source": [
        "По аналогии с вложенными списками по ключам мы сможем обратиться к значению в словаре, который сам является значением в `votes` (да, эту фразу нужно осмыслить):"
      ]
    },
    {
      "cell_type": "code",
      "execution_count": 166,
      "metadata": {
        "id": "VoDufToKr5ly",
        "outputId": "b59ceab6-dc7b-4356-e402-ba99172ae18a",
        "colab": {
          "base_uri": "https://localhost:8080/",
          "height": 35
        }
      },
      "outputs": [
        {
          "output_type": "execute_result",
          "data": {
            "text/plain": [
              "'+'"
            ],
            "application/vnd.google.colaboratory.intrinsic+json": {
              "type": "string"
            }
          },
          "metadata": {},
          "execution_count": 166
        }
      ],
      "source": [
        "votes['user1']['cand1'] # берем значение, соответствующее ключу user1, в нем – ключу cand1"
      ]
    },
    {
      "cell_type": "code",
      "execution_count": 167,
      "metadata": {
        "id": "nwY7LoASr5ly",
        "outputId": "03407041-72cf-4120-fa59-f1f2cb16fd11",
        "colab": {
          "base_uri": "https://localhost:8080/"
        }
      },
      "outputs": [
        {
          "output_type": "stream",
          "name": "stdout",
          "text": [
            "{'a': 1, 'b': 2, 'c': 3, 'd': 4}\n"
          ]
        }
      ],
      "source": [
        "dict1 = {'a': 1, 'b': 2}\n",
        "dict2 = {'c': 3, 'd': 4}\n",
        "dict3 = dict1.copy()\n",
        "dict3.update(dict2)\n",
        "print(dict3)"
      ]
    },
    {
      "cell_type": "code",
      "execution_count": 168,
      "metadata": {
        "id": "DhX9AH3Vr5ly",
        "outputId": "a620f79d-60e3-4a79-a5ea-2cd5b1fbce72",
        "colab": {
          "base_uri": "https://localhost:8080/"
        }
      },
      "outputs": [
        {
          "output_type": "stream",
          "name": "stdout",
          "text": [
            "{'a': 1, 'b': 2, 'c': 3, 'd': 4}\n"
          ]
        }
      ],
      "source": [
        "dict1 = {'a': 1, 'b': 2}\n",
        "dict2 = {'c': 3, 'd': 4}\n",
        "dict3 = {**dict1, **dict2}\n",
        "print(dict3) "
      ]
    },
    {
      "cell_type": "markdown",
      "metadata": {
        "id": "gvpRry8Ur5ly"
      },
      "source": [
        "Через занятие мы с вами начнем работать с условными операторами и циклом for, и тогда мы поговорим об особенностях обращения к значениям в цикле и сортировок словарей."
      ]
    },
    {
      "cell_type": "markdown",
      "metadata": {
        "id": "MPspOjT9r5ly"
      },
      "source": [
        "# Home tasks"
      ]
    },
    {
      "cell_type": "markdown",
      "metadata": {
        "id": "D6B4L7DUr5ly"
      },
      "source": [
        "## Task #1"
      ]
    },
    {
      "cell_type": "markdown",
      "metadata": {
        "id": "RJorbZ9er5lz"
      },
      "source": [
        "Write a program to use the loop to find the factorial of a given number.\n",
        "\n",
        "The factorial (symbol: `!`) means to multiply all whole numbers from the chosen number down to `1`.\n",
        "\n",
        "For example: calculate the factorial of `5`\n",
        "\n",
        "`5! = 5 × 4 × 3 × 2 × 1 = 120`"
      ]
    },
    {
      "cell_type": "code",
      "source": [
        "n = 5\n",
        "a = 1\n",
        "for i in range(n, 1, -1):\n",
        "    a *= i\n",
        "a"
      ],
      "metadata": {
        "colab": {
          "base_uri": "https://localhost:8080/"
        },
        "id": "_vjvghrjFS3p",
        "outputId": "118912e7-47b7-492d-80e3-c594a36ea2a1"
      },
      "execution_count": 197,
      "outputs": [
        {
          "output_type": "execute_result",
          "data": {
            "text/plain": [
              "120"
            ]
          },
          "metadata": {},
          "execution_count": 197
        }
      ]
    },
    {
      "cell_type": "markdown",
      "metadata": {
        "id": "AcdMqcCtr5lz"
      },
      "source": [
        "## Task #2"
      ]
    },
    {
      "cell_type": "markdown",
      "metadata": {
        "id": "bW-FOKpZr5lz"
      },
      "source": [
        "Write a program to calculate the sum of series up to n term. For example, if `n = 5` the series will become `2 + 22 + 222 + 2222 + 22222 = 24690`"
      ]
    },
    {
      "cell_type": "code",
      "execution_count": 200,
      "metadata": {
        "id": "fNuVaf4ir5lz",
        "colab": {
          "base_uri": "https://localhost:8080/"
        },
        "outputId": "1779ae1c-dbaa-45d9-8fea-1bd8c1c9b951"
      },
      "outputs": [
        {
          "output_type": "execute_result",
          "data": {
            "text/plain": [
              "24690"
            ]
          },
          "metadata": {},
          "execution_count": 200
        }
      ],
      "source": [
        "n = 5\n",
        "a = 0\n",
        "numb = 2\n",
        "for i in range(n):\n",
        "    a += int(str(numb)*(i+1))\n",
        "a"
      ]
    }
  ],
  "metadata": {
    "kernelspec": {
      "display_name": "Python 3",
      "language": "python",
      "name": "python3"
    },
    "language_info": {
      "codemirror_mode": {
        "name": "ipython",
        "version": 3
      },
      "file_extension": ".py",
      "mimetype": "text/x-python",
      "name": "python",
      "nbconvert_exporter": "python",
      "pygments_lexer": "ipython3",
      "version": "3.8.8"
    },
    "colab": {
      "provenance": []
    }
  },
  "nbformat": 4,
  "nbformat_minor": 0
}
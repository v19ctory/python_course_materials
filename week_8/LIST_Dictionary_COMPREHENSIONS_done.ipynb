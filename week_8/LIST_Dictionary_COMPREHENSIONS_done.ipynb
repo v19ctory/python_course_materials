{
  "cells": [
    {
      "cell_type": "markdown",
      "id": "165e4ee4",
      "metadata": {
        "id": "165e4ee4"
      },
      "source": [
        "## LIST COMPREHENSIONS\n"
      ]
    },
    {
      "cell_type": "markdown",
      "id": "cbfdeafd",
      "metadata": {
        "id": "cbfdeafd"
      },
      "source": [
        "List comprehensions are a unique way to create lists in Python. A list comprehension consists of brackets containing an expression followed by a for clause, then zero or more for or if clauses. The expressions can be any kind of Python object. List comprehensions will commonly take the form of <value> for <vars> in <iter>.\n",
        "\n",
        "A simple case: Say we want to turn a list of strings into a list of string lengths. We could do this with a for loop:"
      ]
    },
    {
      "cell_type": "code",
      "execution_count": 1,
      "id": "0d9440ba",
      "metadata": {
        "id": "0d9440ba",
        "outputId": "7b718c97-ea63-4059-971f-ae1b6722868c",
        "colab": {
          "base_uri": "https://localhost:8080/"
        }
      },
      "outputs": [
        {
          "output_type": "stream",
          "name": "stdout",
          "text": [
            "[4, 3, 4, 5]\n"
          ]
        }
      ],
      "source": [
        ">>> names = [\"Nina\", \"Max\", \"Rose\", \"Jimmy\"]\n",
        ">>> my_list = [] # empty list\n",
        ">>> for name in names:\n",
        "...     my_list.append(len(name))\n",
        "...\n",
        ">>> print(my_list)\n"
      ]
    },
    {
      "cell_type": "markdown",
      "id": "7c8d8b14",
      "metadata": {
        "id": "7c8d8b14"
      },
      "source": [
        "We can do this much easier with a list comprehension:"
      ]
    },
    {
      "cell_type": "code",
      "execution_count": 2,
      "id": "e39ac6b6",
      "metadata": {
        "id": "e39ac6b6",
        "outputId": "fbc48834-2af0-4369-e09e-0386c07062a4",
        "colab": {
          "base_uri": "https://localhost:8080/"
        }
      },
      "outputs": [
        {
          "output_type": "stream",
          "name": "stdout",
          "text": [
            "[4, 3, 4, 5]\n"
          ]
        }
      ],
      "source": [
        ">>> names = [\"Nina\", \"Max\", \"Rose\", \"Jimmy\"]\n",
        ">>> my_list = [len(name) for name in names]\n",
        ">>> print(my_list)\n"
      ]
    },
    {
      "cell_type": "markdown",
      "id": "dd9ab460",
      "metadata": {
        "id": "dd9ab460"
      },
      "source": [
        "We can also use comprehensions to perform operations, and the lists we assemble can be composed of any type of Python object. For example:\n",
        "\n"
      ]
    },
    {
      "cell_type": "code",
      "execution_count": 3,
      "id": "cec5835c",
      "metadata": {
        "id": "cec5835c",
        "outputId": "38864d97-01dc-4f34-d00f-744362451ca5",
        "colab": {
          "base_uri": "https://localhost:8080/"
        }
      },
      "outputs": [
        {
          "output_type": "stream",
          "name": "stdout",
          "text": [
            "[('length', 8), ('length', 6), ('length', 8), ('length', 10)]\n"
          ]
        }
      ],
      "source": [
        ">>> names = [\"Nina\", \"Max\", \"Rose\", \"Jimmy\"]\n",
        ">>> my_list = [(\"length\", len(name) * 2) for name in names]\n",
        ">>> print(my_list)"
      ]
    },
    {
      "cell_type": "markdown",
      "id": "da04fb7b",
      "metadata": {
        "id": "da04fb7b"
      },
      "source": [
        "In the above example, we assemble a list of tuples - each tuple contains the element “length” as well as each number from the len() function multiplied by two.\n",
        "\n"
      ]
    },
    {
      "cell_type": "code",
      "execution_count": 4,
      "id": "72edbb6c",
      "metadata": {
        "id": "72edbb6c",
        "outputId": "300ed327-08da-4a64-b72e-d012dabba719",
        "colab": {
          "base_uri": "https://localhost:8080/"
        }
      },
      "outputs": [
        {
          "output_type": "stream",
          "name": "stdout",
          "text": [
            "[4, 4]\n"
          ]
        }
      ],
      "source": [
        ">>> names = [\"Nina\", \"Max\", \"Rose\", \"Jimmy\"]\n",
        ">>> my_list = [len(name) for name in names if len(name) % 2 == 0]\n",
        ">>> print(my_list)"
      ]
    },
    {
      "cell_type": "markdown",
      "id": "7af5669b",
      "metadata": {
        "id": "7af5669b"
      },
      "source": [
        "Here, we check divide every string length by 2, and check to see if the remainder is 0 (using the modulo operator).\n",
        "\n"
      ]
    },
    {
      "cell_type": "markdown",
      "id": "2f72a527",
      "metadata": {
        "id": "2f72a527"
      },
      "source": [
        "Unfortunately, you can’t join a list of numbers without first converting them to strings. But you can do this easily with a list comprehension:"
      ]
    },
    {
      "cell_type": "code",
      "execution_count": 5,
      "id": "7be39b75",
      "metadata": {
        "id": "7be39b75",
        "outputId": "6d84e4c8-ab38-431b-a555-d6a98e823f70",
        "colab": {
          "base_uri": "https://localhost:8080/"
        }
      },
      "outputs": [
        {
          "output_type": "stream",
          "name": "stdout",
          "text": [
            "0,1,2,3,4\n"
          ]
        }
      ],
      "source": [
        ">>> my_list = [0, 1, 2, 3, 4]\n",
        ">>> my_string = \",\".join([str(num) for num in my_list])\n",
        ">>> print(my_string)"
      ]
    },
    {
      "cell_type": "markdown",
      "id": "bd204dc7",
      "metadata": {
        "id": "bd204dc7"
      },
      "source": [
        "### sum, min, max\n",
        "Some mathematical functions, such as sum, min, and max, accept lists of numbers to operate on. For example, to get the sum of numbers between zero and five, you could do:"
      ]
    },
    {
      "cell_type": "code",
      "execution_count": 6,
      "id": "06b290f8",
      "metadata": {
        "id": "06b290f8",
        "outputId": "67cf701a-96b1-40be-f170-f706735f755d",
        "colab": {
          "base_uri": "https://localhost:8080/"
        }
      },
      "outputs": [
        {
          "output_type": "stream",
          "name": "stdout",
          "text": [
            "10\n"
          ]
        }
      ],
      "source": [
        "my_sum = sum([0, 1, 2, 3, 4])\n",
        "print(my_sum)"
      ]
    },
    {
      "cell_type": "markdown",
      "id": "7391c921",
      "metadata": {
        "id": "7391c921"
      },
      "source": [
        "But remember, anywhere you can use a list, you can use a list comprehension. Say you want to get sum, minimum, and maximum of every number between 0 and 100 that is evenly divisible by 3? No sense typing out a whole list in advance, just use a comprehension:"
      ]
    },
    {
      "cell_type": "code",
      "execution_count": 7,
      "id": "d428fdbf",
      "metadata": {
        "id": "d428fdbf",
        "outputId": "16e9abf2-e57a-4cd9-e881-3b565280508f",
        "colab": {
          "base_uri": "https://localhost:8080/"
        }
      },
      "outputs": [
        {
          "output_type": "stream",
          "name": "stdout",
          "text": [
            "1683\n"
          ]
        }
      ],
      "source": [
        ">>> my_sum = sum([num for num in range(0, 100) if num % 3 == 0])\n",
        ">>> print(my_sum)"
      ]
    },
    {
      "cell_type": "code",
      "execution_count": 8,
      "id": "3d4bdaf5",
      "metadata": {
        "id": "3d4bdaf5",
        "outputId": "c20ddaaf-38a4-4217-bda9-04fbc53fe4bb",
        "colab": {
          "base_uri": "https://localhost:8080/"
        }
      },
      "outputs": [
        {
          "output_type": "stream",
          "name": "stdout",
          "text": [
            "0\n"
          ]
        }
      ],
      "source": [
        ">>> my_min = min([num for num in range(0, 100) if num % 3 == 0])\n",
        ">>> print(my_min)\n"
      ]
    },
    {
      "cell_type": "code",
      "execution_count": 9,
      "id": "4d2ff4a1",
      "metadata": {
        "id": "4d2ff4a1",
        "outputId": "dd4183fd-7a02-42eb-b39f-a309d2d51d49",
        "colab": {
          "base_uri": "https://localhost:8080/"
        }
      },
      "outputs": [
        {
          "output_type": "stream",
          "name": "stdout",
          "text": [
            "99\n"
          ]
        }
      ],
      "source": [
        ">>> my_max = max([num for num in range(0, 100) if num % 3 == 0])\n",
        ">>> print(my_max)"
      ]
    },
    {
      "cell_type": "markdown",
      "id": "d70a5d7f",
      "metadata": {
        "id": "d70a5d7f"
      },
      "source": [
        "## Dictionary Comprehensions\n",
        "Dictionary comprehensions are a quick and easy way of assembling dictionaries in Python. They work just like list comprehensions, and look almost the same. They use curly braces instead of square brackets, and they contain two variables (for key and value), separated by a colon.\n",
        "\n",
        "For example, to assemble a dict in which the keys are numbers between 0 and 10, and the values are the same number squared, we could do:"
      ]
    },
    {
      "cell_type": "code",
      "execution_count": 10,
      "id": "a2940004",
      "metadata": {
        "id": "a2940004",
        "outputId": "4411e508-319f-4a73-cf22-e8e69ff44d6d",
        "colab": {
          "base_uri": "https://localhost:8080/"
        }
      },
      "outputs": [
        {
          "output_type": "stream",
          "name": "stdout",
          "text": [
            "{0: 0, 1: 1, 2: 4, 3: 9, 4: 16, 5: 25, 6: 36, 7: 49, 8: 64, 9: 81}\n"
          ]
        }
      ],
      "source": [
        ">>> squares = {num:num * num for num in range(10)}\n",
        ">>> print(squares)"
      ]
    },
    {
      "cell_type": "markdown",
      "id": "86aebf99",
      "metadata": {
        "id": "86aebf99"
      },
      "source": [
        "Or we could use f-strings to assemble a dict to keep game scores:\n"
      ]
    },
    {
      "cell_type": "code",
      "execution_count": 11,
      "id": "af01375d",
      "metadata": {
        "id": "af01375d",
        "outputId": "f3ddb5f7-c664-43ee-87c9-7f916f36c7bd",
        "colab": {
          "base_uri": "https://localhost:8080/"
        }
      },
      "outputs": [
        {
          "output_type": "stream",
          "name": "stdout",
          "text": [
            "{'player-0': 0, 'player-1': 0, 'player-2': 0, 'player-3': 0, 'player-4': 0}\n"
          ]
        }
      ],
      "source": [
        ">>> scores = {f\"player-{num}\":0 for num in range(0, 5)}\n",
        ">>> print(scores)"
      ]
    },
    {
      "cell_type": "markdown",
      "id": "2e01f2db",
      "metadata": {
        "id": "2e01f2db"
      },
      "source": [
        "In the above example, the f-string gets turned into the dict keys (player-0, etc.) and each value is set to 0. You can also operate on tuples for setting keys and values. For example, we’ll use a list comprehension to create a list of tuples, then turn the tuples into dict keys and values:"
      ]
    },
    {
      "cell_type": "code",
      "execution_count": 12,
      "id": "eedf9529",
      "metadata": {
        "id": "eedf9529",
        "outputId": "9498d547-192c-40fc-fb6e-7803404fe71a",
        "colab": {
          "base_uri": "https://localhost:8080/"
        }
      },
      "outputs": [
        {
          "output_type": "stream",
          "name": "stdout",
          "text": [
            "[('player-0', 0), ('player-1', 2), ('player-2', 4), ('player-3', 6), ('player-4', 8)]\n"
          ]
        }
      ],
      "source": [
        ">>> my_list = [(f\"player-{num}\", num * 2) for num in range(0, 5)]\n",
        ">>> print(my_list)"
      ]
    },
    {
      "cell_type": "code",
      "execution_count": 13,
      "id": "72c47a15",
      "metadata": {
        "id": "72c47a15",
        "outputId": "90c09937-4c2d-43e3-f703-bca5b600f9f0",
        "colab": {
          "base_uri": "https://localhost:8080/"
        }
      },
      "outputs": [
        {
          "output_type": "stream",
          "name": "stdout",
          "text": [
            "{'player-0': 0, 'player-1': 2, 'player-2': 4, 'player-3': 6, 'player-4': 8}\n"
          ]
        }
      ],
      "source": [
        ">>> scores = {key:value for (key, value) in my_list}\n",
        ">>> print(scores)"
      ]
    },
    {
      "cell_type": "markdown",
      "id": "58317f58",
      "metadata": {
        "id": "58317f58"
      },
      "source": [
        "## task \n",
        "Let’s practice our comprehensions. Create a list of only odd numbers between 0 and 100 using a list comprehension. Then, use a comprehension to create a dictionary where the keys are the even numbers from your list, and the values are random integers between 0 and 100 (hint: try random.randint(min, max)). Finally, use a comprehension to create a set of every unique value from the above dictionary."
      ]
    },
    {
      "cell_type": "code",
      "execution_count": 28,
      "id": "2e2755a7",
      "metadata": {
        "id": "2e2755a7",
        "outputId": "451d490c-01db-40df-ae3b-3d165dd6aff9",
        "colab": {
          "base_uri": "https://localhost:8080/"
        }
      },
      "outputs": [
        {
          "output_type": "execute_result",
          "data": {
            "text/plain": [
              "7"
            ]
          },
          "metadata": {},
          "execution_count": 28
        }
      ],
      "source": [
        "import random\n",
        "random.randint(5, 10)"
      ]
    },
    {
      "cell_type": "code",
      "source": [
        "my_list = [(random.randint(1, 50)*2, random.randint(1, 50)*2-1) for num in range(0, 10)]\n",
        "scores = {key:value for (key, value) in my_list}\n",
        "print(scores)\n",
        "set(scores)"
      ],
      "metadata": {
        "id": "BiX8CBwkokn-",
        "outputId": "62ee7cfe-0acc-44f9-d378-5b168c82b31b",
        "colab": {
          "base_uri": "https://localhost:8080/"
        }
      },
      "id": "BiX8CBwkokn-",
      "execution_count": 35,
      "outputs": [
        {
          "output_type": "stream",
          "name": "stdout",
          "text": [
            "{24: 39, 70: 83, 68: 89, 12: 87, 4: 35, 94: 41, 18: 85, 30: 75, 50: 59}\n"
          ]
        },
        {
          "output_type": "execute_result",
          "data": {
            "text/plain": [
              "{4, 12, 18, 24, 30, 50, 68, 70, 94}"
            ]
          },
          "metadata": {},
          "execution_count": 35
        }
      ]
    },
    {
      "cell_type": "markdown",
      "id": "5827d194",
      "metadata": {
        "id": "5827d194"
      },
      "source": [
        "## Set Comprehensions\n",
        "Set comprehensions are another great operation in Python - they look like a cross between list and dict comprehensions, and they create set objects.\n",
        "\n",
        "For example:"
      ]
    },
    {
      "cell_type": "code",
      "execution_count": 15,
      "id": "5f31ca93",
      "metadata": {
        "id": "5f31ca93",
        "outputId": "f4e73c0c-691c-40f1-eade-64af48f6360c",
        "colab": {
          "base_uri": "https://localhost:8080/"
        }
      },
      "outputs": [
        {
          "output_type": "stream",
          "name": "stdout",
          "text": [
            "{0, 1, 2, 3}\n"
          ]
        }
      ],
      "source": [
        ">>> my_set = {num for num in [1, 2, 1, 0, 3]}\n",
        ">>> print(my_set)"
      ]
    },
    {
      "cell_type": "markdown",
      "id": "cb788a04",
      "metadata": {
        "id": "cb788a04"
      },
      "source": [
        "Notice that instead of returning the same list of numbers (as num for num would have done in a list comprehension), you instead get a set (note the curly braces) of unique numbers from the list (you only get one 1)."
      ]
    },
    {
      "cell_type": "markdown",
      "id": "1d325f3c",
      "metadata": {
        "id": "1d325f3c"
      },
      "source": [
        "## Generator Expressions\n",
        "Generator expressions are a little more advanced. A generator is a type of iterable object - like a list, you can iterate through each element - however, unlike a list, generators evaluate elements on demand, instead of assembling them all at once.\n",
        "\n",
        "A generator comprehension looks just like a list comprehension, except we use parenthesis instead of brackets. For example, to get a list of the square of every even number between 0 and 10, we could do:"
      ]
    },
    {
      "cell_type": "code",
      "execution_count": 16,
      "id": "53eeebdf",
      "metadata": {
        "id": "53eeebdf",
        "outputId": "9b983e47-3231-4fcc-c102-918323cba65e",
        "colab": {
          "base_uri": "https://localhost:8080/"
        }
      },
      "outputs": [
        {
          "output_type": "stream",
          "name": "stdout",
          "text": [
            "[0, 4, 16, 36, 64]\n"
          ]
        }
      ],
      "source": [
        "# List comprehension\n",
        ">>> list_comp = [x ** 2 for x in range(10) if x % 2 == 0]\n",
        ">>> print(list_comp)"
      ]
    },
    {
      "cell_type": "code",
      "execution_count": 17,
      "id": "80ebe4cb",
      "metadata": {
        "id": "80ebe4cb",
        "outputId": "d9c918e9-a4cb-451e-a491-eb782d50b9d7",
        "colab": {
          "base_uri": "https://localhost:8080/"
        }
      },
      "outputs": [
        {
          "output_type": "stream",
          "name": "stdout",
          "text": [
            "<generator object <genexpr> at 0x7f0ce5531eb0>\n"
          ]
        }
      ],
      "source": [
        "# Generator expression\n",
        ">>> gen_exp = (x ** 2 for x in range(10) if x % 2 == 0)\n",
        ">>> print(gen_exp)"
      ]
    },
    {
      "cell_type": "code",
      "execution_count": 18,
      "id": "ba94fc60",
      "metadata": {
        "id": "ba94fc60",
        "outputId": "e417329a-bd7c-4c3d-f9a9-8bf211ebb5ea",
        "colab": {
          "base_uri": "https://localhost:8080/"
        }
      },
      "outputs": [
        {
          "output_type": "stream",
          "name": "stdout",
          "text": [
            "0\n",
            "4\n",
            "16\n",
            "36\n",
            "64\n"
          ]
        }
      ],
      "source": [
        ">>> for num in gen_exp:\n",
        "...     print(num)"
      ]
    },
    {
      "cell_type": "markdown",
      "id": "5e3f34a8",
      "metadata": {
        "id": "5e3f34a8"
      },
      "source": [
        "Generator comprehensions can be beneficial in circumstances where you want to iterate over very large lists without storing the entire list in memory. For example, if you tried to assemble a list of every number between 0 and 10 ** 8 (10 to the 8th power), Python will try to assemble the entire list in memory. Using the timeit library to create this list only once, we can see how long this takes:"
      ]
    },
    {
      "cell_type": "code",
      "execution_count": 19,
      "id": "4f497789",
      "metadata": {
        "id": "4f497789",
        "outputId": "249e59a9-13b5-4364-cf31-19529766bc3f",
        "colab": {
          "base_uri": "https://localhost:8080/"
        }
      },
      "outputs": [
        {
          "output_type": "execute_result",
          "data": {
            "text/plain": [
              "7.030757112"
            ]
          },
          "metadata": {},
          "execution_count": 19
        }
      ],
      "source": [
        "list_comp = \"[num for num in range(0, 10 ** 8)]\"\n",
        "import timeit\n",
        "timeit.timeit(list_comp, number=1)"
      ]
    },
    {
      "cell_type": "code",
      "execution_count": 20,
      "id": "66f91ea4",
      "metadata": {
        "id": "66f91ea4",
        "outputId": "9acaa631-c8c6-4c9b-af41-bb94ebe30009",
        "colab": {
          "base_uri": "https://localhost:8080/"
        }
      },
      "outputs": [
        {
          "output_type": "execute_result",
          "data": {
            "text/plain": [
              "4.111000002637866e-06"
            ]
          },
          "metadata": {},
          "execution_count": 20
        }
      ],
      "source": [
        "# Over 5.7 seconds just to assemble one huge list\n",
        "# Let's do the same with a generator comprehension instead:\n",
        "gen_comp = \"(num for num in range(0, 10 ** 8))\"\n",
        "timeit.timeit(gen_comp, number=1)"
      ]
    },
    {
      "cell_type": "code",
      "execution_count": 21,
      "id": "ed6b50d6",
      "metadata": {
        "id": "ed6b50d6",
        "outputId": "d5c70414-d7a1-489d-9b1a-0cf030515d31",
        "colab": {
          "base_uri": "https://localhost:8080/"
        }
      },
      "outputs": [
        {
          "output_type": "execute_result",
          "data": {
            "text/plain": [
              "4.400416618000001"
            ]
          },
          "metadata": {},
          "execution_count": 21
        }
      ],
      "source": [
        "timeit.timeit(gen_comp, number=10000000)"
      ]
    },
    {
      "cell_type": "markdown",
      "id": "2d4d59f7",
      "metadata": {
        "id": "2d4d59f7"
      },
      "source": [
        "As you can see, assembling the generator is almost instantaneous, in fact we can run the generator expression over 10 million times in less time than it takes to assemble the full list once, and the generator will take far less memory."
      ]
    },
    {
      "cell_type": "markdown",
      "id": "45d27392",
      "metadata": {
        "id": "45d27392"
      },
      "source": [
        "## THE ZIP FUNCTION\n"
      ]
    },
    {
      "cell_type": "markdown",
      "id": "c956970f",
      "metadata": {
        "id": "c956970f"
      },
      "source": [
        "It’s often necessary to iterate over multiple lists simultaneously. Suppose we’re keeping score of a game and we have two lists, one for names and one for scores:\n",
        "\n"
      ]
    },
    {
      "cell_type": "code",
      "execution_count": 22,
      "id": "7e3d994b",
      "metadata": {
        "id": "7e3d994b"
      },
      "outputs": [],
      "source": [
        ">>> names = [\"Bob\", \"Alice\", \"Eve\"]\n",
        ">>> scores = [42, 97, 68]"
      ]
    },
    {
      "cell_type": "markdown",
      "id": "5ea8f23e",
      "metadata": {
        "id": "5ea8f23e"
      },
      "source": [
        "The zip function takes any number of iterable arguments and steps through all of them at the same time until the end of the shortest iterable has been reached:\n",
        "\n"
      ]
    },
    {
      "cell_type": "code",
      "execution_count": 23,
      "id": "7507618d",
      "metadata": {
        "id": "7507618d",
        "outputId": "7b7951ff-6122-4671-f504-8ffc92394eda",
        "colab": {
          "base_uri": "https://localhost:8080/"
        }
      },
      "outputs": [
        {
          "output_type": "stream",
          "name": "stdout",
          "text": [
            "Bob had a score of 42.\n",
            "Alice had a score of 97.\n",
            "Eve had a score of 68.\n"
          ]
        }
      ],
      "source": [
        ">>> for name, score in zip(names, scores):\n",
        ">>>     print(f\"{name} had a score of {score}.\")\n"
      ]
    },
    {
      "cell_type": "markdown",
      "id": "d2d26bca",
      "metadata": {
        "id": "d2d26bca"
      },
      "source": [
        "What will the above loop print after removing the last element from scores?\n",
        "\n"
      ]
    },
    {
      "cell_type": "code",
      "execution_count": 24,
      "id": "3575e022",
      "metadata": {
        "id": "3575e022",
        "outputId": "95e42fe9-642b-4196-dc31-6d16d3e7a70b",
        "colab": {
          "base_uri": "https://localhost:8080/"
        }
      },
      "outputs": [
        {
          "output_type": "execute_result",
          "data": {
            "text/plain": [
              "68"
            ]
          },
          "metadata": {},
          "execution_count": 24
        }
      ],
      "source": [
        ">>> scores.pop(-1)"
      ]
    },
    {
      "cell_type": "code",
      "execution_count": 25,
      "id": "a40f0045",
      "metadata": {
        "id": "a40f0045",
        "outputId": "6dcf8a8b-70b1-4d03-a94e-3bb7b8e385be",
        "colab": {
          "base_uri": "https://localhost:8080/"
        }
      },
      "outputs": [
        {
          "output_type": "stream",
          "name": "stdout",
          "text": [
            "Bob had a score of 42.\n",
            "Alice had a score of 97.\n"
          ]
        }
      ],
      "source": [
        "68\n",
        ">>> for name, score in zip(names, scores):\n",
        ">>>     print(f\"{name} had a score of {score}.\")"
      ]
    },
    {
      "cell_type": "markdown",
      "id": "1876b531",
      "metadata": {
        "id": "1876b531"
      },
      "source": [
        "The loop terminates even though there are more values in names. Here, Eve isn’t included because scores only has two elements.\n",
        "\n",
        "We can also use zip() to quickly and easily create a dict from two lists. For example:"
      ]
    },
    {
      "cell_type": "code",
      "execution_count": 26,
      "id": "3044c108",
      "metadata": {
        "id": "3044c108",
        "outputId": "4efb5bde-e6f3-4367-89b8-943dcf6cfcf0",
        "colab": {
          "base_uri": "https://localhost:8080/"
        }
      },
      "outputs": [
        {
          "output_type": "stream",
          "name": "stdout",
          "text": [
            "{'Bob': 42, 'Alice': 97, 'Eve': 68}\n"
          ]
        }
      ],
      "source": [
        ">>> scores = [42, 97, 68]\n",
        ">>> score_dict = dict(zip(names, scores))\n",
        ">>> print(score_dict)"
      ]
    },
    {
      "cell_type": "markdown",
      "id": "7e458cc3",
      "metadata": {
        "id": "7e458cc3"
      },
      "source": [
        "## Task 2"
      ]
    },
    {
      "cell_type": "markdown",
      "id": "7de1e7f9",
      "metadata": {
        "id": "7de1e7f9"
      },
      "source": [
        "Make a list of all the names you can think of, called “names”. Make a second list of numbers, called “scores”, using a list comprehension and random.randint(min, max) as before. Use the first list in your comprehension to make it the same length. Then, use zip() to output a simple scoreboard of one score per name."
      ]
    },
    {
      "cell_type": "code",
      "execution_count": 45,
      "id": "e8d39b70",
      "metadata": {
        "id": "e8d39b70",
        "outputId": "d5ed53c6-9c83-453c-abce-a2b2829b9f8a",
        "colab": {
          "base_uri": "https://localhost:8080/"
        }
      },
      "outputs": [
        {
          "output_type": "stream",
          "name": "stdout",
          "text": [
            "{'Nina': 8, 'Max': 7, 'Floyd': 9, 'Lloyd': 8, 'Vika': 10, 'Anna': 8, 'Cate': 8, 'Michael': 9, 'Red': 8, 'White': 6}\n"
          ]
        }
      ],
      "source": [
        "names = [\"Nina\", \"Max\", \"Floyd\", \"Lloyd\", \"Vika\", \"Anna\", \"Cate\", \"Michael\", \"Red\", \"White\"]\n",
        "scores = [random.randint(6, 10) for i in range (len(names))]\n",
        "score_dict = dict(zip(names, scores))\n",
        "print(score_dict)"
      ]
    }
  ],
  "metadata": {
    "kernelspec": {
      "display_name": "Python 3",
      "language": "python",
      "name": "python3"
    },
    "language_info": {
      "codemirror_mode": {
        "name": "ipython",
        "version": 3
      },
      "file_extension": ".py",
      "mimetype": "text/x-python",
      "name": "python",
      "nbconvert_exporter": "python",
      "pygments_lexer": "ipython3",
      "version": "3.8.8"
    },
    "colab": {
      "provenance": []
    }
  },
  "nbformat": 4,
  "nbformat_minor": 5
}